{
 "cells": [
  {
   "cell_type": "code",
   "execution_count": 1,
   "id": "a798186e-700d-4707-8b45-ec3f28b7dd84",
   "metadata": {},
   "outputs": [],
   "source": [
    "import numpy as np\n",
    "import pandas as pd "
   ]
  },
  {
   "cell_type": "code",
   "execution_count": 2,
   "id": "ce2389a1-ed92-48d0-8fc0-96dff14901ad",
   "metadata": {},
   "outputs": [],
   "source": [
    "dict1 = {\n",
    "    \"name\" : [\"Harry\", \"Rohan\", \"Skillf\", \"Shubh\"],\n",
    "    \"mark\" : [92, 34, 24, 17],\n",
    "    \"city\" : [\"Ramput\", \"Kolkata\", \"Bareilly\", \"Antarctica\"]\n",
    "}"
   ]
  },
  {
   "cell_type": "code",
   "execution_count": 3,
   "id": "543592c1-cc83-4dc7-b4ce-0410cc7dfe07",
   "metadata": {},
   "outputs": [],
   "source": [
    "df = pd.DataFrame(dict1)"
   ]
  },
  {
   "cell_type": "code",
   "execution_count": 4,
   "id": "350f875b-2843-4d98-8e2c-58273bdba5eb",
   "metadata": {},
   "outputs": [
    {
     "data": {
      "text/html": [
       "<div>\n",
       "<style scoped>\n",
       "    .dataframe tbody tr th:only-of-type {\n",
       "        vertical-align: middle;\n",
       "    }\n",
       "\n",
       "    .dataframe tbody tr th {\n",
       "        vertical-align: top;\n",
       "    }\n",
       "\n",
       "    .dataframe thead th {\n",
       "        text-align: right;\n",
       "    }\n",
       "</style>\n",
       "<table border=\"1\" class=\"dataframe\">\n",
       "  <thead>\n",
       "    <tr style=\"text-align: right;\">\n",
       "      <th></th>\n",
       "      <th>name</th>\n",
       "      <th>mark</th>\n",
       "      <th>city</th>\n",
       "    </tr>\n",
       "  </thead>\n",
       "  <tbody>\n",
       "    <tr>\n",
       "      <th>0</th>\n",
       "      <td>Harry</td>\n",
       "      <td>92</td>\n",
       "      <td>Ramput</td>\n",
       "    </tr>\n",
       "    <tr>\n",
       "      <th>1</th>\n",
       "      <td>Rohan</td>\n",
       "      <td>34</td>\n",
       "      <td>Kolkata</td>\n",
       "    </tr>\n",
       "    <tr>\n",
       "      <th>2</th>\n",
       "      <td>Skillf</td>\n",
       "      <td>24</td>\n",
       "      <td>Bareilly</td>\n",
       "    </tr>\n",
       "    <tr>\n",
       "      <th>3</th>\n",
       "      <td>Shubh</td>\n",
       "      <td>17</td>\n",
       "      <td>Antarctica</td>\n",
       "    </tr>\n",
       "  </tbody>\n",
       "</table>\n",
       "</div>"
      ],
      "text/plain": [
       "     name  mark        city\n",
       "0   Harry    92      Ramput\n",
       "1   Rohan    34     Kolkata\n",
       "2  Skillf    24    Bareilly\n",
       "3   Shubh    17  Antarctica"
      ]
     },
     "execution_count": 4,
     "metadata": {},
     "output_type": "execute_result"
    }
   ],
   "source": [
    "df"
   ]
  },
  {
   "cell_type": "code",
   "execution_count": 5,
   "id": "d568e4a5-21a7-4928-aad5-4525b4714c47",
   "metadata": {},
   "outputs": [],
   "source": [
    "df.to_csv(\"friends.csv\") # used to convert into a csv file "
   ]
  },
  {
   "cell_type": "code",
   "execution_count": 6,
   "id": "c5d655c3-ff26-4f83-a868-76a572511384",
   "metadata": {},
   "outputs": [],
   "source": [
    "df.to_csv(\"friends_index_false.csv\", index = False) # used to remove index from my csv file "
   ]
  },
  {
   "cell_type": "code",
   "execution_count": 7,
   "id": "31458dec-ba3b-4435-b275-e3cbcef0e2cf",
   "metadata": {},
   "outputs": [
    {
     "data": {
      "text/html": [
       "<div>\n",
       "<style scoped>\n",
       "    .dataframe tbody tr th:only-of-type {\n",
       "        vertical-align: middle;\n",
       "    }\n",
       "\n",
       "    .dataframe tbody tr th {\n",
       "        vertical-align: top;\n",
       "    }\n",
       "\n",
       "    .dataframe thead th {\n",
       "        text-align: right;\n",
       "    }\n",
       "</style>\n",
       "<table border=\"1\" class=\"dataframe\">\n",
       "  <thead>\n",
       "    <tr style=\"text-align: right;\">\n",
       "      <th></th>\n",
       "      <th>name</th>\n",
       "      <th>mark</th>\n",
       "      <th>city</th>\n",
       "    </tr>\n",
       "  </thead>\n",
       "  <tbody>\n",
       "    <tr>\n",
       "      <th>0</th>\n",
       "      <td>Harry</td>\n",
       "      <td>92</td>\n",
       "      <td>Ramput</td>\n",
       "    </tr>\n",
       "    <tr>\n",
       "      <th>1</th>\n",
       "      <td>Rohan</td>\n",
       "      <td>34</td>\n",
       "      <td>Kolkata</td>\n",
       "    </tr>\n",
       "  </tbody>\n",
       "</table>\n",
       "</div>"
      ],
      "text/plain": [
       "    name  mark     city\n",
       "0  Harry    92   Ramput\n",
       "1  Rohan    34  Kolkata"
      ]
     },
     "execution_count": 7,
     "metadata": {},
     "output_type": "execute_result"
    }
   ],
   "source": [
    "df.head(2) # show only two rows of starting "
   ]
  },
  {
   "cell_type": "code",
   "execution_count": 8,
   "id": "3b8a847a-d5cb-44c9-8f01-a160ca7b82ab",
   "metadata": {},
   "outputs": [
    {
     "data": {
      "text/html": [
       "<div>\n",
       "<style scoped>\n",
       "    .dataframe tbody tr th:only-of-type {\n",
       "        vertical-align: middle;\n",
       "    }\n",
       "\n",
       "    .dataframe tbody tr th {\n",
       "        vertical-align: top;\n",
       "    }\n",
       "\n",
       "    .dataframe thead th {\n",
       "        text-align: right;\n",
       "    }\n",
       "</style>\n",
       "<table border=\"1\" class=\"dataframe\">\n",
       "  <thead>\n",
       "    <tr style=\"text-align: right;\">\n",
       "      <th></th>\n",
       "      <th>name</th>\n",
       "      <th>mark</th>\n",
       "      <th>city</th>\n",
       "    </tr>\n",
       "  </thead>\n",
       "  <tbody>\n",
       "    <tr>\n",
       "      <th>2</th>\n",
       "      <td>Skillf</td>\n",
       "      <td>24</td>\n",
       "      <td>Bareilly</td>\n",
       "    </tr>\n",
       "    <tr>\n",
       "      <th>3</th>\n",
       "      <td>Shubh</td>\n",
       "      <td>17</td>\n",
       "      <td>Antarctica</td>\n",
       "    </tr>\n",
       "  </tbody>\n",
       "</table>\n",
       "</div>"
      ],
      "text/plain": [
       "     name  mark        city\n",
       "2  Skillf    24    Bareilly\n",
       "3   Shubh    17  Antarctica"
      ]
     },
     "execution_count": 8,
     "metadata": {},
     "output_type": "execute_result"
    }
   ],
   "source": [
    "df.tail(2) #shows last two rows from end "
   ]
  },
  {
   "cell_type": "code",
   "execution_count": 9,
   "id": "a803efc5-17f6-4265-983a-6999bc1099e4",
   "metadata": {},
   "outputs": [
    {
     "data": {
      "text/html": [
       "<div>\n",
       "<style scoped>\n",
       "    .dataframe tbody tr th:only-of-type {\n",
       "        vertical-align: middle;\n",
       "    }\n",
       "\n",
       "    .dataframe tbody tr th {\n",
       "        vertical-align: top;\n",
       "    }\n",
       "\n",
       "    .dataframe thead th {\n",
       "        text-align: right;\n",
       "    }\n",
       "</style>\n",
       "<table border=\"1\" class=\"dataframe\">\n",
       "  <thead>\n",
       "    <tr style=\"text-align: right;\">\n",
       "      <th></th>\n",
       "      <th>mark</th>\n",
       "    </tr>\n",
       "  </thead>\n",
       "  <tbody>\n",
       "    <tr>\n",
       "      <th>count</th>\n",
       "      <td>4.00000</td>\n",
       "    </tr>\n",
       "    <tr>\n",
       "      <th>mean</th>\n",
       "      <td>41.75000</td>\n",
       "    </tr>\n",
       "    <tr>\n",
       "      <th>std</th>\n",
       "      <td>34.21866</td>\n",
       "    </tr>\n",
       "    <tr>\n",
       "      <th>min</th>\n",
       "      <td>17.00000</td>\n",
       "    </tr>\n",
       "    <tr>\n",
       "      <th>25%</th>\n",
       "      <td>22.25000</td>\n",
       "    </tr>\n",
       "    <tr>\n",
       "      <th>50%</th>\n",
       "      <td>29.00000</td>\n",
       "    </tr>\n",
       "    <tr>\n",
       "      <th>75%</th>\n",
       "      <td>48.50000</td>\n",
       "    </tr>\n",
       "    <tr>\n",
       "      <th>max</th>\n",
       "      <td>92.00000</td>\n",
       "    </tr>\n",
       "  </tbody>\n",
       "</table>\n",
       "</div>"
      ],
      "text/plain": [
       "           mark\n",
       "count   4.00000\n",
       "mean   41.75000\n",
       "std    34.21866\n",
       "min    17.00000\n",
       "25%    22.25000\n",
       "50%    29.00000\n",
       "75%    48.50000\n",
       "max    92.00000"
      ]
     },
     "execution_count": 9,
     "metadata": {},
     "output_type": "execute_result"
    }
   ],
   "source": [
    "df.describe() "
   ]
  },
  {
   "cell_type": "code",
   "execution_count": 10,
   "id": "406e60a4-cab9-449e-b911-8338ab3bbbd0",
   "metadata": {},
   "outputs": [],
   "source": [
    "harry = pd.read_csv(\"harry.csv\")"
   ]
  },
  {
   "cell_type": "code",
   "execution_count": 11,
   "id": "f6ae8690-96b8-401e-bc76-6dd278cbbf1b",
   "metadata": {},
   "outputs": [
    {
     "data": {
      "text/html": [
       "<div>\n",
       "<style scoped>\n",
       "    .dataframe tbody tr th:only-of-type {\n",
       "        vertical-align: middle;\n",
       "    }\n",
       "\n",
       "    .dataframe tbody tr th {\n",
       "        vertical-align: top;\n",
       "    }\n",
       "\n",
       "    .dataframe thead th {\n",
       "        text-align: right;\n",
       "    }\n",
       "</style>\n",
       "<table border=\"1\" class=\"dataframe\">\n",
       "  <thead>\n",
       "    <tr style=\"text-align: right;\">\n",
       "      <th></th>\n",
       "      <th>Unnamed: 0.3</th>\n",
       "      <th>Unnamed: 0.2</th>\n",
       "      <th>Unnamed: 0.1</th>\n",
       "      <th>Unnamed: 0</th>\n",
       "      <th>Train No.</th>\n",
       "      <th>Speed</th>\n",
       "      <th>City</th>\n",
       "    </tr>\n",
       "  </thead>\n",
       "  <tbody>\n",
       "    <tr>\n",
       "      <th>0</th>\n",
       "      <td>0</td>\n",
       "      <td>0</td>\n",
       "      <td>0</td>\n",
       "      <td>0</td>\n",
       "      <td>12345</td>\n",
       "      <td>89</td>\n",
       "      <td>Rampur</td>\n",
       "    </tr>\n",
       "    <tr>\n",
       "      <th>1</th>\n",
       "      <td>1</td>\n",
       "      <td>1</td>\n",
       "      <td>1</td>\n",
       "      <td>1</td>\n",
       "      <td>893523</td>\n",
       "      <td>50</td>\n",
       "      <td>Kolkata</td>\n",
       "    </tr>\n",
       "    <tr>\n",
       "      <th>2</th>\n",
       "      <td>2</td>\n",
       "      <td>2</td>\n",
       "      <td>2</td>\n",
       "      <td>2</td>\n",
       "      <td>89323</td>\n",
       "      <td>23</td>\n",
       "      <td>Bareilly</td>\n",
       "    </tr>\n",
       "    <tr>\n",
       "      <th>3</th>\n",
       "      <td>3</td>\n",
       "      <td>3</td>\n",
       "      <td>3</td>\n",
       "      <td>3</td>\n",
       "      <td>923341</td>\n",
       "      <td>87</td>\n",
       "      <td>Antarctica</td>\n",
       "    </tr>\n",
       "  </tbody>\n",
       "</table>\n",
       "</div>"
      ],
      "text/plain": [
       "   Unnamed: 0.3  Unnamed: 0.2  Unnamed: 0.1  Unnamed: 0  Train No.   Speed   \\\n",
       "0             0             0             0           0       12345      89   \n",
       "1             1             1             1           1      893523      50   \n",
       "2             2             2             2           2       89323      23   \n",
       "3             3             3             3           3      923341      87   \n",
       "\n",
       "         City  \n",
       "0      Rampur  \n",
       "1     Kolkata  \n",
       "2    Bareilly  \n",
       "3  Antarctica  "
      ]
     },
     "execution_count": 11,
     "metadata": {},
     "output_type": "execute_result"
    }
   ],
   "source": [
    "harry"
   ]
  },
  {
   "cell_type": "code",
   "execution_count": 12,
   "id": "0dd190b5-c850-468d-941c-010e6e67530b",
   "metadata": {},
   "outputs": [
    {
     "data": {
      "text/plain": [
       "0    89\n",
       "1    50\n",
       "2    23\n",
       "3    87\n",
       "Name: Speed , dtype: int64"
      ]
     },
     "execution_count": 12,
     "metadata": {},
     "output_type": "execute_result"
    }
   ],
   "source": [
    "harry['Speed ']"
   ]
  },
  {
   "cell_type": "code",
   "execution_count": 13,
   "id": "01dd5a8d-2926-4b86-9c72-9a9649dfd6f2",
   "metadata": {},
   "outputs": [
    {
     "data": {
      "text/plain": [
       "50"
      ]
     },
     "execution_count": 13,
     "metadata": {},
     "output_type": "execute_result"
    }
   ],
   "source": [
    "harry[\"Speed \"][1]"
   ]
  },
  {
   "cell_type": "code",
   "execution_count": 14,
   "id": "33208ef8-7f23-47f9-b245-2f4e8978be52",
   "metadata": {},
   "outputs": [
    {
     "name": "stderr",
     "output_type": "stream",
     "text": [
      "C:\\Users\\Nishant Badhautiya\\AppData\\Local\\Temp\\ipykernel_16708\\131759082.py:1: SettingWithCopyWarning: \n",
      "A value is trying to be set on a copy of a slice from a DataFrame\n",
      "\n",
      "See the caveats in the documentation: https://pandas.pydata.org/pandas-docs/stable/user_guide/indexing.html#returning-a-view-versus-a-copy\n",
      "  harry[\"Speed \"][1] = 50\n"
     ]
    }
   ],
   "source": [
    "harry[\"Speed \"][1] = 50"
   ]
  },
  {
   "cell_type": "code",
   "execution_count": 15,
   "id": "a214da13-5153-4d81-87e7-a3c384a95c3e",
   "metadata": {},
   "outputs": [
    {
     "data": {
      "text/html": [
       "<div>\n",
       "<style scoped>\n",
       "    .dataframe tbody tr th:only-of-type {\n",
       "        vertical-align: middle;\n",
       "    }\n",
       "\n",
       "    .dataframe tbody tr th {\n",
       "        vertical-align: top;\n",
       "    }\n",
       "\n",
       "    .dataframe thead th {\n",
       "        text-align: right;\n",
       "    }\n",
       "</style>\n",
       "<table border=\"1\" class=\"dataframe\">\n",
       "  <thead>\n",
       "    <tr style=\"text-align: right;\">\n",
       "      <th></th>\n",
       "      <th>Unnamed: 0.3</th>\n",
       "      <th>Unnamed: 0.2</th>\n",
       "      <th>Unnamed: 0.1</th>\n",
       "      <th>Unnamed: 0</th>\n",
       "      <th>Train No.</th>\n",
       "      <th>Speed</th>\n",
       "      <th>City</th>\n",
       "    </tr>\n",
       "  </thead>\n",
       "  <tbody>\n",
       "    <tr>\n",
       "      <th>0</th>\n",
       "      <td>0</td>\n",
       "      <td>0</td>\n",
       "      <td>0</td>\n",
       "      <td>0</td>\n",
       "      <td>12345</td>\n",
       "      <td>89</td>\n",
       "      <td>Rampur</td>\n",
       "    </tr>\n",
       "    <tr>\n",
       "      <th>1</th>\n",
       "      <td>1</td>\n",
       "      <td>1</td>\n",
       "      <td>1</td>\n",
       "      <td>1</td>\n",
       "      <td>893523</td>\n",
       "      <td>50</td>\n",
       "      <td>Kolkata</td>\n",
       "    </tr>\n",
       "    <tr>\n",
       "      <th>2</th>\n",
       "      <td>2</td>\n",
       "      <td>2</td>\n",
       "      <td>2</td>\n",
       "      <td>2</td>\n",
       "      <td>89323</td>\n",
       "      <td>23</td>\n",
       "      <td>Bareilly</td>\n",
       "    </tr>\n",
       "    <tr>\n",
       "      <th>3</th>\n",
       "      <td>3</td>\n",
       "      <td>3</td>\n",
       "      <td>3</td>\n",
       "      <td>3</td>\n",
       "      <td>923341</td>\n",
       "      <td>87</td>\n",
       "      <td>Antarctica</td>\n",
       "    </tr>\n",
       "  </tbody>\n",
       "</table>\n",
       "</div>"
      ],
      "text/plain": [
       "   Unnamed: 0.3  Unnamed: 0.2  Unnamed: 0.1  Unnamed: 0  Train No.   Speed   \\\n",
       "0             0             0             0           0       12345      89   \n",
       "1             1             1             1           1      893523      50   \n",
       "2             2             2             2           2       89323      23   \n",
       "3             3             3             3           3      923341      87   \n",
       "\n",
       "         City  \n",
       "0      Rampur  \n",
       "1     Kolkata  \n",
       "2    Bareilly  \n",
       "3  Antarctica  "
      ]
     },
     "execution_count": 15,
     "metadata": {},
     "output_type": "execute_result"
    }
   ],
   "source": [
    "harry"
   ]
  },
  {
   "cell_type": "code",
   "execution_count": 16,
   "id": "8eeb525d-4918-49f5-beed-487376815978",
   "metadata": {},
   "outputs": [],
   "source": [
    "harry.to_csv(\"harry.csv\")"
   ]
  },
  {
   "cell_type": "code",
   "execution_count": 17,
   "id": "422f5796-f9b5-4672-b43f-dda8f6c69882",
   "metadata": {},
   "outputs": [],
   "source": [
    "harry.index = ['first', 'second', 'third', 'fourth']"
   ]
  },
  {
   "cell_type": "code",
   "execution_count": 18,
   "id": "45a5eb91-39d6-4e03-a6bb-e6a2ea3fa7d2",
   "metadata": {},
   "outputs": [
    {
     "data": {
      "text/html": [
       "<div>\n",
       "<style scoped>\n",
       "    .dataframe tbody tr th:only-of-type {\n",
       "        vertical-align: middle;\n",
       "    }\n",
       "\n",
       "    .dataframe tbody tr th {\n",
       "        vertical-align: top;\n",
       "    }\n",
       "\n",
       "    .dataframe thead th {\n",
       "        text-align: right;\n",
       "    }\n",
       "</style>\n",
       "<table border=\"1\" class=\"dataframe\">\n",
       "  <thead>\n",
       "    <tr style=\"text-align: right;\">\n",
       "      <th></th>\n",
       "      <th>Unnamed: 0.3</th>\n",
       "      <th>Unnamed: 0.2</th>\n",
       "      <th>Unnamed: 0.1</th>\n",
       "      <th>Unnamed: 0</th>\n",
       "      <th>Train No.</th>\n",
       "      <th>Speed</th>\n",
       "      <th>City</th>\n",
       "    </tr>\n",
       "  </thead>\n",
       "  <tbody>\n",
       "    <tr>\n",
       "      <th>first</th>\n",
       "      <td>0</td>\n",
       "      <td>0</td>\n",
       "      <td>0</td>\n",
       "      <td>0</td>\n",
       "      <td>12345</td>\n",
       "      <td>89</td>\n",
       "      <td>Rampur</td>\n",
       "    </tr>\n",
       "    <tr>\n",
       "      <th>second</th>\n",
       "      <td>1</td>\n",
       "      <td>1</td>\n",
       "      <td>1</td>\n",
       "      <td>1</td>\n",
       "      <td>893523</td>\n",
       "      <td>50</td>\n",
       "      <td>Kolkata</td>\n",
       "    </tr>\n",
       "    <tr>\n",
       "      <th>third</th>\n",
       "      <td>2</td>\n",
       "      <td>2</td>\n",
       "      <td>2</td>\n",
       "      <td>2</td>\n",
       "      <td>89323</td>\n",
       "      <td>23</td>\n",
       "      <td>Bareilly</td>\n",
       "    </tr>\n",
       "    <tr>\n",
       "      <th>fourth</th>\n",
       "      <td>3</td>\n",
       "      <td>3</td>\n",
       "      <td>3</td>\n",
       "      <td>3</td>\n",
       "      <td>923341</td>\n",
       "      <td>87</td>\n",
       "      <td>Antarctica</td>\n",
       "    </tr>\n",
       "  </tbody>\n",
       "</table>\n",
       "</div>"
      ],
      "text/plain": [
       "        Unnamed: 0.3  Unnamed: 0.2  Unnamed: 0.1  Unnamed: 0  Train No.   \\\n",
       "first              0             0             0           0       12345   \n",
       "second             1             1             1           1      893523   \n",
       "third              2             2             2           2       89323   \n",
       "fourth             3             3             3           3      923341   \n",
       "\n",
       "        Speed         City  \n",
       "first       89      Rampur  \n",
       "second      50     Kolkata  \n",
       "third       23    Bareilly  \n",
       "fourth      87  Antarctica  "
      ]
     },
     "execution_count": 18,
     "metadata": {},
     "output_type": "execute_result"
    }
   ],
   "source": [
    "harry"
   ]
  },
  {
   "cell_type": "code",
   "execution_count": null,
   "id": "8315c87c-2aae-49da-a4c4-62fe5e1c6f3d",
   "metadata": {},
   "outputs": [],
   "source": []
  },
  {
   "cell_type": "code",
   "execution_count": null,
   "id": "c7476898-20c8-49cf-b888-c4f60f09d0e6",
   "metadata": {},
   "outputs": [],
   "source": []
  },
  {
   "cell_type": "code",
   "execution_count": null,
   "id": "31d3c15e-2ed3-4b92-a9a3-9b6437453b9f",
   "metadata": {},
   "outputs": [],
   "source": []
  },
  {
   "cell_type": "code",
   "execution_count": null,
   "id": "a86e888b-642a-48df-abb1-8d7aa1f6ebd4",
   "metadata": {},
   "outputs": [],
   "source": []
  },
  {
   "cell_type": "code",
   "execution_count": 19,
   "id": "eb654961-e2d1-439d-bd3a-da94d96c389d",
   "metadata": {},
   "outputs": [],
   "source": [
    "ser = pd.Series(np.random.rand(34))"
   ]
  },
  {
   "cell_type": "code",
   "execution_count": 20,
   "id": "d3f61087-2a05-480a-a9d2-7552cafbb1c6",
   "metadata": {},
   "outputs": [
    {
     "data": {
      "text/plain": [
       "0     0.764573\n",
       "1     0.460900\n",
       "2     0.869964\n",
       "3     0.237331\n",
       "4     0.387234\n",
       "5     0.611745\n",
       "6     0.832104\n",
       "7     0.800377\n",
       "8     0.537253\n",
       "9     0.485395\n",
       "10    0.532805\n",
       "11    0.782162\n",
       "12    0.718253\n",
       "13    0.784867\n",
       "14    0.841619\n",
       "15    0.126679\n",
       "16    0.723993\n",
       "17    0.971735\n",
       "18    0.718423\n",
       "19    0.148009\n",
       "20    0.935046\n",
       "21    0.265675\n",
       "22    0.251831\n",
       "23    0.306986\n",
       "24    0.003535\n",
       "25    0.997844\n",
       "26    0.283466\n",
       "27    0.684407\n",
       "28    0.822752\n",
       "29    0.750393\n",
       "30    0.217988\n",
       "31    0.234859\n",
       "32    0.005722\n",
       "33    0.125523\n",
       "dtype: float64"
      ]
     },
     "execution_count": 20,
     "metadata": {},
     "output_type": "execute_result"
    }
   ],
   "source": [
    "ser"
   ]
  },
  {
   "cell_type": "code",
   "execution_count": 21,
   "id": "581cf1e4-4f5b-43f7-b9ae-cbefafaf673a",
   "metadata": {},
   "outputs": [
    {
     "data": {
      "text/plain": [
       "pandas.core.series.Series"
      ]
     },
     "execution_count": 21,
     "metadata": {},
     "output_type": "execute_result"
    }
   ],
   "source": [
    "type(ser) #shows the type of ser as it's a series"
   ]
  },
  {
   "cell_type": "code",
   "execution_count": 22,
   "id": "d19c84ba-7f1e-4cea-a7eb-b83f7c2e0604",
   "metadata": {},
   "outputs": [],
   "source": [
    "newdf = pd.DataFrame(np.random.rand(334, 5), index = np.arange(334))"
   ]
  },
  {
   "cell_type": "code",
   "execution_count": 23,
   "id": "7ecae3c4-abc8-4428-b278-365acc2029b1",
   "metadata": {},
   "outputs": [
    {
     "data": {
      "text/html": [
       "<div>\n",
       "<style scoped>\n",
       "    .dataframe tbody tr th:only-of-type {\n",
       "        vertical-align: middle;\n",
       "    }\n",
       "\n",
       "    .dataframe tbody tr th {\n",
       "        vertical-align: top;\n",
       "    }\n",
       "\n",
       "    .dataframe thead th {\n",
       "        text-align: right;\n",
       "    }\n",
       "</style>\n",
       "<table border=\"1\" class=\"dataframe\">\n",
       "  <thead>\n",
       "    <tr style=\"text-align: right;\">\n",
       "      <th></th>\n",
       "      <th>0</th>\n",
       "      <th>1</th>\n",
       "      <th>2</th>\n",
       "      <th>3</th>\n",
       "      <th>4</th>\n",
       "    </tr>\n",
       "  </thead>\n",
       "  <tbody>\n",
       "    <tr>\n",
       "      <th>0</th>\n",
       "      <td>0.037177</td>\n",
       "      <td>0.916590</td>\n",
       "      <td>0.063555</td>\n",
       "      <td>0.775580</td>\n",
       "      <td>0.635909</td>\n",
       "    </tr>\n",
       "    <tr>\n",
       "      <th>1</th>\n",
       "      <td>0.328850</td>\n",
       "      <td>0.663012</td>\n",
       "      <td>0.966798</td>\n",
       "      <td>0.376088</td>\n",
       "      <td>0.072760</td>\n",
       "    </tr>\n",
       "    <tr>\n",
       "      <th>2</th>\n",
       "      <td>0.701520</td>\n",
       "      <td>0.976787</td>\n",
       "      <td>0.382041</td>\n",
       "      <td>0.355464</td>\n",
       "      <td>0.135462</td>\n",
       "    </tr>\n",
       "    <tr>\n",
       "      <th>3</th>\n",
       "      <td>0.706865</td>\n",
       "      <td>0.849711</td>\n",
       "      <td>0.363770</td>\n",
       "      <td>0.027698</td>\n",
       "      <td>0.083670</td>\n",
       "    </tr>\n",
       "    <tr>\n",
       "      <th>4</th>\n",
       "      <td>0.155703</td>\n",
       "      <td>0.233492</td>\n",
       "      <td>0.207222</td>\n",
       "      <td>0.167841</td>\n",
       "      <td>0.832134</td>\n",
       "    </tr>\n",
       "    <tr>\n",
       "      <th>...</th>\n",
       "      <td>...</td>\n",
       "      <td>...</td>\n",
       "      <td>...</td>\n",
       "      <td>...</td>\n",
       "      <td>...</td>\n",
       "    </tr>\n",
       "    <tr>\n",
       "      <th>329</th>\n",
       "      <td>0.325210</td>\n",
       "      <td>0.347181</td>\n",
       "      <td>0.796104</td>\n",
       "      <td>0.150173</td>\n",
       "      <td>0.111795</td>\n",
       "    </tr>\n",
       "    <tr>\n",
       "      <th>330</th>\n",
       "      <td>0.361893</td>\n",
       "      <td>0.884685</td>\n",
       "      <td>0.819122</td>\n",
       "      <td>0.958579</td>\n",
       "      <td>0.865221</td>\n",
       "    </tr>\n",
       "    <tr>\n",
       "      <th>331</th>\n",
       "      <td>0.046728</td>\n",
       "      <td>0.116794</td>\n",
       "      <td>0.144389</td>\n",
       "      <td>0.372545</td>\n",
       "      <td>0.884433</td>\n",
       "    </tr>\n",
       "    <tr>\n",
       "      <th>332</th>\n",
       "      <td>0.743932</td>\n",
       "      <td>0.168863</td>\n",
       "      <td>0.988382</td>\n",
       "      <td>0.907513</td>\n",
       "      <td>0.560592</td>\n",
       "    </tr>\n",
       "    <tr>\n",
       "      <th>333</th>\n",
       "      <td>0.142649</td>\n",
       "      <td>0.036738</td>\n",
       "      <td>0.863144</td>\n",
       "      <td>0.166578</td>\n",
       "      <td>0.023745</td>\n",
       "    </tr>\n",
       "  </tbody>\n",
       "</table>\n",
       "<p>334 rows × 5 columns</p>\n",
       "</div>"
      ],
      "text/plain": [
       "            0         1         2         3         4\n",
       "0    0.037177  0.916590  0.063555  0.775580  0.635909\n",
       "1    0.328850  0.663012  0.966798  0.376088  0.072760\n",
       "2    0.701520  0.976787  0.382041  0.355464  0.135462\n",
       "3    0.706865  0.849711  0.363770  0.027698  0.083670\n",
       "4    0.155703  0.233492  0.207222  0.167841  0.832134\n",
       "..        ...       ...       ...       ...       ...\n",
       "329  0.325210  0.347181  0.796104  0.150173  0.111795\n",
       "330  0.361893  0.884685  0.819122  0.958579  0.865221\n",
       "331  0.046728  0.116794  0.144389  0.372545  0.884433\n",
       "332  0.743932  0.168863  0.988382  0.907513  0.560592\n",
       "333  0.142649  0.036738  0.863144  0.166578  0.023745\n",
       "\n",
       "[334 rows x 5 columns]"
      ]
     },
     "execution_count": 23,
     "metadata": {},
     "output_type": "execute_result"
    }
   ],
   "source": [
    "newdf"
   ]
  },
  {
   "cell_type": "code",
   "execution_count": 24,
   "id": "a53c79ee-4dee-4aff-92f1-ae6459c27016",
   "metadata": {},
   "outputs": [
    {
     "data": {
      "text/html": [
       "<div>\n",
       "<style scoped>\n",
       "    .dataframe tbody tr th:only-of-type {\n",
       "        vertical-align: middle;\n",
       "    }\n",
       "\n",
       "    .dataframe tbody tr th {\n",
       "        vertical-align: top;\n",
       "    }\n",
       "\n",
       "    .dataframe thead th {\n",
       "        text-align: right;\n",
       "    }\n",
       "</style>\n",
       "<table border=\"1\" class=\"dataframe\">\n",
       "  <thead>\n",
       "    <tr style=\"text-align: right;\">\n",
       "      <th></th>\n",
       "      <th>0</th>\n",
       "      <th>1</th>\n",
       "      <th>2</th>\n",
       "      <th>3</th>\n",
       "      <th>4</th>\n",
       "    </tr>\n",
       "  </thead>\n",
       "  <tbody>\n",
       "    <tr>\n",
       "      <th>0</th>\n",
       "      <td>0.037177</td>\n",
       "      <td>0.916590</td>\n",
       "      <td>0.063555</td>\n",
       "      <td>0.775580</td>\n",
       "      <td>0.635909</td>\n",
       "    </tr>\n",
       "    <tr>\n",
       "      <th>1</th>\n",
       "      <td>0.328850</td>\n",
       "      <td>0.663012</td>\n",
       "      <td>0.966798</td>\n",
       "      <td>0.376088</td>\n",
       "      <td>0.072760</td>\n",
       "    </tr>\n",
       "    <tr>\n",
       "      <th>2</th>\n",
       "      <td>0.701520</td>\n",
       "      <td>0.976787</td>\n",
       "      <td>0.382041</td>\n",
       "      <td>0.355464</td>\n",
       "      <td>0.135462</td>\n",
       "    </tr>\n",
       "    <tr>\n",
       "      <th>3</th>\n",
       "      <td>0.706865</td>\n",
       "      <td>0.849711</td>\n",
       "      <td>0.363770</td>\n",
       "      <td>0.027698</td>\n",
       "      <td>0.083670</td>\n",
       "    </tr>\n",
       "    <tr>\n",
       "      <th>4</th>\n",
       "      <td>0.155703</td>\n",
       "      <td>0.233492</td>\n",
       "      <td>0.207222</td>\n",
       "      <td>0.167841</td>\n",
       "      <td>0.832134</td>\n",
       "    </tr>\n",
       "  </tbody>\n",
       "</table>\n",
       "</div>"
      ],
      "text/plain": [
       "          0         1         2         3         4\n",
       "0  0.037177  0.916590  0.063555  0.775580  0.635909\n",
       "1  0.328850  0.663012  0.966798  0.376088  0.072760\n",
       "2  0.701520  0.976787  0.382041  0.355464  0.135462\n",
       "3  0.706865  0.849711  0.363770  0.027698  0.083670\n",
       "4  0.155703  0.233492  0.207222  0.167841  0.832134"
      ]
     },
     "execution_count": 24,
     "metadata": {},
     "output_type": "execute_result"
    }
   ],
   "source": [
    "newdf.head() #shows first five rows"
   ]
  },
  {
   "cell_type": "code",
   "execution_count": 25,
   "id": "b0cfbe3b-bbc9-4523-8c4b-f7df2e920a4e",
   "metadata": {},
   "outputs": [
    {
     "data": {
      "text/plain": [
       "pandas.core.frame.DataFrame"
      ]
     },
     "execution_count": 25,
     "metadata": {},
     "output_type": "execute_result"
    }
   ],
   "source": [
    "type(newdf)"
   ]
  },
  {
   "cell_type": "code",
   "execution_count": 26,
   "id": "0162081d-a979-4ece-ac4b-f03da7517ea7",
   "metadata": {},
   "outputs": [
    {
     "data": {
      "text/html": [
       "<div>\n",
       "<style scoped>\n",
       "    .dataframe tbody tr th:only-of-type {\n",
       "        vertical-align: middle;\n",
       "    }\n",
       "\n",
       "    .dataframe tbody tr th {\n",
       "        vertical-align: top;\n",
       "    }\n",
       "\n",
       "    .dataframe thead th {\n",
       "        text-align: right;\n",
       "    }\n",
       "</style>\n",
       "<table border=\"1\" class=\"dataframe\">\n",
       "  <thead>\n",
       "    <tr style=\"text-align: right;\">\n",
       "      <th></th>\n",
       "      <th>0</th>\n",
       "      <th>1</th>\n",
       "      <th>2</th>\n",
       "      <th>3</th>\n",
       "      <th>4</th>\n",
       "    </tr>\n",
       "  </thead>\n",
       "  <tbody>\n",
       "    <tr>\n",
       "      <th>count</th>\n",
       "      <td>334.000000</td>\n",
       "      <td>334.000000</td>\n",
       "      <td>334.000000</td>\n",
       "      <td>334.000000</td>\n",
       "      <td>334.000000</td>\n",
       "    </tr>\n",
       "    <tr>\n",
       "      <th>mean</th>\n",
       "      <td>0.520867</td>\n",
       "      <td>0.526216</td>\n",
       "      <td>0.496605</td>\n",
       "      <td>0.519227</td>\n",
       "      <td>0.500857</td>\n",
       "    </tr>\n",
       "    <tr>\n",
       "      <th>std</th>\n",
       "      <td>0.282777</td>\n",
       "      <td>0.300185</td>\n",
       "      <td>0.295575</td>\n",
       "      <td>0.291235</td>\n",
       "      <td>0.290627</td>\n",
       "    </tr>\n",
       "    <tr>\n",
       "      <th>min</th>\n",
       "      <td>0.000447</td>\n",
       "      <td>0.000734</td>\n",
       "      <td>0.003131</td>\n",
       "      <td>0.005308</td>\n",
       "      <td>0.004092</td>\n",
       "    </tr>\n",
       "    <tr>\n",
       "      <th>25%</th>\n",
       "      <td>0.272647</td>\n",
       "      <td>0.251157</td>\n",
       "      <td>0.229964</td>\n",
       "      <td>0.301226</td>\n",
       "      <td>0.253550</td>\n",
       "    </tr>\n",
       "    <tr>\n",
       "      <th>50%</th>\n",
       "      <td>0.551718</td>\n",
       "      <td>0.536649</td>\n",
       "      <td>0.494832</td>\n",
       "      <td>0.523629</td>\n",
       "      <td>0.532889</td>\n",
       "    </tr>\n",
       "    <tr>\n",
       "      <th>75%</th>\n",
       "      <td>0.769397</td>\n",
       "      <td>0.803969</td>\n",
       "      <td>0.774835</td>\n",
       "      <td>0.759831</td>\n",
       "      <td>0.764034</td>\n",
       "    </tr>\n",
       "    <tr>\n",
       "      <th>max</th>\n",
       "      <td>0.995237</td>\n",
       "      <td>0.996814</td>\n",
       "      <td>0.998310</td>\n",
       "      <td>0.997961</td>\n",
       "      <td>0.998566</td>\n",
       "    </tr>\n",
       "  </tbody>\n",
       "</table>\n",
       "</div>"
      ],
      "text/plain": [
       "                0           1           2           3           4\n",
       "count  334.000000  334.000000  334.000000  334.000000  334.000000\n",
       "mean     0.520867    0.526216    0.496605    0.519227    0.500857\n",
       "std      0.282777    0.300185    0.295575    0.291235    0.290627\n",
       "min      0.000447    0.000734    0.003131    0.005308    0.004092\n",
       "25%      0.272647    0.251157    0.229964    0.301226    0.253550\n",
       "50%      0.551718    0.536649    0.494832    0.523629    0.532889\n",
       "75%      0.769397    0.803969    0.774835    0.759831    0.764034\n",
       "max      0.995237    0.996814    0.998310    0.997961    0.998566"
      ]
     },
     "execution_count": 26,
     "metadata": {},
     "output_type": "execute_result"
    }
   ],
   "source": [
    "newdf.describe()"
   ]
  },
  {
   "cell_type": "code",
   "execution_count": 27,
   "id": "c6213069-7bc3-446b-ba04-70a5f61603c6",
   "metadata": {},
   "outputs": [
    {
     "data": {
      "text/plain": [
       "0    float64\n",
       "1    float64\n",
       "2    float64\n",
       "3    float64\n",
       "4    float64\n",
       "dtype: object"
      ]
     },
     "execution_count": 27,
     "metadata": {},
     "output_type": "execute_result"
    }
   ],
   "source": [
    "newdf.dtypes #shows the data type of every  column"
   ]
  },
  {
   "cell_type": "code",
   "execution_count": 28,
   "id": "e35e4b7f-47cb-44f2-bc71-5f345a0c3414",
   "metadata": {},
   "outputs": [
    {
     "name": "stderr",
     "output_type": "stream",
     "text": [
      "C:\\Users\\Nishant Badhautiya\\AppData\\Local\\Temp\\ipykernel_16708\\1829572401.py:1: FutureWarning: Setting an item of incompatible dtype is deprecated and will raise in a future error of pandas. Value 'Harry' has dtype incompatible with float64, please explicitly cast to a compatible dtype first.\n",
      "  newdf[0][0] = \"Harry\" #now at [0][0] index it will make objext to our data type\n"
     ]
    }
   ],
   "source": [
    "newdf[0][0] = \"Harry\" #now at [0][0] index it will make objext to our data type"
   ]
  },
  {
   "cell_type": "code",
   "execution_count": 29,
   "id": "9f2d045e-a6c7-4e6f-a493-be85120e0c1a",
   "metadata": {},
   "outputs": [
    {
     "data": {
      "text/plain": [
       "0     object\n",
       "1    float64\n",
       "2    float64\n",
       "3    float64\n",
       "4    float64\n",
       "dtype: object"
      ]
     },
     "execution_count": 29,
     "metadata": {},
     "output_type": "execute_result"
    }
   ],
   "source": [
    "newdf.dtypes"
   ]
  },
  {
   "cell_type": "code",
   "execution_count": 30,
   "id": "d2f9832d-2dfd-4e17-a32e-07a09e7682c0",
   "metadata": {},
   "outputs": [
    {
     "data": {
      "text/html": [
       "<div>\n",
       "<style scoped>\n",
       "    .dataframe tbody tr th:only-of-type {\n",
       "        vertical-align: middle;\n",
       "    }\n",
       "\n",
       "    .dataframe tbody tr th {\n",
       "        vertical-align: top;\n",
       "    }\n",
       "\n",
       "    .dataframe thead th {\n",
       "        text-align: right;\n",
       "    }\n",
       "</style>\n",
       "<table border=\"1\" class=\"dataframe\">\n",
       "  <thead>\n",
       "    <tr style=\"text-align: right;\">\n",
       "      <th></th>\n",
       "      <th>0</th>\n",
       "      <th>1</th>\n",
       "      <th>2</th>\n",
       "      <th>3</th>\n",
       "      <th>4</th>\n",
       "    </tr>\n",
       "  </thead>\n",
       "  <tbody>\n",
       "    <tr>\n",
       "      <th>0</th>\n",
       "      <td>Harry</td>\n",
       "      <td>0.916590</td>\n",
       "      <td>0.063555</td>\n",
       "      <td>0.775580</td>\n",
       "      <td>0.635909</td>\n",
       "    </tr>\n",
       "    <tr>\n",
       "      <th>1</th>\n",
       "      <td>0.32885</td>\n",
       "      <td>0.663012</td>\n",
       "      <td>0.966798</td>\n",
       "      <td>0.376088</td>\n",
       "      <td>0.072760</td>\n",
       "    </tr>\n",
       "    <tr>\n",
       "      <th>2</th>\n",
       "      <td>0.70152</td>\n",
       "      <td>0.976787</td>\n",
       "      <td>0.382041</td>\n",
       "      <td>0.355464</td>\n",
       "      <td>0.135462</td>\n",
       "    </tr>\n",
       "    <tr>\n",
       "      <th>3</th>\n",
       "      <td>0.706865</td>\n",
       "      <td>0.849711</td>\n",
       "      <td>0.363770</td>\n",
       "      <td>0.027698</td>\n",
       "      <td>0.083670</td>\n",
       "    </tr>\n",
       "    <tr>\n",
       "      <th>4</th>\n",
       "      <td>0.155703</td>\n",
       "      <td>0.233492</td>\n",
       "      <td>0.207222</td>\n",
       "      <td>0.167841</td>\n",
       "      <td>0.832134</td>\n",
       "    </tr>\n",
       "  </tbody>\n",
       "</table>\n",
       "</div>"
      ],
      "text/plain": [
       "          0         1         2         3         4\n",
       "0     Harry  0.916590  0.063555  0.775580  0.635909\n",
       "1   0.32885  0.663012  0.966798  0.376088  0.072760\n",
       "2   0.70152  0.976787  0.382041  0.355464  0.135462\n",
       "3  0.706865  0.849711  0.363770  0.027698  0.083670\n",
       "4  0.155703  0.233492  0.207222  0.167841  0.832134"
      ]
     },
     "execution_count": 30,
     "metadata": {},
     "output_type": "execute_result"
    }
   ],
   "source": [
    "newdf.head()"
   ]
  },
  {
   "cell_type": "code",
   "execution_count": 31,
   "id": "db368ff1-1d0f-4b70-97bc-3b1bb35eba72",
   "metadata": {},
   "outputs": [
    {
     "data": {
      "text/plain": [
       "Index([  0,   1,   2,   3,   4,   5,   6,   7,   8,   9,\n",
       "       ...\n",
       "       324, 325, 326, 327, 328, 329, 330, 331, 332, 333],\n",
       "      dtype='int32', length=334)"
      ]
     },
     "execution_count": 31,
     "metadata": {},
     "output_type": "execute_result"
    }
   ],
   "source": [
    "newdf.index"
   ]
  },
  {
   "cell_type": "code",
   "execution_count": 32,
   "id": "38985bea-dcd1-4191-897d-59e5963db130",
   "metadata": {},
   "outputs": [
    {
     "data": {
      "text/plain": [
       "RangeIndex(start=0, stop=5, step=1)"
      ]
     },
     "execution_count": 32,
     "metadata": {},
     "output_type": "execute_result"
    }
   ],
   "source": [
    "newdf.columns"
   ]
  },
  {
   "cell_type": "code",
   "execution_count": 33,
   "id": "8e79d49f-625b-468b-b692-8e2277c96982",
   "metadata": {},
   "outputs": [
    {
     "data": {
      "text/plain": [
       "array([['Harry', 0.9165903001732432, 0.06355462973828763,\n",
       "        0.7755800003789808, 0.6359090089602024],\n",
       "       [0.3288495998569918, 0.6630124757662632, 0.9667984270199349,\n",
       "        0.3760882543305849, 0.07275970618098382],\n",
       "       [0.7015198578465266, 0.9767868455084001, 0.38204066211240884,\n",
       "        0.35546386765279725, 0.13546221767141098],\n",
       "       ...,\n",
       "       [0.04672815986675838, 0.11679439549197035, 0.14438913728076652,\n",
       "        0.37254466874463343, 0.8844333683660132],\n",
       "       [0.7439318936405628, 0.16886297025932062, 0.988381775589416,\n",
       "        0.9075125065386427, 0.5605924773629424],\n",
       "       [0.14264901670274244, 0.03673799299015945, 0.86314432619127,\n",
       "        0.16657751960251044, 0.02374515802290078]], dtype=object)"
      ]
     },
     "execution_count": 33,
     "metadata": {},
     "output_type": "execute_result"
    }
   ],
   "source": [
    "newdf.to_numpy() # converts dataframe into numpy array"
   ]
  },
  {
   "cell_type": "code",
   "execution_count": 34,
   "id": "da117186-916d-42f8-9286-826efcac1bce",
   "metadata": {},
   "outputs": [],
   "source": [
    "newdf[0][0] = 0.345334"
   ]
  },
  {
   "cell_type": "code",
   "execution_count": 35,
   "id": "07b99a1b-3e75-4f0a-9adc-6a2162b22db7",
   "metadata": {},
   "outputs": [
    {
     "data": {
      "text/html": [
       "<div>\n",
       "<style scoped>\n",
       "    .dataframe tbody tr th:only-of-type {\n",
       "        vertical-align: middle;\n",
       "    }\n",
       "\n",
       "    .dataframe tbody tr th {\n",
       "        vertical-align: top;\n",
       "    }\n",
       "\n",
       "    .dataframe thead th {\n",
       "        text-align: right;\n",
       "    }\n",
       "</style>\n",
       "<table border=\"1\" class=\"dataframe\">\n",
       "  <thead>\n",
       "    <tr style=\"text-align: right;\">\n",
       "      <th></th>\n",
       "      <th>0</th>\n",
       "      <th>1</th>\n",
       "      <th>2</th>\n",
       "      <th>3</th>\n",
       "      <th>4</th>\n",
       "    </tr>\n",
       "  </thead>\n",
       "  <tbody>\n",
       "    <tr>\n",
       "      <th>0</th>\n",
       "      <td>0.345334</td>\n",
       "      <td>0.916590</td>\n",
       "      <td>0.063555</td>\n",
       "      <td>0.775580</td>\n",
       "      <td>0.635909</td>\n",
       "    </tr>\n",
       "    <tr>\n",
       "      <th>1</th>\n",
       "      <td>0.32885</td>\n",
       "      <td>0.663012</td>\n",
       "      <td>0.966798</td>\n",
       "      <td>0.376088</td>\n",
       "      <td>0.072760</td>\n",
       "    </tr>\n",
       "    <tr>\n",
       "      <th>2</th>\n",
       "      <td>0.70152</td>\n",
       "      <td>0.976787</td>\n",
       "      <td>0.382041</td>\n",
       "      <td>0.355464</td>\n",
       "      <td>0.135462</td>\n",
       "    </tr>\n",
       "    <tr>\n",
       "      <th>3</th>\n",
       "      <td>0.706865</td>\n",
       "      <td>0.849711</td>\n",
       "      <td>0.363770</td>\n",
       "      <td>0.027698</td>\n",
       "      <td>0.083670</td>\n",
       "    </tr>\n",
       "    <tr>\n",
       "      <th>4</th>\n",
       "      <td>0.155703</td>\n",
       "      <td>0.233492</td>\n",
       "      <td>0.207222</td>\n",
       "      <td>0.167841</td>\n",
       "      <td>0.832134</td>\n",
       "    </tr>\n",
       "  </tbody>\n",
       "</table>\n",
       "</div>"
      ],
      "text/plain": [
       "          0         1         2         3         4\n",
       "0  0.345334  0.916590  0.063555  0.775580  0.635909\n",
       "1   0.32885  0.663012  0.966798  0.376088  0.072760\n",
       "2   0.70152  0.976787  0.382041  0.355464  0.135462\n",
       "3  0.706865  0.849711  0.363770  0.027698  0.083670\n",
       "4  0.155703  0.233492  0.207222  0.167841  0.832134"
      ]
     },
     "execution_count": 35,
     "metadata": {},
     "output_type": "execute_result"
    }
   ],
   "source": [
    "newdf.head()"
   ]
  },
  {
   "cell_type": "code",
   "execution_count": 36,
   "id": "53891c4c-8935-42a9-92b8-188e155d3cd8",
   "metadata": {},
   "outputs": [
    {
     "data": {
      "text/plain": [
       "array([[0.345334, 0.9165903001732432, 0.06355462973828763,\n",
       "        0.7755800003789808, 0.6359090089602024],\n",
       "       [0.3288495998569918, 0.6630124757662632, 0.9667984270199349,\n",
       "        0.3760882543305849, 0.07275970618098382],\n",
       "       [0.7015198578465266, 0.9767868455084001, 0.38204066211240884,\n",
       "        0.35546386765279725, 0.13546221767141098],\n",
       "       ...,\n",
       "       [0.04672815986675838, 0.11679439549197035, 0.14438913728076652,\n",
       "        0.37254466874463343, 0.8844333683660132],\n",
       "       [0.7439318936405628, 0.16886297025932062, 0.988381775589416,\n",
       "        0.9075125065386427, 0.5605924773629424],\n",
       "       [0.14264901670274244, 0.03673799299015945, 0.86314432619127,\n",
       "        0.16657751960251044, 0.02374515802290078]], dtype=object)"
      ]
     },
     "execution_count": 36,
     "metadata": {},
     "output_type": "execute_result"
    }
   ],
   "source": [
    "newdf.to_numpy()  # stills dtype is object "
   ]
  },
  {
   "cell_type": "code",
   "execution_count": 37,
   "id": "2b8e15b7-6c30-4794-b03c-2a42531ddd24",
   "metadata": {},
   "outputs": [
    {
     "data": {
      "text/html": [
       "<div>\n",
       "<style scoped>\n",
       "    .dataframe tbody tr th:only-of-type {\n",
       "        vertical-align: middle;\n",
       "    }\n",
       "\n",
       "    .dataframe tbody tr th {\n",
       "        vertical-align: top;\n",
       "    }\n",
       "\n",
       "    .dataframe thead th {\n",
       "        text-align: right;\n",
       "    }\n",
       "</style>\n",
       "<table border=\"1\" class=\"dataframe\">\n",
       "  <thead>\n",
       "    <tr style=\"text-align: right;\">\n",
       "      <th></th>\n",
       "      <th>0</th>\n",
       "      <th>1</th>\n",
       "      <th>2</th>\n",
       "      <th>3</th>\n",
       "      <th>4</th>\n",
       "      <th>5</th>\n",
       "      <th>6</th>\n",
       "      <th>7</th>\n",
       "      <th>8</th>\n",
       "      <th>9</th>\n",
       "      <th>...</th>\n",
       "      <th>324</th>\n",
       "      <th>325</th>\n",
       "      <th>326</th>\n",
       "      <th>327</th>\n",
       "      <th>328</th>\n",
       "      <th>329</th>\n",
       "      <th>330</th>\n",
       "      <th>331</th>\n",
       "      <th>332</th>\n",
       "      <th>333</th>\n",
       "    </tr>\n",
       "  </thead>\n",
       "  <tbody>\n",
       "    <tr>\n",
       "      <th>0</th>\n",
       "      <td>0.345334</td>\n",
       "      <td>0.32885</td>\n",
       "      <td>0.70152</td>\n",
       "      <td>0.706865</td>\n",
       "      <td>0.155703</td>\n",
       "      <td>0.30334</td>\n",
       "      <td>0.256944</td>\n",
       "      <td>0.263406</td>\n",
       "      <td>0.390288</td>\n",
       "      <td>0.47357</td>\n",
       "      <td>...</td>\n",
       "      <td>0.855468</td>\n",
       "      <td>0.656415</td>\n",
       "      <td>0.593891</td>\n",
       "      <td>0.614705</td>\n",
       "      <td>0.5201</td>\n",
       "      <td>0.32521</td>\n",
       "      <td>0.361893</td>\n",
       "      <td>0.046728</td>\n",
       "      <td>0.743932</td>\n",
       "      <td>0.142649</td>\n",
       "    </tr>\n",
       "    <tr>\n",
       "      <th>1</th>\n",
       "      <td>0.91659</td>\n",
       "      <td>0.663012</td>\n",
       "      <td>0.976787</td>\n",
       "      <td>0.849711</td>\n",
       "      <td>0.233492</td>\n",
       "      <td>0.160916</td>\n",
       "      <td>0.023322</td>\n",
       "      <td>0.873337</td>\n",
       "      <td>0.2563</td>\n",
       "      <td>0.131554</td>\n",
       "      <td>...</td>\n",
       "      <td>0.357149</td>\n",
       "      <td>0.394105</td>\n",
       "      <td>0.596874</td>\n",
       "      <td>0.432994</td>\n",
       "      <td>0.50297</td>\n",
       "      <td>0.347181</td>\n",
       "      <td>0.884685</td>\n",
       "      <td>0.116794</td>\n",
       "      <td>0.168863</td>\n",
       "      <td>0.036738</td>\n",
       "    </tr>\n",
       "    <tr>\n",
       "      <th>2</th>\n",
       "      <td>0.063555</td>\n",
       "      <td>0.966798</td>\n",
       "      <td>0.382041</td>\n",
       "      <td>0.36377</td>\n",
       "      <td>0.207222</td>\n",
       "      <td>0.235334</td>\n",
       "      <td>0.021738</td>\n",
       "      <td>0.003131</td>\n",
       "      <td>0.860084</td>\n",
       "      <td>0.32486</td>\n",
       "      <td>...</td>\n",
       "      <td>0.441658</td>\n",
       "      <td>0.553315</td>\n",
       "      <td>0.971958</td>\n",
       "      <td>0.399489</td>\n",
       "      <td>0.446222</td>\n",
       "      <td>0.796104</td>\n",
       "      <td>0.819122</td>\n",
       "      <td>0.144389</td>\n",
       "      <td>0.988382</td>\n",
       "      <td>0.863144</td>\n",
       "    </tr>\n",
       "    <tr>\n",
       "      <th>3</th>\n",
       "      <td>0.77558</td>\n",
       "      <td>0.376088</td>\n",
       "      <td>0.355464</td>\n",
       "      <td>0.027698</td>\n",
       "      <td>0.167841</td>\n",
       "      <td>0.555026</td>\n",
       "      <td>0.415407</td>\n",
       "      <td>0.558141</td>\n",
       "      <td>0.981532</td>\n",
       "      <td>0.288986</td>\n",
       "      <td>...</td>\n",
       "      <td>0.018665</td>\n",
       "      <td>0.613239</td>\n",
       "      <td>0.933925</td>\n",
       "      <td>0.506415</td>\n",
       "      <td>0.301913</td>\n",
       "      <td>0.150173</td>\n",
       "      <td>0.958579</td>\n",
       "      <td>0.372545</td>\n",
       "      <td>0.907513</td>\n",
       "      <td>0.166578</td>\n",
       "    </tr>\n",
       "    <tr>\n",
       "      <th>4</th>\n",
       "      <td>0.635909</td>\n",
       "      <td>0.07276</td>\n",
       "      <td>0.135462</td>\n",
       "      <td>0.08367</td>\n",
       "      <td>0.832134</td>\n",
       "      <td>0.401881</td>\n",
       "      <td>0.763447</td>\n",
       "      <td>0.895404</td>\n",
       "      <td>0.198185</td>\n",
       "      <td>0.795671</td>\n",
       "      <td>...</td>\n",
       "      <td>0.698897</td>\n",
       "      <td>0.786257</td>\n",
       "      <td>0.076788</td>\n",
       "      <td>0.35971</td>\n",
       "      <td>0.426205</td>\n",
       "      <td>0.111795</td>\n",
       "      <td>0.865221</td>\n",
       "      <td>0.884433</td>\n",
       "      <td>0.560592</td>\n",
       "      <td>0.023745</td>\n",
       "    </tr>\n",
       "  </tbody>\n",
       "</table>\n",
       "<p>5 rows × 334 columns</p>\n",
       "</div>"
      ],
      "text/plain": [
       "        0         1         2         3         4         5         6    \\\n",
       "0  0.345334   0.32885   0.70152  0.706865  0.155703   0.30334  0.256944   \n",
       "1   0.91659  0.663012  0.976787  0.849711  0.233492  0.160916  0.023322   \n",
       "2  0.063555  0.966798  0.382041   0.36377  0.207222  0.235334  0.021738   \n",
       "3   0.77558  0.376088  0.355464  0.027698  0.167841  0.555026  0.415407   \n",
       "4  0.635909   0.07276  0.135462   0.08367  0.832134  0.401881  0.763447   \n",
       "\n",
       "        7         8         9    ...       324       325       326       327  \\\n",
       "0  0.263406  0.390288   0.47357  ...  0.855468  0.656415  0.593891  0.614705   \n",
       "1  0.873337    0.2563  0.131554  ...  0.357149  0.394105  0.596874  0.432994   \n",
       "2  0.003131  0.860084   0.32486  ...  0.441658  0.553315  0.971958  0.399489   \n",
       "3  0.558141  0.981532  0.288986  ...  0.018665  0.613239  0.933925  0.506415   \n",
       "4  0.895404  0.198185  0.795671  ...  0.698897  0.786257  0.076788   0.35971   \n",
       "\n",
       "        328       329       330       331       332       333  \n",
       "0    0.5201   0.32521  0.361893  0.046728  0.743932  0.142649  \n",
       "1   0.50297  0.347181  0.884685  0.116794  0.168863  0.036738  \n",
       "2  0.446222  0.796104  0.819122  0.144389  0.988382  0.863144  \n",
       "3  0.301913  0.150173  0.958579  0.372545  0.907513  0.166578  \n",
       "4  0.426205  0.111795  0.865221  0.884433  0.560592  0.023745  \n",
       "\n",
       "[5 rows x 334 columns]"
      ]
     },
     "execution_count": 37,
     "metadata": {},
     "output_type": "execute_result"
    }
   ],
   "source": [
    "newdf.T"
   ]
  },
  {
   "cell_type": "code",
   "execution_count": 38,
   "id": "6ae02e8f-12ee-48d2-a0f1-e3c53c6ddce0",
   "metadata": {},
   "outputs": [
    {
     "data": {
      "text/html": [
       "<div>\n",
       "<style scoped>\n",
       "    .dataframe tbody tr th:only-of-type {\n",
       "        vertical-align: middle;\n",
       "    }\n",
       "\n",
       "    .dataframe tbody tr th {\n",
       "        vertical-align: top;\n",
       "    }\n",
       "\n",
       "    .dataframe thead th {\n",
       "        text-align: right;\n",
       "    }\n",
       "</style>\n",
       "<table border=\"1\" class=\"dataframe\">\n",
       "  <thead>\n",
       "    <tr style=\"text-align: right;\">\n",
       "      <th></th>\n",
       "      <th>0</th>\n",
       "      <th>1</th>\n",
       "      <th>2</th>\n",
       "      <th>3</th>\n",
       "      <th>4</th>\n",
       "    </tr>\n",
       "  </thead>\n",
       "  <tbody>\n",
       "    <tr>\n",
       "      <th>0</th>\n",
       "      <td>0.345334</td>\n",
       "      <td>0.916590</td>\n",
       "      <td>0.063555</td>\n",
       "      <td>0.775580</td>\n",
       "      <td>0.635909</td>\n",
       "    </tr>\n",
       "    <tr>\n",
       "      <th>1</th>\n",
       "      <td>0.32885</td>\n",
       "      <td>0.663012</td>\n",
       "      <td>0.966798</td>\n",
       "      <td>0.376088</td>\n",
       "      <td>0.072760</td>\n",
       "    </tr>\n",
       "    <tr>\n",
       "      <th>2</th>\n",
       "      <td>0.70152</td>\n",
       "      <td>0.976787</td>\n",
       "      <td>0.382041</td>\n",
       "      <td>0.355464</td>\n",
       "      <td>0.135462</td>\n",
       "    </tr>\n",
       "    <tr>\n",
       "      <th>3</th>\n",
       "      <td>0.706865</td>\n",
       "      <td>0.849711</td>\n",
       "      <td>0.363770</td>\n",
       "      <td>0.027698</td>\n",
       "      <td>0.083670</td>\n",
       "    </tr>\n",
       "    <tr>\n",
       "      <th>4</th>\n",
       "      <td>0.155703</td>\n",
       "      <td>0.233492</td>\n",
       "      <td>0.207222</td>\n",
       "      <td>0.167841</td>\n",
       "      <td>0.832134</td>\n",
       "    </tr>\n",
       "    <tr>\n",
       "      <th>...</th>\n",
       "      <td>...</td>\n",
       "      <td>...</td>\n",
       "      <td>...</td>\n",
       "      <td>...</td>\n",
       "      <td>...</td>\n",
       "    </tr>\n",
       "    <tr>\n",
       "      <th>329</th>\n",
       "      <td>0.32521</td>\n",
       "      <td>0.347181</td>\n",
       "      <td>0.796104</td>\n",
       "      <td>0.150173</td>\n",
       "      <td>0.111795</td>\n",
       "    </tr>\n",
       "    <tr>\n",
       "      <th>330</th>\n",
       "      <td>0.361893</td>\n",
       "      <td>0.884685</td>\n",
       "      <td>0.819122</td>\n",
       "      <td>0.958579</td>\n",
       "      <td>0.865221</td>\n",
       "    </tr>\n",
       "    <tr>\n",
       "      <th>331</th>\n",
       "      <td>0.046728</td>\n",
       "      <td>0.116794</td>\n",
       "      <td>0.144389</td>\n",
       "      <td>0.372545</td>\n",
       "      <td>0.884433</td>\n",
       "    </tr>\n",
       "    <tr>\n",
       "      <th>332</th>\n",
       "      <td>0.743932</td>\n",
       "      <td>0.168863</td>\n",
       "      <td>0.988382</td>\n",
       "      <td>0.907513</td>\n",
       "      <td>0.560592</td>\n",
       "    </tr>\n",
       "    <tr>\n",
       "      <th>333</th>\n",
       "      <td>0.142649</td>\n",
       "      <td>0.036738</td>\n",
       "      <td>0.863144</td>\n",
       "      <td>0.166578</td>\n",
       "      <td>0.023745</td>\n",
       "    </tr>\n",
       "  </tbody>\n",
       "</table>\n",
       "<p>334 rows × 5 columns</p>\n",
       "</div>"
      ],
      "text/plain": [
       "            0         1         2         3         4\n",
       "0    0.345334  0.916590  0.063555  0.775580  0.635909\n",
       "1     0.32885  0.663012  0.966798  0.376088  0.072760\n",
       "2     0.70152  0.976787  0.382041  0.355464  0.135462\n",
       "3    0.706865  0.849711  0.363770  0.027698  0.083670\n",
       "4    0.155703  0.233492  0.207222  0.167841  0.832134\n",
       "..        ...       ...       ...       ...       ...\n",
       "329   0.32521  0.347181  0.796104  0.150173  0.111795\n",
       "330  0.361893  0.884685  0.819122  0.958579  0.865221\n",
       "331  0.046728  0.116794  0.144389  0.372545  0.884433\n",
       "332  0.743932  0.168863  0.988382  0.907513  0.560592\n",
       "333  0.142649  0.036738  0.863144  0.166578  0.023745\n",
       "\n",
       "[334 rows x 5 columns]"
      ]
     },
     "execution_count": 38,
     "metadata": {},
     "output_type": "execute_result"
    }
   ],
   "source": [
    "newdf"
   ]
  },
  {
   "cell_type": "code",
   "execution_count": 1,
   "id": "5a3a3f13-630f-4db2-8246-05d2e8a48e4c",
   "metadata": {},
   "outputs": [
    {
     "ename": "NameError",
     "evalue": "name 'newdf' is not defined",
     "output_type": "error",
     "traceback": [
      "\u001b[1;31m---------------------------------------------------------------------------\u001b[0m",
      "\u001b[1;31mNameError\u001b[0m                                 Traceback (most recent call last)",
      "Cell \u001b[1;32mIn[1], line 1\u001b[0m\n\u001b[1;32m----> 1\u001b[0m \u001b[43mnewdf\u001b[49m\u001b[38;5;241m.\u001b[39msort_index(axis \u001b[38;5;241m=\u001b[39m \u001b[38;5;241m0\u001b[39m, ascending \u001b[38;5;241m=\u001b[39m \u001b[38;5;28;01mFalse\u001b[39;00m) \u001b[38;5;66;03m# by default ascending = True \u001b[39;00m\n",
      "\u001b[1;31mNameError\u001b[0m: name 'newdf' is not defined"
     ]
    }
   ],
   "source": [
    "newdf.sort_index(axis = 0, ascending = False) # by default ascending = True "
   ]
  },
  {
   "cell_type": "code",
   "execution_count": 40,
   "id": "e9c815cf-7529-469e-b385-e9d2b5020072",
   "metadata": {},
   "outputs": [
    {
     "data": {
      "text/html": [
       "<div>\n",
       "<style scoped>\n",
       "    .dataframe tbody tr th:only-of-type {\n",
       "        vertical-align: middle;\n",
       "    }\n",
       "\n",
       "    .dataframe tbody tr th {\n",
       "        vertical-align: top;\n",
       "    }\n",
       "\n",
       "    .dataframe thead th {\n",
       "        text-align: right;\n",
       "    }\n",
       "</style>\n",
       "<table border=\"1\" class=\"dataframe\">\n",
       "  <thead>\n",
       "    <tr style=\"text-align: right;\">\n",
       "      <th></th>\n",
       "      <th>4</th>\n",
       "      <th>3</th>\n",
       "      <th>2</th>\n",
       "      <th>1</th>\n",
       "      <th>0</th>\n",
       "    </tr>\n",
       "  </thead>\n",
       "  <tbody>\n",
       "    <tr>\n",
       "      <th>0</th>\n",
       "      <td>0.635909</td>\n",
       "      <td>0.775580</td>\n",
       "      <td>0.063555</td>\n",
       "      <td>0.916590</td>\n",
       "      <td>0.345334</td>\n",
       "    </tr>\n",
       "    <tr>\n",
       "      <th>1</th>\n",
       "      <td>0.072760</td>\n",
       "      <td>0.376088</td>\n",
       "      <td>0.966798</td>\n",
       "      <td>0.663012</td>\n",
       "      <td>0.32885</td>\n",
       "    </tr>\n",
       "    <tr>\n",
       "      <th>2</th>\n",
       "      <td>0.135462</td>\n",
       "      <td>0.355464</td>\n",
       "      <td>0.382041</td>\n",
       "      <td>0.976787</td>\n",
       "      <td>0.70152</td>\n",
       "    </tr>\n",
       "    <tr>\n",
       "      <th>3</th>\n",
       "      <td>0.083670</td>\n",
       "      <td>0.027698</td>\n",
       "      <td>0.363770</td>\n",
       "      <td>0.849711</td>\n",
       "      <td>0.706865</td>\n",
       "    </tr>\n",
       "    <tr>\n",
       "      <th>4</th>\n",
       "      <td>0.832134</td>\n",
       "      <td>0.167841</td>\n",
       "      <td>0.207222</td>\n",
       "      <td>0.233492</td>\n",
       "      <td>0.155703</td>\n",
       "    </tr>\n",
       "    <tr>\n",
       "      <th>...</th>\n",
       "      <td>...</td>\n",
       "      <td>...</td>\n",
       "      <td>...</td>\n",
       "      <td>...</td>\n",
       "      <td>...</td>\n",
       "    </tr>\n",
       "    <tr>\n",
       "      <th>329</th>\n",
       "      <td>0.111795</td>\n",
       "      <td>0.150173</td>\n",
       "      <td>0.796104</td>\n",
       "      <td>0.347181</td>\n",
       "      <td>0.32521</td>\n",
       "    </tr>\n",
       "    <tr>\n",
       "      <th>330</th>\n",
       "      <td>0.865221</td>\n",
       "      <td>0.958579</td>\n",
       "      <td>0.819122</td>\n",
       "      <td>0.884685</td>\n",
       "      <td>0.361893</td>\n",
       "    </tr>\n",
       "    <tr>\n",
       "      <th>331</th>\n",
       "      <td>0.884433</td>\n",
       "      <td>0.372545</td>\n",
       "      <td>0.144389</td>\n",
       "      <td>0.116794</td>\n",
       "      <td>0.046728</td>\n",
       "    </tr>\n",
       "    <tr>\n",
       "      <th>332</th>\n",
       "      <td>0.560592</td>\n",
       "      <td>0.907513</td>\n",
       "      <td>0.988382</td>\n",
       "      <td>0.168863</td>\n",
       "      <td>0.743932</td>\n",
       "    </tr>\n",
       "    <tr>\n",
       "      <th>333</th>\n",
       "      <td>0.023745</td>\n",
       "      <td>0.166578</td>\n",
       "      <td>0.863144</td>\n",
       "      <td>0.036738</td>\n",
       "      <td>0.142649</td>\n",
       "    </tr>\n",
       "  </tbody>\n",
       "</table>\n",
       "<p>334 rows × 5 columns</p>\n",
       "</div>"
      ],
      "text/plain": [
       "            4         3         2         1         0\n",
       "0    0.635909  0.775580  0.063555  0.916590  0.345334\n",
       "1    0.072760  0.376088  0.966798  0.663012   0.32885\n",
       "2    0.135462  0.355464  0.382041  0.976787   0.70152\n",
       "3    0.083670  0.027698  0.363770  0.849711  0.706865\n",
       "4    0.832134  0.167841  0.207222  0.233492  0.155703\n",
       "..        ...       ...       ...       ...       ...\n",
       "329  0.111795  0.150173  0.796104  0.347181   0.32521\n",
       "330  0.865221  0.958579  0.819122  0.884685  0.361893\n",
       "331  0.884433  0.372545  0.144389  0.116794  0.046728\n",
       "332  0.560592  0.907513  0.988382  0.168863  0.743932\n",
       "333  0.023745  0.166578  0.863144  0.036738  0.142649\n",
       "\n",
       "[334 rows x 5 columns]"
      ]
     },
     "execution_count": 40,
     "metadata": {},
     "output_type": "execute_result"
    }
   ],
   "source": [
    "newdf.sort_index(axis = 1, ascending = False)"
   ]
  },
  {
   "cell_type": "code",
   "execution_count": 41,
   "id": "fb3d836b-4a28-4071-aac5-7c550516db39",
   "metadata": {},
   "outputs": [
    {
     "data": {
      "text/html": [
       "<div>\n",
       "<style scoped>\n",
       "    .dataframe tbody tr th:only-of-type {\n",
       "        vertical-align: middle;\n",
       "    }\n",
       "\n",
       "    .dataframe tbody tr th {\n",
       "        vertical-align: top;\n",
       "    }\n",
       "\n",
       "    .dataframe thead th {\n",
       "        text-align: right;\n",
       "    }\n",
       "</style>\n",
       "<table border=\"1\" class=\"dataframe\">\n",
       "  <thead>\n",
       "    <tr style=\"text-align: right;\">\n",
       "      <th></th>\n",
       "      <th>0</th>\n",
       "      <th>1</th>\n",
       "      <th>2</th>\n",
       "      <th>3</th>\n",
       "      <th>4</th>\n",
       "    </tr>\n",
       "  </thead>\n",
       "  <tbody>\n",
       "    <tr>\n",
       "      <th>0</th>\n",
       "      <td>0.345334</td>\n",
       "      <td>0.916590</td>\n",
       "      <td>0.063555</td>\n",
       "      <td>0.775580</td>\n",
       "      <td>0.635909</td>\n",
       "    </tr>\n",
       "    <tr>\n",
       "      <th>1</th>\n",
       "      <td>0.32885</td>\n",
       "      <td>0.663012</td>\n",
       "      <td>0.966798</td>\n",
       "      <td>0.376088</td>\n",
       "      <td>0.072760</td>\n",
       "    </tr>\n",
       "    <tr>\n",
       "      <th>2</th>\n",
       "      <td>0.70152</td>\n",
       "      <td>0.976787</td>\n",
       "      <td>0.382041</td>\n",
       "      <td>0.355464</td>\n",
       "      <td>0.135462</td>\n",
       "    </tr>\n",
       "    <tr>\n",
       "      <th>3</th>\n",
       "      <td>0.706865</td>\n",
       "      <td>0.849711</td>\n",
       "      <td>0.363770</td>\n",
       "      <td>0.027698</td>\n",
       "      <td>0.083670</td>\n",
       "    </tr>\n",
       "    <tr>\n",
       "      <th>4</th>\n",
       "      <td>0.155703</td>\n",
       "      <td>0.233492</td>\n",
       "      <td>0.207222</td>\n",
       "      <td>0.167841</td>\n",
       "      <td>0.832134</td>\n",
       "    </tr>\n",
       "  </tbody>\n",
       "</table>\n",
       "</div>"
      ],
      "text/plain": [
       "          0         1         2         3         4\n",
       "0  0.345334  0.916590  0.063555  0.775580  0.635909\n",
       "1   0.32885  0.663012  0.966798  0.376088  0.072760\n",
       "2   0.70152  0.976787  0.382041  0.355464  0.135462\n",
       "3  0.706865  0.849711  0.363770  0.027698  0.083670\n",
       "4  0.155703  0.233492  0.207222  0.167841  0.832134"
      ]
     },
     "execution_count": 41,
     "metadata": {},
     "output_type": "execute_result"
    }
   ],
   "source": [
    "newdf.head()"
   ]
  },
  {
   "cell_type": "code",
   "execution_count": 42,
   "id": "e6abcda6-7207-4da4-8951-b62e4368000c",
   "metadata": {},
   "outputs": [
    {
     "data": {
      "text/plain": [
       "0      0.345334\n",
       "1       0.32885\n",
       "2       0.70152\n",
       "3      0.706865\n",
       "4      0.155703\n",
       "         ...   \n",
       "329     0.32521\n",
       "330    0.361893\n",
       "331    0.046728\n",
       "332    0.743932\n",
       "333    0.142649\n",
       "Name: 0, Length: 334, dtype: object"
      ]
     },
     "execution_count": 42,
     "metadata": {},
     "output_type": "execute_result"
    }
   ],
   "source": [
    "newdf[0] #gives me the colument at index 0"
   ]
  },
  {
   "cell_type": "code",
   "execution_count": 43,
   "id": "05601a4f-959c-46b5-8213-d00deea3da6f",
   "metadata": {},
   "outputs": [
    {
     "data": {
      "text/plain": [
       "pandas.core.series.Series"
      ]
     },
     "execution_count": 43,
     "metadata": {},
     "output_type": "execute_result"
    }
   ],
   "source": [
    "type(newdf[0])"
   ]
  },
  {
   "cell_type": "code",
   "execution_count": null,
   "id": "08a8a32d-a6fc-4538-bc58-88f3066e3cd7",
   "metadata": {},
   "outputs": [],
   "source": []
  },
  {
   "cell_type": "code",
   "execution_count": null,
   "id": "a6baeec1-6ff3-4423-b74a-e9e768b6e7a0",
   "metadata": {},
   "outputs": [],
   "source": []
  },
  {
   "cell_type": "code",
   "execution_count": 44,
   "id": "e3286d33-ba7b-428c-b17c-458346c7030c",
   "metadata": {},
   "outputs": [],
   "source": [
    "newdf2 = newdf # now newdf2 is a view of newdf means change in newdf2 will change in newdf. and newdf2 is in the same memory location but point it like pointer "
   ]
  },
  {
   "cell_type": "code",
   "execution_count": 45,
   "id": "f823ae81-9085-4e67-9b58-ce189100d673",
   "metadata": {},
   "outputs": [],
   "source": [
    "newdf2[0][0] = 344563444 # make change in newdf2 but there will be reflect in newdf also"
   ]
  },
  {
   "cell_type": "code",
   "execution_count": 46,
   "id": "6cb83afb-7630-49fe-b23b-5148e185c1f2",
   "metadata": {},
   "outputs": [
    {
     "data": {
      "text/html": [
       "<div>\n",
       "<style scoped>\n",
       "    .dataframe tbody tr th:only-of-type {\n",
       "        vertical-align: middle;\n",
       "    }\n",
       "\n",
       "    .dataframe tbody tr th {\n",
       "        vertical-align: top;\n",
       "    }\n",
       "\n",
       "    .dataframe thead th {\n",
       "        text-align: right;\n",
       "    }\n",
       "</style>\n",
       "<table border=\"1\" class=\"dataframe\">\n",
       "  <thead>\n",
       "    <tr style=\"text-align: right;\">\n",
       "      <th></th>\n",
       "      <th>0</th>\n",
       "      <th>1</th>\n",
       "      <th>2</th>\n",
       "      <th>3</th>\n",
       "      <th>4</th>\n",
       "    </tr>\n",
       "  </thead>\n",
       "  <tbody>\n",
       "    <tr>\n",
       "      <th>0</th>\n",
       "      <td>344563444</td>\n",
       "      <td>0.916590</td>\n",
       "      <td>0.063555</td>\n",
       "      <td>0.775580</td>\n",
       "      <td>0.635909</td>\n",
       "    </tr>\n",
       "    <tr>\n",
       "      <th>1</th>\n",
       "      <td>0.32885</td>\n",
       "      <td>0.663012</td>\n",
       "      <td>0.966798</td>\n",
       "      <td>0.376088</td>\n",
       "      <td>0.072760</td>\n",
       "    </tr>\n",
       "    <tr>\n",
       "      <th>2</th>\n",
       "      <td>0.70152</td>\n",
       "      <td>0.976787</td>\n",
       "      <td>0.382041</td>\n",
       "      <td>0.355464</td>\n",
       "      <td>0.135462</td>\n",
       "    </tr>\n",
       "    <tr>\n",
       "      <th>3</th>\n",
       "      <td>0.706865</td>\n",
       "      <td>0.849711</td>\n",
       "      <td>0.363770</td>\n",
       "      <td>0.027698</td>\n",
       "      <td>0.083670</td>\n",
       "    </tr>\n",
       "    <tr>\n",
       "      <th>4</th>\n",
       "      <td>0.155703</td>\n",
       "      <td>0.233492</td>\n",
       "      <td>0.207222</td>\n",
       "      <td>0.167841</td>\n",
       "      <td>0.832134</td>\n",
       "    </tr>\n",
       "    <tr>\n",
       "      <th>...</th>\n",
       "      <td>...</td>\n",
       "      <td>...</td>\n",
       "      <td>...</td>\n",
       "      <td>...</td>\n",
       "      <td>...</td>\n",
       "    </tr>\n",
       "    <tr>\n",
       "      <th>329</th>\n",
       "      <td>0.32521</td>\n",
       "      <td>0.347181</td>\n",
       "      <td>0.796104</td>\n",
       "      <td>0.150173</td>\n",
       "      <td>0.111795</td>\n",
       "    </tr>\n",
       "    <tr>\n",
       "      <th>330</th>\n",
       "      <td>0.361893</td>\n",
       "      <td>0.884685</td>\n",
       "      <td>0.819122</td>\n",
       "      <td>0.958579</td>\n",
       "      <td>0.865221</td>\n",
       "    </tr>\n",
       "    <tr>\n",
       "      <th>331</th>\n",
       "      <td>0.046728</td>\n",
       "      <td>0.116794</td>\n",
       "      <td>0.144389</td>\n",
       "      <td>0.372545</td>\n",
       "      <td>0.884433</td>\n",
       "    </tr>\n",
       "    <tr>\n",
       "      <th>332</th>\n",
       "      <td>0.743932</td>\n",
       "      <td>0.168863</td>\n",
       "      <td>0.988382</td>\n",
       "      <td>0.907513</td>\n",
       "      <td>0.560592</td>\n",
       "    </tr>\n",
       "    <tr>\n",
       "      <th>333</th>\n",
       "      <td>0.142649</td>\n",
       "      <td>0.036738</td>\n",
       "      <td>0.863144</td>\n",
       "      <td>0.166578</td>\n",
       "      <td>0.023745</td>\n",
       "    </tr>\n",
       "  </tbody>\n",
       "</table>\n",
       "<p>334 rows × 5 columns</p>\n",
       "</div>"
      ],
      "text/plain": [
       "             0         1         2         3         4\n",
       "0    344563444  0.916590  0.063555  0.775580  0.635909\n",
       "1      0.32885  0.663012  0.966798  0.376088  0.072760\n",
       "2      0.70152  0.976787  0.382041  0.355464  0.135462\n",
       "3     0.706865  0.849711  0.363770  0.027698  0.083670\n",
       "4     0.155703  0.233492  0.207222  0.167841  0.832134\n",
       "..         ...       ...       ...       ...       ...\n",
       "329    0.32521  0.347181  0.796104  0.150173  0.111795\n",
       "330   0.361893  0.884685  0.819122  0.958579  0.865221\n",
       "331   0.046728  0.116794  0.144389  0.372545  0.884433\n",
       "332   0.743932  0.168863  0.988382  0.907513  0.560592\n",
       "333   0.142649  0.036738  0.863144  0.166578  0.023745\n",
       "\n",
       "[334 rows x 5 columns]"
      ]
     },
     "execution_count": 46,
     "metadata": {},
     "output_type": "execute_result"
    }
   ],
   "source": [
    "newdf"
   ]
  },
  {
   "cell_type": "code",
   "execution_count": 47,
   "id": "b1113dd3-07f0-4f8e-b5f7-b3be4c4dafca",
   "metadata": {},
   "outputs": [
    {
     "data": {
      "text/html": [
       "<div>\n",
       "<style scoped>\n",
       "    .dataframe tbody tr th:only-of-type {\n",
       "        vertical-align: middle;\n",
       "    }\n",
       "\n",
       "    .dataframe tbody tr th {\n",
       "        vertical-align: top;\n",
       "    }\n",
       "\n",
       "    .dataframe thead th {\n",
       "        text-align: right;\n",
       "    }\n",
       "</style>\n",
       "<table border=\"1\" class=\"dataframe\">\n",
       "  <thead>\n",
       "    <tr style=\"text-align: right;\">\n",
       "      <th></th>\n",
       "      <th>0</th>\n",
       "      <th>1</th>\n",
       "      <th>2</th>\n",
       "      <th>3</th>\n",
       "      <th>4</th>\n",
       "    </tr>\n",
       "  </thead>\n",
       "  <tbody>\n",
       "    <tr>\n",
       "      <th>0</th>\n",
       "      <td>344563444</td>\n",
       "      <td>0.916590</td>\n",
       "      <td>0.063555</td>\n",
       "      <td>0.775580</td>\n",
       "      <td>0.635909</td>\n",
       "    </tr>\n",
       "    <tr>\n",
       "      <th>1</th>\n",
       "      <td>0.32885</td>\n",
       "      <td>0.663012</td>\n",
       "      <td>0.966798</td>\n",
       "      <td>0.376088</td>\n",
       "      <td>0.072760</td>\n",
       "    </tr>\n",
       "    <tr>\n",
       "      <th>2</th>\n",
       "      <td>0.70152</td>\n",
       "      <td>0.976787</td>\n",
       "      <td>0.382041</td>\n",
       "      <td>0.355464</td>\n",
       "      <td>0.135462</td>\n",
       "    </tr>\n",
       "    <tr>\n",
       "      <th>3</th>\n",
       "      <td>0.706865</td>\n",
       "      <td>0.849711</td>\n",
       "      <td>0.363770</td>\n",
       "      <td>0.027698</td>\n",
       "      <td>0.083670</td>\n",
       "    </tr>\n",
       "    <tr>\n",
       "      <th>4</th>\n",
       "      <td>0.155703</td>\n",
       "      <td>0.233492</td>\n",
       "      <td>0.207222</td>\n",
       "      <td>0.167841</td>\n",
       "      <td>0.832134</td>\n",
       "    </tr>\n",
       "    <tr>\n",
       "      <th>...</th>\n",
       "      <td>...</td>\n",
       "      <td>...</td>\n",
       "      <td>...</td>\n",
       "      <td>...</td>\n",
       "      <td>...</td>\n",
       "    </tr>\n",
       "    <tr>\n",
       "      <th>329</th>\n",
       "      <td>0.32521</td>\n",
       "      <td>0.347181</td>\n",
       "      <td>0.796104</td>\n",
       "      <td>0.150173</td>\n",
       "      <td>0.111795</td>\n",
       "    </tr>\n",
       "    <tr>\n",
       "      <th>330</th>\n",
       "      <td>0.361893</td>\n",
       "      <td>0.884685</td>\n",
       "      <td>0.819122</td>\n",
       "      <td>0.958579</td>\n",
       "      <td>0.865221</td>\n",
       "    </tr>\n",
       "    <tr>\n",
       "      <th>331</th>\n",
       "      <td>0.046728</td>\n",
       "      <td>0.116794</td>\n",
       "      <td>0.144389</td>\n",
       "      <td>0.372545</td>\n",
       "      <td>0.884433</td>\n",
       "    </tr>\n",
       "    <tr>\n",
       "      <th>332</th>\n",
       "      <td>0.743932</td>\n",
       "      <td>0.168863</td>\n",
       "      <td>0.988382</td>\n",
       "      <td>0.907513</td>\n",
       "      <td>0.560592</td>\n",
       "    </tr>\n",
       "    <tr>\n",
       "      <th>333</th>\n",
       "      <td>0.142649</td>\n",
       "      <td>0.036738</td>\n",
       "      <td>0.863144</td>\n",
       "      <td>0.166578</td>\n",
       "      <td>0.023745</td>\n",
       "    </tr>\n",
       "  </tbody>\n",
       "</table>\n",
       "<p>334 rows × 5 columns</p>\n",
       "</div>"
      ],
      "text/plain": [
       "             0         1         2         3         4\n",
       "0    344563444  0.916590  0.063555  0.775580  0.635909\n",
       "1      0.32885  0.663012  0.966798  0.376088  0.072760\n",
       "2      0.70152  0.976787  0.382041  0.355464  0.135462\n",
       "3     0.706865  0.849711  0.363770  0.027698  0.083670\n",
       "4     0.155703  0.233492  0.207222  0.167841  0.832134\n",
       "..         ...       ...       ...       ...       ...\n",
       "329    0.32521  0.347181  0.796104  0.150173  0.111795\n",
       "330   0.361893  0.884685  0.819122  0.958579  0.865221\n",
       "331   0.046728  0.116794  0.144389  0.372545  0.884433\n",
       "332   0.743932  0.168863  0.988382  0.907513  0.560592\n",
       "333   0.142649  0.036738  0.863144  0.166578  0.023745\n",
       "\n",
       "[334 rows x 5 columns]"
      ]
     },
     "execution_count": 47,
     "metadata": {},
     "output_type": "execute_result"
    }
   ],
   "source": [
    "newdf2"
   ]
  },
  {
   "cell_type": "code",
   "execution_count": 48,
   "id": "a9afeb24-29eb-430b-8aa8-a4df29543c7f",
   "metadata": {},
   "outputs": [],
   "source": [
    "#newdf2 = newdf[:]  # it makes a copy so not change in newdf if i make change in newdf2\n",
    "newdf3 = newdf.copy()"
   ]
  },
  {
   "cell_type": "code",
   "execution_count": 49,
   "id": "ca83e508-4665-4737-b370-a0450838942a",
   "metadata": {},
   "outputs": [
    {
     "name": "stderr",
     "output_type": "stream",
     "text": [
      "C:\\Users\\Nishant Badhautiya\\AppData\\Local\\Temp\\ipykernel_16708\\944743121.py:1: SettingWithCopyWarning: \n",
      "A value is trying to be set on a copy of a slice from a DataFrame\n",
      "\n",
      "See the caveats in the documentation: https://pandas.pydata.org/pandas-docs/stable/user_guide/indexing.html#returning-a-view-versus-a-copy\n",
      "  newdf2[0][0] = 3456\n"
     ]
    }
   ],
   "source": [
    "newdf2[0][0] = 3456"
   ]
  },
  {
   "cell_type": "code",
   "execution_count": 50,
   "id": "1915532d-82e5-40d1-aa4a-73f45dc6d5d6",
   "metadata": {},
   "outputs": [
    {
     "data": {
      "text/html": [
       "<div>\n",
       "<style scoped>\n",
       "    .dataframe tbody tr th:only-of-type {\n",
       "        vertical-align: middle;\n",
       "    }\n",
       "\n",
       "    .dataframe tbody tr th {\n",
       "        vertical-align: top;\n",
       "    }\n",
       "\n",
       "    .dataframe thead th {\n",
       "        text-align: right;\n",
       "    }\n",
       "</style>\n",
       "<table border=\"1\" class=\"dataframe\">\n",
       "  <thead>\n",
       "    <tr style=\"text-align: right;\">\n",
       "      <th></th>\n",
       "      <th>0</th>\n",
       "      <th>1</th>\n",
       "      <th>2</th>\n",
       "      <th>3</th>\n",
       "      <th>4</th>\n",
       "    </tr>\n",
       "  </thead>\n",
       "  <tbody>\n",
       "    <tr>\n",
       "      <th>0</th>\n",
       "      <td>3456</td>\n",
       "      <td>0.916590</td>\n",
       "      <td>0.063555</td>\n",
       "      <td>0.775580</td>\n",
       "      <td>0.635909</td>\n",
       "    </tr>\n",
       "    <tr>\n",
       "      <th>1</th>\n",
       "      <td>0.32885</td>\n",
       "      <td>0.663012</td>\n",
       "      <td>0.966798</td>\n",
       "      <td>0.376088</td>\n",
       "      <td>0.072760</td>\n",
       "    </tr>\n",
       "    <tr>\n",
       "      <th>2</th>\n",
       "      <td>0.70152</td>\n",
       "      <td>0.976787</td>\n",
       "      <td>0.382041</td>\n",
       "      <td>0.355464</td>\n",
       "      <td>0.135462</td>\n",
       "    </tr>\n",
       "    <tr>\n",
       "      <th>3</th>\n",
       "      <td>0.706865</td>\n",
       "      <td>0.849711</td>\n",
       "      <td>0.363770</td>\n",
       "      <td>0.027698</td>\n",
       "      <td>0.083670</td>\n",
       "    </tr>\n",
       "    <tr>\n",
       "      <th>4</th>\n",
       "      <td>0.155703</td>\n",
       "      <td>0.233492</td>\n",
       "      <td>0.207222</td>\n",
       "      <td>0.167841</td>\n",
       "      <td>0.832134</td>\n",
       "    </tr>\n",
       "    <tr>\n",
       "      <th>...</th>\n",
       "      <td>...</td>\n",
       "      <td>...</td>\n",
       "      <td>...</td>\n",
       "      <td>...</td>\n",
       "      <td>...</td>\n",
       "    </tr>\n",
       "    <tr>\n",
       "      <th>329</th>\n",
       "      <td>0.32521</td>\n",
       "      <td>0.347181</td>\n",
       "      <td>0.796104</td>\n",
       "      <td>0.150173</td>\n",
       "      <td>0.111795</td>\n",
       "    </tr>\n",
       "    <tr>\n",
       "      <th>330</th>\n",
       "      <td>0.361893</td>\n",
       "      <td>0.884685</td>\n",
       "      <td>0.819122</td>\n",
       "      <td>0.958579</td>\n",
       "      <td>0.865221</td>\n",
       "    </tr>\n",
       "    <tr>\n",
       "      <th>331</th>\n",
       "      <td>0.046728</td>\n",
       "      <td>0.116794</td>\n",
       "      <td>0.144389</td>\n",
       "      <td>0.372545</td>\n",
       "      <td>0.884433</td>\n",
       "    </tr>\n",
       "    <tr>\n",
       "      <th>332</th>\n",
       "      <td>0.743932</td>\n",
       "      <td>0.168863</td>\n",
       "      <td>0.988382</td>\n",
       "      <td>0.907513</td>\n",
       "      <td>0.560592</td>\n",
       "    </tr>\n",
       "    <tr>\n",
       "      <th>333</th>\n",
       "      <td>0.142649</td>\n",
       "      <td>0.036738</td>\n",
       "      <td>0.863144</td>\n",
       "      <td>0.166578</td>\n",
       "      <td>0.023745</td>\n",
       "    </tr>\n",
       "  </tbody>\n",
       "</table>\n",
       "<p>334 rows × 5 columns</p>\n",
       "</div>"
      ],
      "text/plain": [
       "            0         1         2         3         4\n",
       "0        3456  0.916590  0.063555  0.775580  0.635909\n",
       "1     0.32885  0.663012  0.966798  0.376088  0.072760\n",
       "2     0.70152  0.976787  0.382041  0.355464  0.135462\n",
       "3    0.706865  0.849711  0.363770  0.027698  0.083670\n",
       "4    0.155703  0.233492  0.207222  0.167841  0.832134\n",
       "..        ...       ...       ...       ...       ...\n",
       "329   0.32521  0.347181  0.796104  0.150173  0.111795\n",
       "330  0.361893  0.884685  0.819122  0.958579  0.865221\n",
       "331  0.046728  0.116794  0.144389  0.372545  0.884433\n",
       "332  0.743932  0.168863  0.988382  0.907513  0.560592\n",
       "333  0.142649  0.036738  0.863144  0.166578  0.023745\n",
       "\n",
       "[334 rows x 5 columns]"
      ]
     },
     "execution_count": 50,
     "metadata": {},
     "output_type": "execute_result"
    }
   ],
   "source": [
    "newdf2"
   ]
  },
  {
   "cell_type": "code",
   "execution_count": 51,
   "id": "acb0441b-f520-4441-b388-66a1f5b39f38",
   "metadata": {},
   "outputs": [
    {
     "data": {
      "text/html": [
       "<div>\n",
       "<style scoped>\n",
       "    .dataframe tbody tr th:only-of-type {\n",
       "        vertical-align: middle;\n",
       "    }\n",
       "\n",
       "    .dataframe tbody tr th {\n",
       "        vertical-align: top;\n",
       "    }\n",
       "\n",
       "    .dataframe thead th {\n",
       "        text-align: right;\n",
       "    }\n",
       "</style>\n",
       "<table border=\"1\" class=\"dataframe\">\n",
       "  <thead>\n",
       "    <tr style=\"text-align: right;\">\n",
       "      <th></th>\n",
       "      <th>0</th>\n",
       "      <th>1</th>\n",
       "      <th>2</th>\n",
       "      <th>3</th>\n",
       "      <th>4</th>\n",
       "    </tr>\n",
       "  </thead>\n",
       "  <tbody>\n",
       "    <tr>\n",
       "      <th>0</th>\n",
       "      <td>3456</td>\n",
       "      <td>0.916590</td>\n",
       "      <td>0.063555</td>\n",
       "      <td>0.775580</td>\n",
       "      <td>0.635909</td>\n",
       "    </tr>\n",
       "    <tr>\n",
       "      <th>1</th>\n",
       "      <td>0.32885</td>\n",
       "      <td>0.663012</td>\n",
       "      <td>0.966798</td>\n",
       "      <td>0.376088</td>\n",
       "      <td>0.072760</td>\n",
       "    </tr>\n",
       "    <tr>\n",
       "      <th>2</th>\n",
       "      <td>0.70152</td>\n",
       "      <td>0.976787</td>\n",
       "      <td>0.382041</td>\n",
       "      <td>0.355464</td>\n",
       "      <td>0.135462</td>\n",
       "    </tr>\n",
       "    <tr>\n",
       "      <th>3</th>\n",
       "      <td>0.706865</td>\n",
       "      <td>0.849711</td>\n",
       "      <td>0.363770</td>\n",
       "      <td>0.027698</td>\n",
       "      <td>0.083670</td>\n",
       "    </tr>\n",
       "    <tr>\n",
       "      <th>4</th>\n",
       "      <td>0.155703</td>\n",
       "      <td>0.233492</td>\n",
       "      <td>0.207222</td>\n",
       "      <td>0.167841</td>\n",
       "      <td>0.832134</td>\n",
       "    </tr>\n",
       "    <tr>\n",
       "      <th>...</th>\n",
       "      <td>...</td>\n",
       "      <td>...</td>\n",
       "      <td>...</td>\n",
       "      <td>...</td>\n",
       "      <td>...</td>\n",
       "    </tr>\n",
       "    <tr>\n",
       "      <th>329</th>\n",
       "      <td>0.32521</td>\n",
       "      <td>0.347181</td>\n",
       "      <td>0.796104</td>\n",
       "      <td>0.150173</td>\n",
       "      <td>0.111795</td>\n",
       "    </tr>\n",
       "    <tr>\n",
       "      <th>330</th>\n",
       "      <td>0.361893</td>\n",
       "      <td>0.884685</td>\n",
       "      <td>0.819122</td>\n",
       "      <td>0.958579</td>\n",
       "      <td>0.865221</td>\n",
       "    </tr>\n",
       "    <tr>\n",
       "      <th>331</th>\n",
       "      <td>0.046728</td>\n",
       "      <td>0.116794</td>\n",
       "      <td>0.144389</td>\n",
       "      <td>0.372545</td>\n",
       "      <td>0.884433</td>\n",
       "    </tr>\n",
       "    <tr>\n",
       "      <th>332</th>\n",
       "      <td>0.743932</td>\n",
       "      <td>0.168863</td>\n",
       "      <td>0.988382</td>\n",
       "      <td>0.907513</td>\n",
       "      <td>0.560592</td>\n",
       "    </tr>\n",
       "    <tr>\n",
       "      <th>333</th>\n",
       "      <td>0.142649</td>\n",
       "      <td>0.036738</td>\n",
       "      <td>0.863144</td>\n",
       "      <td>0.166578</td>\n",
       "      <td>0.023745</td>\n",
       "    </tr>\n",
       "  </tbody>\n",
       "</table>\n",
       "<p>334 rows × 5 columns</p>\n",
       "</div>"
      ],
      "text/plain": [
       "            0         1         2         3         4\n",
       "0        3456  0.916590  0.063555  0.775580  0.635909\n",
       "1     0.32885  0.663012  0.966798  0.376088  0.072760\n",
       "2     0.70152  0.976787  0.382041  0.355464  0.135462\n",
       "3    0.706865  0.849711  0.363770  0.027698  0.083670\n",
       "4    0.155703  0.233492  0.207222  0.167841  0.832134\n",
       "..        ...       ...       ...       ...       ...\n",
       "329   0.32521  0.347181  0.796104  0.150173  0.111795\n",
       "330  0.361893  0.884685  0.819122  0.958579  0.865221\n",
       "331  0.046728  0.116794  0.144389  0.372545  0.884433\n",
       "332  0.743932  0.168863  0.988382  0.907513  0.560592\n",
       "333  0.142649  0.036738  0.863144  0.166578  0.023745\n",
       "\n",
       "[334 rows x 5 columns]"
      ]
     },
     "execution_count": 51,
     "metadata": {},
     "output_type": "execute_result"
    }
   ],
   "source": [
    "newdf"
   ]
  },
  {
   "cell_type": "code",
   "execution_count": 52,
   "id": "e312504d-49f3-41f5-b193-0d8dc5f4b9ad",
   "metadata": {},
   "outputs": [],
   "source": [
    "newdf.loc[0,0] = 333"
   ]
  },
  {
   "cell_type": "code",
   "execution_count": 53,
   "id": "54be1a0d-ed0a-42f0-8e21-84fe7ca153a0",
   "metadata": {},
   "outputs": [
    {
     "data": {
      "text/html": [
       "<div>\n",
       "<style scoped>\n",
       "    .dataframe tbody tr th:only-of-type {\n",
       "        vertical-align: middle;\n",
       "    }\n",
       "\n",
       "    .dataframe tbody tr th {\n",
       "        vertical-align: top;\n",
       "    }\n",
       "\n",
       "    .dataframe thead th {\n",
       "        text-align: right;\n",
       "    }\n",
       "</style>\n",
       "<table border=\"1\" class=\"dataframe\">\n",
       "  <thead>\n",
       "    <tr style=\"text-align: right;\">\n",
       "      <th></th>\n",
       "      <th>0</th>\n",
       "      <th>1</th>\n",
       "      <th>2</th>\n",
       "      <th>3</th>\n",
       "      <th>4</th>\n",
       "    </tr>\n",
       "  </thead>\n",
       "  <tbody>\n",
       "    <tr>\n",
       "      <th>0</th>\n",
       "      <td>333</td>\n",
       "      <td>0.916590</td>\n",
       "      <td>0.063555</td>\n",
       "      <td>0.775580</td>\n",
       "      <td>0.635909</td>\n",
       "    </tr>\n",
       "    <tr>\n",
       "      <th>1</th>\n",
       "      <td>0.32885</td>\n",
       "      <td>0.663012</td>\n",
       "      <td>0.966798</td>\n",
       "      <td>0.376088</td>\n",
       "      <td>0.072760</td>\n",
       "    </tr>\n",
       "    <tr>\n",
       "      <th>2</th>\n",
       "      <td>0.70152</td>\n",
       "      <td>0.976787</td>\n",
       "      <td>0.382041</td>\n",
       "      <td>0.355464</td>\n",
       "      <td>0.135462</td>\n",
       "    </tr>\n",
       "  </tbody>\n",
       "</table>\n",
       "</div>"
      ],
      "text/plain": [
       "         0         1         2         3         4\n",
       "0      333  0.916590  0.063555  0.775580  0.635909\n",
       "1  0.32885  0.663012  0.966798  0.376088  0.072760\n",
       "2  0.70152  0.976787  0.382041  0.355464  0.135462"
      ]
     },
     "execution_count": 53,
     "metadata": {},
     "output_type": "execute_result"
    }
   ],
   "source": [
    "newdf.head(3)"
   ]
  },
  {
   "cell_type": "code",
   "execution_count": 54,
   "id": "aed9564b-d391-480c-8b47-b49e6fafef62",
   "metadata": {},
   "outputs": [
    {
     "data": {
      "text/plain": [
       "['A', 'B', 'C', 'D', 'E']"
      ]
     },
     "execution_count": 54,
     "metadata": {},
     "output_type": "execute_result"
    }
   ],
   "source": [
    "list(\"ABCDE\")"
   ]
  },
  {
   "cell_type": "code",
   "execution_count": 55,
   "id": "43b5ade5-d1cf-487b-a491-2a14c5ce403e",
   "metadata": {},
   "outputs": [],
   "source": [
    "newdf.columns = list(\"ABCDE\")"
   ]
  },
  {
   "cell_type": "code",
   "execution_count": 56,
   "id": "96d2870a-1faf-4535-8bb8-3fe866c32abc",
   "metadata": {},
   "outputs": [
    {
     "data": {
      "text/html": [
       "<div>\n",
       "<style scoped>\n",
       "    .dataframe tbody tr th:only-of-type {\n",
       "        vertical-align: middle;\n",
       "    }\n",
       "\n",
       "    .dataframe tbody tr th {\n",
       "        vertical-align: top;\n",
       "    }\n",
       "\n",
       "    .dataframe thead th {\n",
       "        text-align: right;\n",
       "    }\n",
       "</style>\n",
       "<table border=\"1\" class=\"dataframe\">\n",
       "  <thead>\n",
       "    <tr style=\"text-align: right;\">\n",
       "      <th></th>\n",
       "      <th>A</th>\n",
       "      <th>B</th>\n",
       "      <th>C</th>\n",
       "      <th>D</th>\n",
       "      <th>E</th>\n",
       "    </tr>\n",
       "  </thead>\n",
       "  <tbody>\n",
       "    <tr>\n",
       "      <th>0</th>\n",
       "      <td>333</td>\n",
       "      <td>0.916590</td>\n",
       "      <td>0.063555</td>\n",
       "      <td>0.775580</td>\n",
       "      <td>0.635909</td>\n",
       "    </tr>\n",
       "    <tr>\n",
       "      <th>1</th>\n",
       "      <td>0.32885</td>\n",
       "      <td>0.663012</td>\n",
       "      <td>0.966798</td>\n",
       "      <td>0.376088</td>\n",
       "      <td>0.072760</td>\n",
       "    </tr>\n",
       "    <tr>\n",
       "      <th>2</th>\n",
       "      <td>0.70152</td>\n",
       "      <td>0.976787</td>\n",
       "      <td>0.382041</td>\n",
       "      <td>0.355464</td>\n",
       "      <td>0.135462</td>\n",
       "    </tr>\n",
       "    <tr>\n",
       "      <th>3</th>\n",
       "      <td>0.706865</td>\n",
       "      <td>0.849711</td>\n",
       "      <td>0.363770</td>\n",
       "      <td>0.027698</td>\n",
       "      <td>0.083670</td>\n",
       "    </tr>\n",
       "    <tr>\n",
       "      <th>4</th>\n",
       "      <td>0.155703</td>\n",
       "      <td>0.233492</td>\n",
       "      <td>0.207222</td>\n",
       "      <td>0.167841</td>\n",
       "      <td>0.832134</td>\n",
       "    </tr>\n",
       "    <tr>\n",
       "      <th>...</th>\n",
       "      <td>...</td>\n",
       "      <td>...</td>\n",
       "      <td>...</td>\n",
       "      <td>...</td>\n",
       "      <td>...</td>\n",
       "    </tr>\n",
       "    <tr>\n",
       "      <th>329</th>\n",
       "      <td>0.32521</td>\n",
       "      <td>0.347181</td>\n",
       "      <td>0.796104</td>\n",
       "      <td>0.150173</td>\n",
       "      <td>0.111795</td>\n",
       "    </tr>\n",
       "    <tr>\n",
       "      <th>330</th>\n",
       "      <td>0.361893</td>\n",
       "      <td>0.884685</td>\n",
       "      <td>0.819122</td>\n",
       "      <td>0.958579</td>\n",
       "      <td>0.865221</td>\n",
       "    </tr>\n",
       "    <tr>\n",
       "      <th>331</th>\n",
       "      <td>0.046728</td>\n",
       "      <td>0.116794</td>\n",
       "      <td>0.144389</td>\n",
       "      <td>0.372545</td>\n",
       "      <td>0.884433</td>\n",
       "    </tr>\n",
       "    <tr>\n",
       "      <th>332</th>\n",
       "      <td>0.743932</td>\n",
       "      <td>0.168863</td>\n",
       "      <td>0.988382</td>\n",
       "      <td>0.907513</td>\n",
       "      <td>0.560592</td>\n",
       "    </tr>\n",
       "    <tr>\n",
       "      <th>333</th>\n",
       "      <td>0.142649</td>\n",
       "      <td>0.036738</td>\n",
       "      <td>0.863144</td>\n",
       "      <td>0.166578</td>\n",
       "      <td>0.023745</td>\n",
       "    </tr>\n",
       "  </tbody>\n",
       "</table>\n",
       "<p>334 rows × 5 columns</p>\n",
       "</div>"
      ],
      "text/plain": [
       "            A         B         C         D         E\n",
       "0         333  0.916590  0.063555  0.775580  0.635909\n",
       "1     0.32885  0.663012  0.966798  0.376088  0.072760\n",
       "2     0.70152  0.976787  0.382041  0.355464  0.135462\n",
       "3    0.706865  0.849711  0.363770  0.027698  0.083670\n",
       "4    0.155703  0.233492  0.207222  0.167841  0.832134\n",
       "..        ...       ...       ...       ...       ...\n",
       "329   0.32521  0.347181  0.796104  0.150173  0.111795\n",
       "330  0.361893  0.884685  0.819122  0.958579  0.865221\n",
       "331  0.046728  0.116794  0.144389  0.372545  0.884433\n",
       "332  0.743932  0.168863  0.988382  0.907513  0.560592\n",
       "333  0.142649  0.036738  0.863144  0.166578  0.023745\n",
       "\n",
       "[334 rows x 5 columns]"
      ]
     },
     "execution_count": 56,
     "metadata": {},
     "output_type": "execute_result"
    }
   ],
   "source": [
    "newdf"
   ]
  },
  {
   "cell_type": "code",
   "execution_count": 57,
   "id": "c9383b4a-45ca-4ef0-b808-bca5c1fdf3a9",
   "metadata": {},
   "outputs": [],
   "source": [
    "# newdf.loc[0,0] = 323\n",
    "newdf.loc[0,'A'] = 3231"
   ]
  },
  {
   "cell_type": "code",
   "execution_count": 58,
   "id": "8ff5cb3b-e72f-4d27-a74f-fb89d5b77e4a",
   "metadata": {},
   "outputs": [
    {
     "data": {
      "text/html": [
       "<div>\n",
       "<style scoped>\n",
       "    .dataframe tbody tr th:only-of-type {\n",
       "        vertical-align: middle;\n",
       "    }\n",
       "\n",
       "    .dataframe tbody tr th {\n",
       "        vertical-align: top;\n",
       "    }\n",
       "\n",
       "    .dataframe thead th {\n",
       "        text-align: right;\n",
       "    }\n",
       "</style>\n",
       "<table border=\"1\" class=\"dataframe\">\n",
       "  <thead>\n",
       "    <tr style=\"text-align: right;\">\n",
       "      <th></th>\n",
       "      <th>A</th>\n",
       "      <th>B</th>\n",
       "      <th>C</th>\n",
       "      <th>D</th>\n",
       "      <th>E</th>\n",
       "    </tr>\n",
       "  </thead>\n",
       "  <tbody>\n",
       "    <tr>\n",
       "      <th>0</th>\n",
       "      <td>3231</td>\n",
       "      <td>0.916590</td>\n",
       "      <td>0.063555</td>\n",
       "      <td>0.775580</td>\n",
       "      <td>0.635909</td>\n",
       "    </tr>\n",
       "    <tr>\n",
       "      <th>1</th>\n",
       "      <td>0.32885</td>\n",
       "      <td>0.663012</td>\n",
       "      <td>0.966798</td>\n",
       "      <td>0.376088</td>\n",
       "      <td>0.072760</td>\n",
       "    </tr>\n",
       "    <tr>\n",
       "      <th>2</th>\n",
       "      <td>0.70152</td>\n",
       "      <td>0.976787</td>\n",
       "      <td>0.382041</td>\n",
       "      <td>0.355464</td>\n",
       "      <td>0.135462</td>\n",
       "    </tr>\n",
       "    <tr>\n",
       "      <th>3</th>\n",
       "      <td>0.706865</td>\n",
       "      <td>0.849711</td>\n",
       "      <td>0.363770</td>\n",
       "      <td>0.027698</td>\n",
       "      <td>0.083670</td>\n",
       "    </tr>\n",
       "    <tr>\n",
       "      <th>4</th>\n",
       "      <td>0.155703</td>\n",
       "      <td>0.233492</td>\n",
       "      <td>0.207222</td>\n",
       "      <td>0.167841</td>\n",
       "      <td>0.832134</td>\n",
       "    </tr>\n",
       "    <tr>\n",
       "      <th>...</th>\n",
       "      <td>...</td>\n",
       "      <td>...</td>\n",
       "      <td>...</td>\n",
       "      <td>...</td>\n",
       "      <td>...</td>\n",
       "    </tr>\n",
       "    <tr>\n",
       "      <th>329</th>\n",
       "      <td>0.32521</td>\n",
       "      <td>0.347181</td>\n",
       "      <td>0.796104</td>\n",
       "      <td>0.150173</td>\n",
       "      <td>0.111795</td>\n",
       "    </tr>\n",
       "    <tr>\n",
       "      <th>330</th>\n",
       "      <td>0.361893</td>\n",
       "      <td>0.884685</td>\n",
       "      <td>0.819122</td>\n",
       "      <td>0.958579</td>\n",
       "      <td>0.865221</td>\n",
       "    </tr>\n",
       "    <tr>\n",
       "      <th>331</th>\n",
       "      <td>0.046728</td>\n",
       "      <td>0.116794</td>\n",
       "      <td>0.144389</td>\n",
       "      <td>0.372545</td>\n",
       "      <td>0.884433</td>\n",
       "    </tr>\n",
       "    <tr>\n",
       "      <th>332</th>\n",
       "      <td>0.743932</td>\n",
       "      <td>0.168863</td>\n",
       "      <td>0.988382</td>\n",
       "      <td>0.907513</td>\n",
       "      <td>0.560592</td>\n",
       "    </tr>\n",
       "    <tr>\n",
       "      <th>333</th>\n",
       "      <td>0.142649</td>\n",
       "      <td>0.036738</td>\n",
       "      <td>0.863144</td>\n",
       "      <td>0.166578</td>\n",
       "      <td>0.023745</td>\n",
       "    </tr>\n",
       "  </tbody>\n",
       "</table>\n",
       "<p>334 rows × 5 columns</p>\n",
       "</div>"
      ],
      "text/plain": [
       "            A         B         C         D         E\n",
       "0        3231  0.916590  0.063555  0.775580  0.635909\n",
       "1     0.32885  0.663012  0.966798  0.376088  0.072760\n",
       "2     0.70152  0.976787  0.382041  0.355464  0.135462\n",
       "3    0.706865  0.849711  0.363770  0.027698  0.083670\n",
       "4    0.155703  0.233492  0.207222  0.167841  0.832134\n",
       "..        ...       ...       ...       ...       ...\n",
       "329   0.32521  0.347181  0.796104  0.150173  0.111795\n",
       "330  0.361893  0.884685  0.819122  0.958579  0.865221\n",
       "331  0.046728  0.116794  0.144389  0.372545  0.884433\n",
       "332  0.743932  0.168863  0.988382  0.907513  0.560592\n",
       "333  0.142649  0.036738  0.863144  0.166578  0.023745\n",
       "\n",
       "[334 rows x 5 columns]"
      ]
     },
     "execution_count": 58,
     "metadata": {},
     "output_type": "execute_result"
    }
   ],
   "source": [
    "newdf"
   ]
  },
  {
   "cell_type": "code",
   "execution_count": 59,
   "id": "509822b7-b84f-46c4-a36b-5a7f51188518",
   "metadata": {},
   "outputs": [
    {
     "ename": "KeyError",
     "evalue": "'[0] not found in axis'",
     "output_type": "error",
     "traceback": [
      "\u001b[1;31m---------------------------------------------------------------------------\u001b[0m",
      "\u001b[1;31mKeyError\u001b[0m                                  Traceback (most recent call last)",
      "Cell \u001b[1;32mIn[59], line 1\u001b[0m\n\u001b[1;32m----> 1\u001b[0m newdf \u001b[38;5;241m=\u001b[39m \u001b[43mnewdf\u001b[49m\u001b[38;5;241;43m.\u001b[39;49m\u001b[43mdrop\u001b[49m\u001b[43m(\u001b[49m\u001b[38;5;241;43m0\u001b[39;49m\u001b[43m,\u001b[49m\u001b[43m \u001b[49m\u001b[43maxis\u001b[49m\u001b[43m \u001b[49m\u001b[38;5;241;43m=\u001b[39;49m\u001b[43m \u001b[49m\u001b[38;5;241;43m1\u001b[39;49m\u001b[43m)\u001b[49m \u001b[38;5;66;03m# drop the column 0 from axis 1\u001b[39;00m\n",
      "File \u001b[1;32m~\\AppData\\Local\\Programs\\Python\\Python311\\Lib\\site-packages\\pandas\\core\\frame.py:5347\u001b[0m, in \u001b[0;36mDataFrame.drop\u001b[1;34m(self, labels, axis, index, columns, level, inplace, errors)\u001b[0m\n\u001b[0;32m   5199\u001b[0m \u001b[38;5;28;01mdef\u001b[39;00m \u001b[38;5;21mdrop\u001b[39m(\n\u001b[0;32m   5200\u001b[0m     \u001b[38;5;28mself\u001b[39m,\n\u001b[0;32m   5201\u001b[0m     labels: IndexLabel \u001b[38;5;241m|\u001b[39m \u001b[38;5;28;01mNone\u001b[39;00m \u001b[38;5;241m=\u001b[39m \u001b[38;5;28;01mNone\u001b[39;00m,\n\u001b[1;32m   (...)\u001b[0m\n\u001b[0;32m   5208\u001b[0m     errors: IgnoreRaise \u001b[38;5;241m=\u001b[39m \u001b[38;5;124m\"\u001b[39m\u001b[38;5;124mraise\u001b[39m\u001b[38;5;124m\"\u001b[39m,\n\u001b[0;32m   5209\u001b[0m ) \u001b[38;5;241m-\u001b[39m\u001b[38;5;241m>\u001b[39m DataFrame \u001b[38;5;241m|\u001b[39m \u001b[38;5;28;01mNone\u001b[39;00m:\n\u001b[0;32m   5210\u001b[0m \u001b[38;5;250m    \u001b[39m\u001b[38;5;124;03m\"\"\"\u001b[39;00m\n\u001b[0;32m   5211\u001b[0m \u001b[38;5;124;03m    Drop specified labels from rows or columns.\u001b[39;00m\n\u001b[0;32m   5212\u001b[0m \n\u001b[1;32m   (...)\u001b[0m\n\u001b[0;32m   5345\u001b[0m \u001b[38;5;124;03m            weight  1.0     0.8\u001b[39;00m\n\u001b[0;32m   5346\u001b[0m \u001b[38;5;124;03m    \"\"\"\u001b[39;00m\n\u001b[1;32m-> 5347\u001b[0m     \u001b[38;5;28;01mreturn\u001b[39;00m \u001b[38;5;28;43msuper\u001b[39;49m\u001b[43m(\u001b[49m\u001b[43m)\u001b[49m\u001b[38;5;241;43m.\u001b[39;49m\u001b[43mdrop\u001b[49m\u001b[43m(\u001b[49m\n\u001b[0;32m   5348\u001b[0m \u001b[43m        \u001b[49m\u001b[43mlabels\u001b[49m\u001b[38;5;241;43m=\u001b[39;49m\u001b[43mlabels\u001b[49m\u001b[43m,\u001b[49m\n\u001b[0;32m   5349\u001b[0m \u001b[43m        \u001b[49m\u001b[43maxis\u001b[49m\u001b[38;5;241;43m=\u001b[39;49m\u001b[43maxis\u001b[49m\u001b[43m,\u001b[49m\n\u001b[0;32m   5350\u001b[0m \u001b[43m        \u001b[49m\u001b[43mindex\u001b[49m\u001b[38;5;241;43m=\u001b[39;49m\u001b[43mindex\u001b[49m\u001b[43m,\u001b[49m\n\u001b[0;32m   5351\u001b[0m \u001b[43m        \u001b[49m\u001b[43mcolumns\u001b[49m\u001b[38;5;241;43m=\u001b[39;49m\u001b[43mcolumns\u001b[49m\u001b[43m,\u001b[49m\n\u001b[0;32m   5352\u001b[0m \u001b[43m        \u001b[49m\u001b[43mlevel\u001b[49m\u001b[38;5;241;43m=\u001b[39;49m\u001b[43mlevel\u001b[49m\u001b[43m,\u001b[49m\n\u001b[0;32m   5353\u001b[0m \u001b[43m        \u001b[49m\u001b[43minplace\u001b[49m\u001b[38;5;241;43m=\u001b[39;49m\u001b[43minplace\u001b[49m\u001b[43m,\u001b[49m\n\u001b[0;32m   5354\u001b[0m \u001b[43m        \u001b[49m\u001b[43merrors\u001b[49m\u001b[38;5;241;43m=\u001b[39;49m\u001b[43merrors\u001b[49m\u001b[43m,\u001b[49m\n\u001b[0;32m   5355\u001b[0m \u001b[43m    \u001b[49m\u001b[43m)\u001b[49m\n",
      "File \u001b[1;32m~\\AppData\\Local\\Programs\\Python\\Python311\\Lib\\site-packages\\pandas\\core\\generic.py:4711\u001b[0m, in \u001b[0;36mNDFrame.drop\u001b[1;34m(self, labels, axis, index, columns, level, inplace, errors)\u001b[0m\n\u001b[0;32m   4709\u001b[0m \u001b[38;5;28;01mfor\u001b[39;00m axis, labels \u001b[38;5;129;01min\u001b[39;00m axes\u001b[38;5;241m.\u001b[39mitems():\n\u001b[0;32m   4710\u001b[0m     \u001b[38;5;28;01mif\u001b[39;00m labels \u001b[38;5;129;01mis\u001b[39;00m \u001b[38;5;129;01mnot\u001b[39;00m \u001b[38;5;28;01mNone\u001b[39;00m:\n\u001b[1;32m-> 4711\u001b[0m         obj \u001b[38;5;241m=\u001b[39m \u001b[43mobj\u001b[49m\u001b[38;5;241;43m.\u001b[39;49m\u001b[43m_drop_axis\u001b[49m\u001b[43m(\u001b[49m\u001b[43mlabels\u001b[49m\u001b[43m,\u001b[49m\u001b[43m \u001b[49m\u001b[43maxis\u001b[49m\u001b[43m,\u001b[49m\u001b[43m \u001b[49m\u001b[43mlevel\u001b[49m\u001b[38;5;241;43m=\u001b[39;49m\u001b[43mlevel\u001b[49m\u001b[43m,\u001b[49m\u001b[43m \u001b[49m\u001b[43merrors\u001b[49m\u001b[38;5;241;43m=\u001b[39;49m\u001b[43merrors\u001b[49m\u001b[43m)\u001b[49m\n\u001b[0;32m   4713\u001b[0m \u001b[38;5;28;01mif\u001b[39;00m inplace:\n\u001b[0;32m   4714\u001b[0m     \u001b[38;5;28mself\u001b[39m\u001b[38;5;241m.\u001b[39m_update_inplace(obj)\n",
      "File \u001b[1;32m~\\AppData\\Local\\Programs\\Python\\Python311\\Lib\\site-packages\\pandas\\core\\generic.py:4753\u001b[0m, in \u001b[0;36mNDFrame._drop_axis\u001b[1;34m(self, labels, axis, level, errors, only_slice)\u001b[0m\n\u001b[0;32m   4751\u001b[0m         new_axis \u001b[38;5;241m=\u001b[39m axis\u001b[38;5;241m.\u001b[39mdrop(labels, level\u001b[38;5;241m=\u001b[39mlevel, errors\u001b[38;5;241m=\u001b[39merrors)\n\u001b[0;32m   4752\u001b[0m     \u001b[38;5;28;01melse\u001b[39;00m:\n\u001b[1;32m-> 4753\u001b[0m         new_axis \u001b[38;5;241m=\u001b[39m \u001b[43maxis\u001b[49m\u001b[38;5;241;43m.\u001b[39;49m\u001b[43mdrop\u001b[49m\u001b[43m(\u001b[49m\u001b[43mlabels\u001b[49m\u001b[43m,\u001b[49m\u001b[43m \u001b[49m\u001b[43merrors\u001b[49m\u001b[38;5;241;43m=\u001b[39;49m\u001b[43merrors\u001b[49m\u001b[43m)\u001b[49m\n\u001b[0;32m   4754\u001b[0m     indexer \u001b[38;5;241m=\u001b[39m axis\u001b[38;5;241m.\u001b[39mget_indexer(new_axis)\n\u001b[0;32m   4756\u001b[0m \u001b[38;5;66;03m# Case for non-unique axis\u001b[39;00m\n\u001b[0;32m   4757\u001b[0m \u001b[38;5;28;01melse\u001b[39;00m:\n",
      "File \u001b[1;32m~\\AppData\\Local\\Programs\\Python\\Python311\\Lib\\site-packages\\pandas\\core\\indexes\\base.py:6992\u001b[0m, in \u001b[0;36mIndex.drop\u001b[1;34m(self, labels, errors)\u001b[0m\n\u001b[0;32m   6990\u001b[0m \u001b[38;5;28;01mif\u001b[39;00m mask\u001b[38;5;241m.\u001b[39many():\n\u001b[0;32m   6991\u001b[0m     \u001b[38;5;28;01mif\u001b[39;00m errors \u001b[38;5;241m!=\u001b[39m \u001b[38;5;124m\"\u001b[39m\u001b[38;5;124mignore\u001b[39m\u001b[38;5;124m\"\u001b[39m:\n\u001b[1;32m-> 6992\u001b[0m         \u001b[38;5;28;01mraise\u001b[39;00m \u001b[38;5;167;01mKeyError\u001b[39;00m(\u001b[38;5;124mf\u001b[39m\u001b[38;5;124m\"\u001b[39m\u001b[38;5;132;01m{\u001b[39;00mlabels[mask]\u001b[38;5;241m.\u001b[39mtolist()\u001b[38;5;132;01m}\u001b[39;00m\u001b[38;5;124m not found in axis\u001b[39m\u001b[38;5;124m\"\u001b[39m)\n\u001b[0;32m   6993\u001b[0m     indexer \u001b[38;5;241m=\u001b[39m indexer[\u001b[38;5;241m~\u001b[39mmask]\n\u001b[0;32m   6994\u001b[0m \u001b[38;5;28;01mreturn\u001b[39;00m \u001b[38;5;28mself\u001b[39m\u001b[38;5;241m.\u001b[39mdelete(indexer)\n",
      "\u001b[1;31mKeyError\u001b[0m: '[0] not found in axis'"
     ]
    }
   ],
   "source": [
    "newdf = newdf.drop(0, axis = 1) # drop the column 0 from axis 1"
   ]
  },
  {
   "cell_type": "code",
   "execution_count": null,
   "id": "e97c6931-cba7-4f42-8841-afc547282f2c",
   "metadata": {},
   "outputs": [],
   "source": [
    "newdf"
   ]
  },
  {
   "cell_type": "code",
   "execution_count": null,
   "id": "93591056-39b5-4d44-b35d-a59a2ca3e1a9",
   "metadata": {},
   "outputs": [],
   "source": [
    "newdf.loc[[1,2], ['C', 'D']] # gives first and second rows with C and D  columns"
   ]
  },
  {
   "cell_type": "code",
   "execution_count": null,
   "id": "08bf1b28-825a-4f79-895b-fb457a633770",
   "metadata": {},
   "outputs": [],
   "source": [
    "newdf.loc[:, ['C', 'D']]  #gives all the rows with C and D columns"
   ]
  },
  {
   "cell_type": "code",
   "execution_count": null,
   "id": "1cc813cc-f76d-4db5-b7ed-ba1f23747f5c",
   "metadata": {},
   "outputs": [],
   "source": [
    "newdf.loc[[1,2], :]  #gives all the columns with 1 and 2 rows"
   ]
  },
  {
   "cell_type": "code",
   "execution_count": null,
   "id": "343557f0-f231-485f-a4c8-2a70a39f6539",
   "metadata": {},
   "outputs": [],
   "source": [
    "newdf.loc[(newdf['A'] < 0.3)]  # run complex query like in database here i select all the columns A where their value is less than 0.3"
   ]
  },
  {
   "cell_type": "code",
   "execution_count": null,
   "id": "ec5f680b-7137-4047-b5cc-b2e54d8c6554",
   "metadata": {},
   "outputs": [],
   "source": [
    "newdf.loc[(newdf['A'] < 0.3) & (newdf['C'] > 0.1)]"
   ]
  },
  {
   "cell_type": "code",
   "execution_count": null,
   "id": "2743e0b0-78f0-4d54-9c2c-b56b6f7e7ea9",
   "metadata": {},
   "outputs": [],
   "source": [
    "newdf.head()"
   ]
  },
  {
   "cell_type": "code",
   "execution_count": null,
   "id": "af16347a-13f1-4c71-aaf3-0060e4a0b45a",
   "metadata": {},
   "outputs": [],
   "source": [
    "newdf.iloc[0,4]  #ilock useful when we wants to get result by providing index whereous .loc used when we don't give number so we have to give the name of our column"
   ]
  },
  {
   "cell_type": "code",
   "execution_count": null,
   "id": "d6f85888-0bba-40f2-a5c9-feb72a3198a6",
   "metadata": {},
   "outputs": [],
   "source": [
    "newdf.iloc[[0,5], [1,2]]"
   ]
  },
  {
   "cell_type": "code",
   "execution_count": null,
   "id": "4c6167df-c95e-4ab5-8669-6d99d5fcccf9",
   "metadata": {},
   "outputs": [],
   "source": [
    "newdf.head(3)"
   ]
  },
  {
   "cell_type": "code",
   "execution_count": null,
   "id": "bf1d1dd5-aa38-4188-878f-38268c2f84d2",
   "metadata": {},
   "outputs": [],
   "source": [
    "newdf.drop([0]) #drops the 0th rows by default axis is 0"
   ]
  },
  {
   "cell_type": "code",
   "execution_count": null,
   "id": "87134618-368c-4c42-9e55-a80ebd7afb7e",
   "metadata": {},
   "outputs": [],
   "source": [
    "# newdf.drop(['A'], axis = 1)\n",
    "newdf.drop(['A', 'C'], axis = 1) # drop A and C column"
   ]
  },
  {
   "cell_type": "code",
   "execution_count": null,
   "id": "ab23d77c-930e-47d3-a539-fedf0acdf13e",
   "metadata": {},
   "outputs": [],
   "source": [
    "newdf"
   ]
  },
  {
   "cell_type": "code",
   "execution_count": null,
   "id": "c841913b-934f-46a4-b454-50a5e9041f45",
   "metadata": {},
   "outputs": [],
   "source": [
    "newdf.drop(['A', 'D'], axis = 1, inplace = True) # drop A and C column permanently at their place so inplace means modify the original dataframe"
   ]
  },
  {
   "cell_type": "code",
   "execution_count": null,
   "id": "7e22fafe-76be-422b-af5c-26d84d134f57",
   "metadata": {},
   "outputs": [],
   "source": [
    "newdf"
   ]
  },
  {
   "cell_type": "code",
   "execution_count": null,
   "id": "e0f92879-4a97-4c8c-b90c-ad71a81ee815",
   "metadata": {},
   "outputs": [],
   "source": [
    "newdf.drop([1,5], axis = 0, inplace = True) # drop A and C column permanently at their place so inplace means modify the original dataframe"
   ]
  },
  {
   "cell_type": "code",
   "execution_count": null,
   "id": "975acdb1-f631-40be-9d9b-56ba7fa69944",
   "metadata": {},
   "outputs": [],
   "source": [
    "newdf"
   ]
  },
  {
   "cell_type": "code",
   "execution_count": null,
   "id": "3149bc8c-9524-40b7-ae24-61f837264352",
   "metadata": {},
   "outputs": [],
   "source": [
    "newdf.reset_index() #reset the index but it also adds a new column by name of index"
   ]
  },
  {
   "cell_type": "code",
   "execution_count": null,
   "id": "b95922e0-8f26-4453-ba1c-7a6cee5123ac",
   "metadata": {},
   "outputs": [],
   "source": [
    "newdf.reset_index(drop = True, inplace = True) # now it will drop our index column"
   ]
  },
  {
   "cell_type": "code",
   "execution_count": null,
   "id": "85dd23f5-7806-45eb-904f-3c772f955890",
   "metadata": {},
   "outputs": [],
   "source": [
    "newdf"
   ]
  },
  {
   "cell_type": "code",
   "execution_count": null,
   "id": "11be983c-bd07-4e66-93f6-c56407a15689",
   "metadata": {},
   "outputs": [],
   "source": [
    "# how to remove nulls(nan) from pandas\n",
    "# how to remove duplicates in pandas \n",
    "newdf['B'].isnull() # returns all values where column B is null"
   ]
  },
  {
   "cell_type": "code",
   "execution_count": null,
   "id": "acae1d33-d44e-450e-a020-9063b7b11f83",
   "metadata": {},
   "outputs": [],
   "source": [
    "newdf.loc[:, ['B']] = None"
   ]
  },
  {
   "cell_type": "code",
   "execution_count": null,
   "id": "5bf31674-6348-444b-af32-0a942eb69b0e",
   "metadata": {},
   "outputs": [],
   "source": [
    "newdf"
   ]
  },
  {
   "cell_type": "code",
   "execution_count": null,
   "id": "6cfa8609-6d5c-4f49-8a3d-f7cf80250281",
   "metadata": {},
   "outputs": [],
   "source": [
    "newdf['B'].isnull()"
   ]
  },
  {
   "cell_type": "code",
   "execution_count": null,
   "id": "85857fe0-a853-477e-9661-287d4420765f",
   "metadata": {},
   "outputs": [],
   "source": [
    "newdf.loc[:, ['B']] = 56"
   ]
  },
  {
   "cell_type": "code",
   "execution_count": null,
   "id": "34235694-e87b-47c9-a3fe-d35d77a5e753",
   "metadata": {},
   "outputs": [],
   "source": [
    "newdf"
   ]
  },
  {
   "cell_type": "code",
   "execution_count": null,
   "id": "464e283f-13b1-4f4f-9feb-f2bb1180b56c",
   "metadata": {},
   "outputs": [],
   "source": []
  },
  {
   "cell_type": "code",
   "execution_count": null,
   "id": "bda950e1-abd4-4d22-9fcd-5a2130b4bbce",
   "metadata": {},
   "outputs": [],
   "source": []
  },
  {
   "cell_type": "code",
   "execution_count": null,
   "id": "c200c096-e263-4bda-b7ce-5363acf5b106",
   "metadata": {},
   "outputs": [],
   "source": []
  },
  {
   "cell_type": "code",
   "execution_count": null,
   "id": "c69c39d9-1a8e-43d6-bb2c-b9515f32dc43",
   "metadata": {},
   "outputs": [],
   "source": []
  },
  {
   "cell_type": "code",
   "execution_count": null,
   "id": "8d432904-ab77-43be-ada2-32ff3b520b9f",
   "metadata": {},
   "outputs": [],
   "source": [
    "df = pd.DataFrame({\"name\":['Alfred', 'Batman', 'Catwoman'],\n",
    "                   \"toy\" : [np.nan, 'Batmobile', 'Bullwhip'], \n",
    "                   \"born\" : [pd.NaT, pd.Timestamp(\"1940-04-25\"), pd.NaT]})"
   ]
  },
  {
   "cell_type": "code",
   "execution_count": null,
   "id": "ac377646-5791-42e9-9b1b-8faaa577bef7",
   "metadata": {},
   "outputs": [],
   "source": [
    "df"
   ]
  },
  {
   "cell_type": "code",
   "execution_count": null,
   "id": "0d95d53b-67f6-4040-ae77-a42b245b5ecf",
   "metadata": {},
   "outputs": [],
   "source": [
    "df.dropna(how = 'all') # drops nan and NaT valued rows where all the values are nan and NaT"
   ]
  },
  {
   "cell_type": "code",
   "execution_count": null,
   "id": "291adf89-868d-4092-bfa4-96215b22939e",
   "metadata": {},
   "outputs": [],
   "source": [
    "df = pd.DataFrame({\"name\":['Alfred', 'Batman', 'Catwoman'],\n",
    "                   \"toy\" : [np.nan, np.nan, pd.NaT], \n",
    "                   \"born\" : [pd.NaT, pd.Timestamp(\"1940-04-25\"), pd.NaT]})"
   ]
  },
  {
   "cell_type": "code",
   "execution_count": null,
   "id": "6066bcee-c075-496d-aebd-ab3cee422826",
   "metadata": {},
   "outputs": [],
   "source": [
    "df.dropna(how = 'all', axis = 1) # goes to the axis 1 and drop that column which have all element set to nan or NaT"
   ]
  },
  {
   "cell_type": "code",
   "execution_count": null,
   "id": "bc204aa9-2f20-4a8c-a885-810d3a78a179",
   "metadata": {},
   "outputs": [],
   "source": [
    "df = pd.DataFrame({\"name\":['Alfred', 'Batman', 'Alfred'],\n",
    "                   \"toy\" : [np.nan, 'Batmobile', 'Bullwhip'], \n",
    "                   \"born\" : [pd.NaT, pd.Timestamp(\"1940-04-25\"), pd.NaT]})"
   ]
  },
  {
   "cell_type": "code",
   "execution_count": null,
   "id": "1d8fd474-7523-4cb7-95a6-cde45b08f1e6",
   "metadata": {},
   "outputs": [],
   "source": [
    "df"
   ]
  },
  {
   "cell_type": "code",
   "execution_count": null,
   "id": "31c7edf1-a989-4d12-87e3-90b893f98558",
   "metadata": {},
   "outputs": [],
   "source": [
    "df.drop_duplicates()  # nothing will happen"
   ]
  },
  {
   "cell_type": "code",
   "execution_count": null,
   "id": "d5337744-da2a-49c9-903f-28f1e0dfd335",
   "metadata": {},
   "outputs": [],
   "source": [
    "df.drop_duplicates(subset = ['name']) # removes the duplicates from the name column"
   ]
  },
  {
   "cell_type": "code",
   "execution_count": null,
   "id": "4fb47498-7f21-4a80-9cec-89a6193c2a0f",
   "metadata": {},
   "outputs": [],
   "source": [
    "df"
   ]
  },
  {
   "cell_type": "code",
   "execution_count": null,
   "id": "e4985037-c712-4af8-a4a1-7fba33f6de12",
   "metadata": {},
   "outputs": [],
   "source": [
    "df.drop_duplicates(subset = ['name'], keep = 'first')  # keeps the first rows "
   ]
  },
  {
   "cell_type": "code",
   "execution_count": null,
   "id": "3403aac1-b0b0-4b21-8a62-51a0c65a6e8c",
   "metadata": {},
   "outputs": [],
   "source": [
    "df.drop_duplicates(subset = ['name'], keep = 'last') # keeps the last rows "
   ]
  },
  {
   "cell_type": "code",
   "execution_count": null,
   "id": "3ba120ef-d31c-4f19-ac7f-c5798f39efc9",
   "metadata": {},
   "outputs": [],
   "source": [
    "df.drop_duplicates(subset = ['name'], keep = False)  # remove all duplicates columns where name column have duplicates "
   ]
  },
  {
   "cell_type": "code",
   "execution_count": null,
   "id": "9dd5ad74-3814-4123-aa50-faa7f8a5ab76",
   "metadata": {},
   "outputs": [],
   "source": [
    "df.shape"
   ]
  },
  {
   "cell_type": "code",
   "execution_count": null,
   "id": "67c5fac6-3f28-4702-9ea6-50cc4887cf08",
   "metadata": {},
   "outputs": [],
   "source": [
    "df.info()"
   ]
  },
  {
   "cell_type": "code",
   "execution_count": null,
   "id": "3f16e177-61ed-4841-8ab2-93449aaf1bc0",
   "metadata": {},
   "outputs": [],
   "source": [
    "df['name'].value_counts(dropna = False)  # don't count nan or NaT in name column "
   ]
  },
  {
   "cell_type": "code",
   "execution_count": null,
   "id": "e7f7dafe-cdad-40bf-bf79-793cc3ac1f34",
   "metadata": {},
   "outputs": [],
   "source": [
    "df['toy'].value_counts(dropna = False)"
   ]
  },
  {
   "cell_type": "code",
   "execution_count": null,
   "id": "a17fc2cd-07f5-4723-bc90-b33b4b520a0a",
   "metadata": {},
   "outputs": [],
   "source": [
    "df['toy'].value_counts(dropna = True)"
   ]
  },
  {
   "cell_type": "code",
   "execution_count": null,
   "id": "b79d3b95-d9a2-4a9b-be63-4099689e8c2a",
   "metadata": {},
   "outputs": [],
   "source": [
    "df.notnull()"
   ]
  },
  {
   "cell_type": "code",
   "execution_count": null,
   "id": "d2b94d1d-11ad-4941-966d-7844f877d288",
   "metadata": {},
   "outputs": [],
   "source": [
    "df.isnull()"
   ]
  },
  {
   "cell_type": "code",
   "execution_count": null,
   "id": "c825a385-7105-418a-ba47-2118789c34a0",
   "metadata": {},
   "outputs": [],
   "source": []
  },
  {
   "cell_type": "code",
   "execution_count": null,
   "id": "4b8f4c88-2470-45ed-9bde-e3ffd40701b5",
   "metadata": {},
   "outputs": [],
   "source": []
  },
  {
   "cell_type": "code",
   "execution_count": null,
   "id": "c29d66ac-a540-4046-ab95-1875c936a284",
   "metadata": {},
   "outputs": [],
   "source": []
  },
  {
   "cell_type": "code",
   "execution_count": null,
   "id": "bf075426-7048-4f2a-8ad2-736eac7b389e",
   "metadata": {},
   "outputs": [],
   "source": []
  },
  {
   "cell_type": "code",
   "execution_count": null,
   "id": "f5a528df-d888-4b9c-95fb-5d4208a2d4a2",
   "metadata": {},
   "outputs": [],
   "source": [
    "# # create a dataframe and run the following methods on them\n",
    "# df.describe()\n",
    "# df.mean()\n",
    "# df.corr()\n",
    "# df.count()\n",
    "# df.max()\n",
    "# df.min()\n",
    "# df.median()\n",
    "# df.std()"
   ]
  },
  {
   "cell_type": "code",
   "execution_count": null,
   "id": "64bec7d6-cdd4-4775-93c5-841017b3fee3",
   "metadata": {},
   "outputs": [],
   "source": [
    "data = pd.read_excel('data.xlsx')"
   ]
  },
  {
   "cell_type": "code",
   "execution_count": null,
   "id": "28dcc8b2-db04-45c5-b085-45047b8f4143",
   "metadata": {},
   "outputs": [],
   "source": [
    "data"
   ]
  },
  {
   "cell_type": "code",
   "execution_count": null,
   "id": "a86bfaf2-2fc5-40a4-b7a8-fd4a69ed1feb",
   "metadata": {},
   "outputs": [],
   "source": [
    "data = pd.read_excel('data.xlsx', sheet_name = 'Sheet1')"
   ]
  },
  {
   "cell_type": "code",
   "execution_count": null,
   "id": "6d7f5639-34b8-4127-97a1-671d69344fac",
   "metadata": {},
   "outputs": [],
   "source": [
    "data"
   ]
  },
  {
   "cell_type": "code",
   "execution_count": null,
   "id": "d55bd8fd-86e1-40f0-8951-aefc2e0192d3",
   "metadata": {},
   "outputs": [],
   "source": [
    "data = pd.read_excel('data.xlsx', sheet_name = 'Sheet2')"
   ]
  },
  {
   "cell_type": "code",
   "execution_count": null,
   "id": "e3a2e283-200a-41fc-be38-b1fdca040fdc",
   "metadata": {},
   "outputs": [],
   "source": [
    "data"
   ]
  },
  {
   "cell_type": "code",
   "execution_count": null,
   "id": "22db5bbb-9eee-41d8-ab44-5ac7b40e76e4",
   "metadata": {},
   "outputs": [],
   "source": [
    "data.iloc[0,0] = 34"
   ]
  },
  {
   "cell_type": "code",
   "execution_count": null,
   "id": "f3df8817-7eec-4d18-af34-b608cb4f26b9",
   "metadata": {},
   "outputs": [],
   "source": [
    "data"
   ]
  },
  {
   "cell_type": "code",
   "execution_count": null,
   "id": "76caaf74-fc71-4872-b8b6-fa370e5fb82f",
   "metadata": {},
   "outputs": [],
   "source": [
    "data.to_excel('data.xlsx', sheet_name = 'Sheet2')  # it will remove the sheet1 and make change in sheet2 so only sheet2 will remain in data.xlsx file"
   ]
  },
  {
   "cell_type": "code",
   "execution_count": null,
   "id": "d307a83d-05b7-4aec-85bb-30e750bcad3d",
   "metadata": {},
   "outputs": [],
   "source": []
  }
 ],
 "metadata": {
  "kernelspec": {
   "display_name": "Python 3 (ipykernel)",
   "language": "python",
   "name": "python3"
  },
  "language_info": {
   "codemirror_mode": {
    "name": "ipython",
    "version": 3
   },
   "file_extension": ".py",
   "mimetype": "text/x-python",
   "name": "python",
   "nbconvert_exporter": "python",
   "pygments_lexer": "ipython3",
   "version": "3.11.3"
  }
 },
 "nbformat": 4,
 "nbformat_minor": 5
}
