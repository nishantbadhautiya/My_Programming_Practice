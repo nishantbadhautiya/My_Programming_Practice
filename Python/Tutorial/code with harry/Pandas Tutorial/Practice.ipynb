{
 "cells": [
  {
   "cell_type": "code",
   "execution_count": 20,
   "id": "9502b61e",
   "metadata": {},
   "outputs": [],
   "source": [
    "import numpy as np \n",
    "import pandas as pd "
   ]
  },
  {
   "cell_type": "code",
   "execution_count": 21,
   "id": "7148f1a5",
   "metadata": {},
   "outputs": [
    {
     "name": "stdout",
     "output_type": "stream",
     "text": [
      "[False False False  True  True]\n",
      "\n",
      "arr1:  [ 100  400  900 1600 2500]\n",
      "arr2:  [ 30 110  52  90  31]\n"
     ]
    },
    {
     "data": {
      "text/plain": [
       "array([  30,  110,   52, 1600, 2500])"
      ]
     },
     "execution_count": 21,
     "metadata": {},
     "output_type": "execute_result"
    }
   ],
   "source": [
    "def func(x):\n",
    "    return arr2 + 10\n",
    "\n",
    "arr1 = np.array([10, 20, 30, 40, 50])\n",
    "arr2 = np.array([20, 100, 42, 80, 21])\n",
    "cond = arr1 > 35 \n",
    "print(cond) \n",
    "print()\n",
    "print(\"arr1: \", arr1 ** 2) \n",
    "print(\"arr2: \", func(arr2))\n",
    "np.where(cond, arr1 ** 2, func(arr2))"
   ]
  },
  {
   "cell_type": "code",
   "execution_count": 22,
   "id": "cfc8838c",
   "metadata": {},
   "outputs": [],
   "source": [
    "arr = np.array([1, 2, 3, 4])\n",
    "arr += 5  # In-place addition\n",
    "del arr"
   ]
  },
  {
   "cell_type": "code",
   "execution_count": null,
   "id": "5b6f7e16",
   "metadata": {},
   "outputs": [],
   "source": []
  },
  {
   "cell_type": "code",
   "execution_count": null,
   "id": "38bb9d86",
   "metadata": {},
   "outputs": [],
   "source": []
  }
 ],
 "metadata": {
  "kernelspec": {
   "display_name": "Python 3 (ipykernel)",
   "language": "python",
   "name": "python3"
  },
  "language_info": {
   "codemirror_mode": {
    "name": "ipython",
    "version": 3
   },
   "file_extension": ".py",
   "mimetype": "text/x-python",
   "name": "python",
   "nbconvert_exporter": "python",
   "pygments_lexer": "ipython3",
   "version": "3.11.5"
  }
 },
 "nbformat": 4,
 "nbformat_minor": 5
}
