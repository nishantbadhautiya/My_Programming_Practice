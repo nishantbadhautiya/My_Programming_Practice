{
 "cells": [
  {
   "cell_type": "code",
   "execution_count": 2,
   "id": "686143d9-b387-4491-90bd-4ed8aa23c68a",
   "metadata": {},
   "outputs": [],
   "source": [
    "import numpy as np"
   ]
  },
  {
   "cell_type": "code",
   "execution_count": 26,
   "id": "6d2c1b8c-069f-4caa-aad2-a22a0f14e744",
   "metadata": {},
   "outputs": [
    {
     "name": "stdout",
     "output_type": "stream",
     "text": [
      "int32\n"
     ]
    }
   ],
   "source": [
    "arr = np.array([23,4,56])\n",
    "print(arr.dtype)"
   ]
  },
  {
   "cell_type": "code",
   "execution_count": 57,
   "id": "f3e9e8a5-7118-4ac4-a145-fb14927ade0c",
   "metadata": {},
   "outputs": [
    {
     "name": "stdout",
     "output_type": "stream",
     "text": [
      "[23.234 67.234 69.34 ]\n",
      "[23 67 69]\n",
      "[23 67 69]\n",
      "int8\n"
     ]
    }
   ],
   "source": [
    "arr = np.array([23.234,67.234,69.34])\n",
    "print(arr)\n",
    "arr = arr.astype('i')\n",
    "print(arr)\n",
    "arr = arr.astype('b')\n",
    "print(arr)\n",
    "print(arr.dtype)"
   ]
  },
  {
   "cell_type": "code",
   "execution_count": 80,
   "id": "9a89f3f5-e65f-4254-9c06-e657df47576e",
   "metadata": {},
   "outputs": [
    {
     "name": "stdout",
     "output_type": "stream",
     "text": [
      "[12 67 69  0]\n",
      "[ True  True  True False]\n",
      "int32\n"
     ]
    }
   ],
   "source": [
    "arr = np.array([12.56,67.234,69.34, 0], dtype = 'i')\n",
    "print(arr)\n",
    "new_arr = arr.astype(bool)\n",
    "print(new_arr)\n",
    "print(arr.dtype)"
   ]
  },
  {
   "cell_type": "code",
   "execution_count": 91,
   "id": "702238fd-b115-4069-a4c2-b16a2b3944c0",
   "metadata": {},
   "outputs": [
    {
     "name": "stdout",
     "output_type": "stream",
     "text": [
      "[1 2 3 4 5]\n",
      "None\n",
      "[  1   2 100   4   5]\n",
      "[  1   2 100   4   5]\n",
      "None\n",
      "[  1   2 100   4   5]\n"
     ]
    }
   ],
   "source": [
    "arr = np.array([1,2,3,4,5])\n",
    "print(arr)\n",
    "print(arr.base)\n",
    "new_arr = arr.view()\n",
    "new_arr[2] = 100\n",
    "print(arr)\n",
    "print(new_arr)\n",
    "print(arr.base)\n",
    "print(new_arr.base)"
   ]
  },
  {
   "cell_type": "code",
   "execution_count": 98,
   "id": "5728c966-896e-4210-84f8-eea3affa92ec",
   "metadata": {},
   "outputs": [
    {
     "name": "stdout",
     "output_type": "stream",
     "text": [
      "12\n",
      "(1, 2, 6)\n"
     ]
    }
   ],
   "source": [
    "arr = np.array([[[1,2,3,4,5,6], [11,12,13,14,15,16]]])\n",
    "print(arr.size)\n",
    "print(arr.shape) # No. of element in each dimension"
   ]
  },
  {
   "cell_type": "code",
   "execution_count": 101,
   "id": "44a00680-65d3-4fd2-add6-fc73e70c6f5f",
   "metadata": {},
   "outputs": [
    {
     "name": "stdout",
     "output_type": "stream",
     "text": [
      "[[[[[1 2 3 5]]]]]\n"
     ]
    }
   ],
   "source": [
    "arr = np.array([1,2,3,5], ndmin = 5)\n",
    "print(arr)"
   ]
  },
  {
   "cell_type": "code",
   "execution_count": 103,
   "id": "8c461e0d-d349-4ed9-aa97-f829042ac37f",
   "metadata": {},
   "outputs": [
    {
     "name": "stdout",
     "output_type": "stream",
     "text": [
      "[[[[1 2 3 5]]]]\n"
     ]
    }
   ],
   "source": [
    "print(arr[0])"
   ]
  },
  {
   "cell_type": "code",
   "execution_count": 110,
   "id": "cf22ac8a-760b-4ae7-9a95-a3cb633c293e",
   "metadata": {},
   "outputs": [
    {
     "name": "stdout",
     "output_type": "stream",
     "text": [
      "[[[1 2 3 5]]]\n",
      "[1 2 3 5]\n",
      "(1, 1, 1, 1, 4)\n"
     ]
    }
   ],
   "source": [
    "print(arr[0][0])\n",
    "print(arr[0,0,0,0])\n",
    "print(arr.shape)"
   ]
  },
  {
   "cell_type": "code",
   "execution_count": 147,
   "id": "8d5604cc-bfd9-4502-9971-7359491d1c3c",
   "metadata": {},
   "outputs": [
    {
     "name": "stdout",
     "output_type": "stream",
     "text": [
      "[[[ 1  2  3]\n",
      "  [ 4  5  6]]\n",
      "\n",
      " [[ 7  8  9]\n",
      "  [10 11 12]]]\n",
      "3\n",
      "Done\n",
      "[[[ 1  2  3]\n",
      "  [ 4  5  6]]\n",
      "\n",
      " [[ 7  8  9]\n",
      "  [10 11 12]]]\n"
     ]
    }
   ],
   "source": [
    "arr = np.array([[[1,2,3],[4,5,6]],[[7,8,9],[10,11,12]]])\n",
    "print(arr)\n",
    "print(arr.ndim)\n",
    "print(\"Done\")\n",
    "new_arr = arr.reshape(2,2,-1)\n",
    "print(new_arr)"
   ]
  },
  {
   "cell_type": "code",
   "execution_count": 158,
   "id": "1b79265f-53cc-4d85-b1ae-7d161be14d3a",
   "metadata": {},
   "outputs": [
    {
     "name": "stdout",
     "output_type": "stream",
     "text": [
      "1  2  3  4  5  6  7  8  9  10  11  12  "
     ]
    }
   ],
   "source": [
    "arr = np.array([[[1,2,3],[4,5,6]],[[7,8,9],[10,11,12]]])\n",
    "# for x in arr:\n",
    "#     for y in x:\n",
    "#         for z in y:\n",
    "#             print(z)\n",
    "\n",
    "for x in np.nditer(arr):\n",
    "    print(x, end = \"  \")"
   ]
  },
  {
   "cell_type": "code",
   "execution_count": 162,
   "id": "8136331c-c90e-4ecd-bf65-24409a036757",
   "metadata": {},
   "outputs": [
    {
     "name": "stdout",
     "output_type": "stream",
     "text": [
      "[[ 0  1  2  3]\n",
      " [ 4  5  6  7]\n",
      " [ 8  9 10 11]]\n",
      "0  1  2  3  4  5  6  7  8  9  10  11  "
     ]
    }
   ],
   "source": [
    "arr = np.arange(12).reshape(3,4)\n",
    "print(arr)\n",
    "for x in np.nditer(arr):\n",
    "    print(x, end=\"  \")"
   ]
  },
  {
   "cell_type": "code",
   "execution_count": 172,
   "id": "8b3e662f-747d-476a-ad80-dc0748d5a4f7",
   "metadata": {},
   "outputs": [
    {
     "name": "stdout",
     "output_type": "stream",
     "text": [
      "[[ 0  1  2  3  4  5]\n",
      " [ 6  7  8  9 10 11]\n",
      " [12 13 14 15 16 17]\n",
      " [18 19 20 21 22 23]]\n",
      "Done\n",
      "2  4  8  10  "
     ]
    }
   ],
   "source": [
    "arr = np.arange(24).reshape(4,6)\n",
    "print(arr)\n",
    "print(\"Done\")\n",
    "for x in np.nditer(arr[0:2, 2:5:2]):\n",
    "    print(x, end = \"  \")"
   ]
  },
  {
   "cell_type": "code",
   "execution_count": 177,
   "id": "c7476d24-595e-45e4-8c6e-c14f6ac46d0c",
   "metadata": {},
   "outputs": [
    {
     "name": "stdout",
     "output_type": "stream",
     "text": [
      "[ 0  1  2  3  4  5  6  7  8  9 10 11 12 13 14 15 16 17 18 19 20 21 22 23]\n",
      "Done\n",
      "(0,) 2\n",
      "(1,) 4\n"
     ]
    }
   ],
   "source": [
    "arr = np.arange(24).reshape(24)\n",
    "print(arr)\n",
    "print(\"Done\")\n",
    "for index, x in np.ndenumerate(arr[2:6:2]):\n",
    "    print(index, x)"
   ]
  },
  {
   "cell_type": "code",
   "execution_count": 196,
   "id": "09f4d62e-46ed-4966-b222-5ccd1cf2e409",
   "metadata": {},
   "outputs": [
    {
     "name": "stdout",
     "output_type": "stream",
     "text": [
      "[[1 2 3]\n",
      " [4 5 6]]\n",
      "[[11 12 13]\n",
      " [14 15 16]]\n",
      "Done\n",
      "[[[ 1 11]\n",
      "  [ 2 12]\n",
      "  [ 3 13]]\n",
      "\n",
      " [[ 4 14]\n",
      "  [ 5 15]\n",
      "  [ 6 16]]]\n"
     ]
    }
   ],
   "source": [
    "arr1 = np.array([1,2,3,4,5,6]).reshape(2,3)\n",
    "arr2 = np.array([11,12,13,14,15,16]).reshape(2,3)\n",
    "print(arr1)\n",
    "print(arr2)\n",
    "print(\"Done\")\n",
    "# arr = np.stack((arr1, arr2),axis = 1)\n",
    "arr = np.dstack((arr1 ,arr2))\n",
    "print(arr)"
   ]
  },
  {
   "cell_type": "code",
   "execution_count": null,
   "id": "2c8f7f1f-2e26-4636-8aee-5795abfc1690",
   "metadata": {},
   "outputs": [],
   "source": []
  }
 ],
 "metadata": {
  "kernelspec": {
   "display_name": "Python 3 (ipykernel)",
   "language": "python",
   "name": "python3"
  },
  "language_info": {
   "codemirror_mode": {
    "name": "ipython",
    "version": 3
   },
   "file_extension": ".py",
   "mimetype": "text/x-python",
   "name": "python",
   "nbconvert_exporter": "python",
   "pygments_lexer": "ipython3",
   "version": "3.11.3"
  }
 },
 "nbformat": 4,
 "nbformat_minor": 5
}
