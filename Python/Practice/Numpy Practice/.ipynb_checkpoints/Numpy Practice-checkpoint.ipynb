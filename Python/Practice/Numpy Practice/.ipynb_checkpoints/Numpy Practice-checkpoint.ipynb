{
 "cells": [
  {
   "cell_type": "markdown",
   "id": "6059b90e-7621-4477-9969-16a6c079c07d",
   "metadata": {},
   "source": [
    "# 1. Basics of Numpy"
   ]
  },
  {
   "cell_type": "code",
   "execution_count": 154,
   "id": "6d292e8c-9adc-4a51-8a78-d85ef267f729",
   "metadata": {},
   "outputs": [
    {
     "name": "stdout",
     "output_type": "stream",
     "text": [
      "Array is:  [ 3  4  6 23 45 75]\n",
      "<class 'numpy.ndarray'>\n"
     ]
    }
   ],
   "source": [
    "import numpy as np\n",
    "arr = np.array([3,4,6,23,45,75])\n",
    "print(\"Array is: \" , arr)\n",
    "print(type(arr))"
   ]
  },
  {
   "cell_type": "code",
   "execution_count": 155,
   "id": "0f4663d3-9d5f-4548-895e-73117f2d2977",
   "metadata": {},
   "outputs": [
    {
     "name": "stdout",
     "output_type": "stream",
     "text": [
      "[34, 'Hello', True, 34.56]\n",
      "<class 'int'>\n",
      "<class 'str'>\n",
      "['34' 'Hello' 'True' '34.56']\n",
      "<class 'numpy.str_'>\n",
      "<class 'numpy.str_'>\n"
     ]
    }
   ],
   "source": [
    "l = [34, \"Hello\", True, 34.56]\n",
    "print(l)\n",
    "print(type(l[0]))\n",
    "print(type(l[1]))\n",
    "\n",
    "arr = np.array([34, \"Hello\", True, 34.56])  # stores homogeneous elements so it will typecast to string to make it homogeneous. \n",
    "print(arr)\n",
    "print(type(arr[0]))\n",
    "print(type(arr[1]))"
   ]
  },
  {
   "cell_type": "code",
   "execution_count": 156,
   "id": "147465f8-eacf-4d22-99d0-adea88a5501f",
   "metadata": {},
   "outputs": [
    {
     "name": "stdout",
     "output_type": "stream",
     "text": [
      "1.25.2\n",
      "<class 'numpy.ndarray'>\n"
     ]
    }
   ],
   "source": [
    "print(np.__version__)\n",
    "print(type(np.array([])))"
   ]
  },
  {
   "cell_type": "markdown",
   "id": "206d6abc-2039-4488-a34d-1fc222d371b8",
   "metadata": {},
   "source": [
    "# 2.  NumPy Creating Arrays"
   ]
  },
  {
   "cell_type": "code",
   "execution_count": 157,
   "id": "371929b0-3f83-4a40-80cf-c0474a89419a",
   "metadata": {},
   "outputs": [
    {
     "name": "stdout",
     "output_type": "stream",
     "text": [
      "{'Name': 'Nishant', 'Class': 'MCA', 'Status': True}\n",
      "1\n",
      "<class 'numpy.ndarray'>\n"
     ]
    }
   ],
   "source": [
    "arr = np.array([34,56,78,23]) #Numpy array from a list size is 4\n",
    "arr = np.array((34,56,78,23)) #Numpy array from a tuple size is 4 \n",
    "arr = np.array({23,45,67,84}) #Numpy array from a set but size will be 1\n",
    "arr = np.array({\"Name\" : \"Nishant\", \"Class\" : \"MCA\", \"Status\" : True})  # Numpy array from a dictionary but size will be 1\n",
    "print(arr)\n",
    "print(arr.size)\n",
    "print(type(arr))"
   ]
  },
  {
   "cell_type": "code",
   "execution_count": 158,
   "id": "e79d7a13-3b8a-4d79-9311-fb087c6557b6",
   "metadata": {},
   "outputs": [
    {
     "name": "stdout",
     "output_type": "stream",
     "text": [
      "34\n",
      "<class 'numpy.ndarray'>\n",
      "0\n"
     ]
    }
   ],
   "source": [
    "# ****************   0-D Array  *****************\n",
    "\n",
    "arr = np.array(34) # 0-D arrays, or Scalars that has only one element \n",
    "print(arr)\n",
    "print(type(arr))\n",
    "print(arr.ndim)"
   ]
  },
  {
   "cell_type": "code",
   "execution_count": 159,
   "id": "3ffa05ac-e2e5-46aa-8376-05f8d2851b71",
   "metadata": {},
   "outputs": [
    {
     "name": "stdout",
     "output_type": "stream",
     "text": [
      "[34 56 12 25]\n",
      "<class 'numpy.ndarray'>\n",
      "1\n"
     ]
    }
   ],
   "source": [
    "# ****************   1-D Array  *****************\n",
    "arr = np.array([34,56,12,25]) # uni-dimensional or 1-D array\n",
    "print(arr)\n",
    "print(type(arr))\n",
    "print(arr.ndim)"
   ]
  },
  {
   "cell_type": "code",
   "execution_count": 160,
   "id": "520033b3-d117-4aec-ad92-a94bdcae3888",
   "metadata": {},
   "outputs": [
    {
     "name": "stdout",
     "output_type": "stream",
     "text": [
      "[[34 45 67 23]\n",
      " [ 1  2  3  4]]\n",
      "<class 'numpy.ndarray'>\n",
      "2\n"
     ]
    }
   ],
   "source": [
    "# ****************   2-D Array  *****************\n",
    "# used to represent matrix or 2nd order tensors\n",
    "arr = np.array([[34,45,67,23], [1,2,3,4]])\n",
    "print(arr)\n",
    "print(type(arr))\n",
    "print(arr.ndim)"
   ]
  },
  {
   "cell_type": "code",
   "execution_count": 161,
   "id": "90c67582-5202-449c-8767-62250277398e",
   "metadata": {},
   "outputs": [
    {
     "name": "stdout",
     "output_type": "stream",
     "text": [
      "[[[ 1  2  3]\n",
      "  [ 4  5  6]]\n",
      "\n",
      " [[11 12 13]\n",
      "  [14 15 16]]]\n",
      "<class 'numpy.ndarray'>\n",
      "3\n"
     ]
    }
   ],
   "source": [
    "# ****************   3-D Array  *****************\n",
    "# used to represent a 3rd order tensor.\n",
    "arr = np.array([[[1,2,3],[4,5,6]],[[11,12,13],[14,15,16]]])\n",
    "print(arr)\n",
    "print(type(arr))\n",
    "print(arr.ndim)"
   ]
  },
  {
   "cell_type": "code",
   "execution_count": 162,
   "id": "a6869123-36f1-4690-ac18-ecee37a2ef17",
   "metadata": {},
   "outputs": [
    {
     "name": "stdout",
     "output_type": "stream",
     "text": [
      "[[[[[1 2 3 4]]]]]\n",
      "5\n"
     ]
    }
   ],
   "source": [
    "arr = np.array([1,2,3,4], ndmin = 5)\n",
    "print(arr)\n",
    "print(arr.ndim)"
   ]
  },
  {
   "cell_type": "markdown",
   "id": "576ec6dd-72c9-4909-996a-1d2ab6a10e7c",
   "metadata": {},
   "source": [
    "# 3.  NumPy Array Indexing\r\n"
   ]
  },
  {
   "cell_type": "code",
   "execution_count": 163,
   "id": "88a57161-c3ef-423a-a331-800db4d97821",
   "metadata": {},
   "outputs": [
    {
     "name": "stdout",
     "output_type": "stream",
     "text": [
      "12\n",
      "28\n"
     ]
    }
   ],
   "source": [
    "# Accessing the element from one dimension array\n",
    "arr = np.array([12,13,14,15,16])\n",
    "print(arr[0])\n",
    "print(arr[0] + arr[4])"
   ]
  },
  {
   "cell_type": "code",
   "execution_count": 164,
   "id": "7b5b5965-6397-4531-bd6d-044529ac3ff5",
   "metadata": {},
   "outputs": [
    {
     "name": "stdout",
     "output_type": "stream",
     "text": [
      "3rd element on 2nd row:  8\n",
      "3rd element on 1st row:  3\n"
     ]
    }
   ],
   "source": [
    "# Accessing the element from two dimension array\n",
    "arr = np.array([[1,2,3,4,5], [6,7,8,9,10]])\n",
    "print('3rd element on 2nd row: ',arr[1][2])\n",
    "print('3rd element on 1st row: ', arr[0, 2])"
   ]
  },
  {
   "cell_type": "code",
   "execution_count": 165,
   "id": "29925e47-6f88-4398-b90d-22be4b024fe1",
   "metadata": {},
   "outputs": [
    {
     "name": "stdout",
     "output_type": "stream",
     "text": [
      "[[[ 1  2  3]\n",
      "  [ 4  5  6]]\n",
      "\n",
      " [[ 7  8  9]\n",
      "  [10 11 12]]]\n",
      "6\n",
      "9\n"
     ]
    }
   ],
   "source": [
    "# Accessing the element from three dimension array\n",
    "arr = np.array([[[1,2,3], [4,5,6]], [[7,8,9], [10,11,12]]])\n",
    "print(arr)\n",
    "print(arr[0, 1, 2])\n",
    "print(arr[1][0][2])"
   ]
  },
  {
   "cell_type": "code",
   "execution_count": 166,
   "id": "c94872d3-366b-4af7-9344-3468c59c9870",
   "metadata": {},
   "outputs": [
    {
     "name": "stdout",
     "output_type": "stream",
     "text": [
      "10\n",
      "4\n"
     ]
    }
   ],
   "source": [
    "arr = np.array([[1,2,3,4,5], [6,7,8,9,10]])\n",
    "print(arr[1,-1]) #10\n",
    "print(arr[0,-2]) # 4"
   ]
  },
  {
   "cell_type": "code",
   "execution_count": 167,
   "id": "b4e31864-2c29-4819-a7da-a3badfdea917",
   "metadata": {},
   "outputs": [
    {
     "name": "stdout",
     "output_type": "stream",
     "text": [
      "50\n",
      "50\n"
     ]
    }
   ],
   "source": [
    "arr = np.array([[10, 20, 30, 40], [50, 60, 70, 80]])\n",
    "print(arr[1][0])\n",
    "print(arr[1,0])"
   ]
  },
  {
   "cell_type": "markdown",
   "id": "8b876017-b6e4-46b0-9278-2ca84e52339d",
   "metadata": {},
   "source": [
    "# 4.  NumPy Array Slicing\r\n"
   ]
  },
  {
   "cell_type": "markdown",
   "id": "a74a9a32-b81e-45d0-9b78-a4701fa2f64f",
   "metadata": {},
   "source": [
    "##### Slicing 1-D Arrays"
   ]
  },
  {
   "cell_type": "code",
   "execution_count": 168,
   "id": "56800051-75f4-4ea4-a06a-6dd223df7feb",
   "metadata": {},
   "outputs": [
    {
     "name": "stdout",
     "output_type": "stream",
     "text": [
      "[2 3 4 5]\n",
      "[5 6 7]\n",
      "[1 2 3 4]\n",
      "[5 6]\n",
      "[2 4]\n",
      "[1 3 5 7]\n"
     ]
    }
   ],
   "source": [
    "arr = np.array([1,2,3,4,5,6,7])\n",
    "print(arr[1:5])\n",
    "print(arr[4:])\n",
    "print(arr[:4])\n",
    "print(arr[-3:-1])\n",
    "print(arr[1:5:2])\n",
    "print(arr[::2])"
   ]
  },
  {
   "cell_type": "markdown",
   "id": "69d0c552-471d-4959-87a0-e4ddc94a3c09",
   "metadata": {},
   "source": [
    "##### Slicing 2-D Arrays"
   ]
  },
  {
   "cell_type": "code",
   "execution_count": 169,
   "id": "082c4659-e127-4b30-b7c9-9e714843d1fe",
   "metadata": {
    "scrolled": true
   },
   "outputs": [
    {
     "name": "stdout",
     "output_type": "stream",
     "text": [
      "[7 8 9]\n",
      "[3 8]\n",
      "[[2 3 4]\n",
      " [7 8 9]]\n"
     ]
    }
   ],
   "source": [
    "arr = np.array([[1, 2, 3, 4, 5], [6, 7, 8, 9, 10]])\n",
    "print(arr[1, 1:4])\n",
    "print(arr[0:2, 2])\n",
    "print(arr[0:2, 1:4])"
   ]
  },
  {
   "cell_type": "markdown",
   "id": "5d49559b-0856-4fc1-adfa-f71d6410a935",
   "metadata": {},
   "source": [
    "# NumPy Data Types\r\n"
   ]
  },
  {
   "cell_type": "code",
   "execution_count": 170,
   "id": "b9c8eb76-b8d6-442a-97b6-af61fe8e968d",
   "metadata": {},
   "outputs": [
    {
     "name": "stdout",
     "output_type": "stream",
     "text": [
      "(4+6j)\n",
      "(2+2j)\n",
      "(-5+10j)\n"
     ]
    }
   ],
   "source": [
    "# Comlex Number in Python\n",
    "\n",
    "# Add two complex numbers\n",
    "result = (3 + 4j) + (1 + 2j)\n",
    "print(result)\n",
    "# Subtract two complex numbers\n",
    "result = (3 + 4j) - (1 + 2j)\n",
    "print(result)\n",
    "# Multiply two complex numbers\n",
    "result = (3 + 4j) * (1 + 2j)\n",
    "print(result)"
   ]
  },
  {
   "cell_type": "code",
   "execution_count": 171,
   "id": "43566be6-48a7-4c56-a2bb-4ef9cdbca24d",
   "metadata": {},
   "outputs": [
    {
     "name": "stdout",
     "output_type": "stream",
     "text": [
      "int32\n",
      "<U6\n",
      "<U10\n"
     ]
    }
   ],
   "source": [
    "arr = np.array([1,2,3,4,5,6,7])\n",
    "print(arr.dtype)\n",
    "arr = np.array(['apple', 'banana', 'cherry'])\n",
    "print(arr.dtype)\n",
    "arr = np.array([\"Nishant\", \"Rohan\", \"Rahulkumar\"])\n",
    "print(arr.dtype)"
   ]
  },
  {
   "cell_type": "code",
   "execution_count": 172,
   "id": "deba7655-4518-437e-b27e-1e8f684ba6dd",
   "metadata": {},
   "outputs": [
    {
     "name": "stdout",
     "output_type": "stream",
     "text": [
      "[b'1' b'2' b'3' b'4' b'5']\n",
      "|S1\n",
      "<class 'numpy.bytes_'>\n"
     ]
    }
   ],
   "source": [
    "arr = np.array([1,2,3,4,5], dtype = 'S')\n",
    "print(arr)\n",
    "print(arr.dtype)\n",
    "print(type(arr[0]))"
   ]
  },
  {
   "cell_type": "code",
   "execution_count": 173,
   "id": "644131c4-7c95-47af-8a16-80d18c833599",
   "metadata": {},
   "outputs": [
    {
     "name": "stdout",
     "output_type": "stream",
     "text": [
      "[1 2 3 4]\n",
      "int64\n"
     ]
    }
   ],
   "source": [
    "arr = np.array([1,2,3,4], dtype = 'i') # int 32 \n",
    "arr = np.array([1,2,3,4], dtype = 'i1') # int 8 \n",
    "arr = np.array([1,2,3,4], dtype = 'i2') # int 16\n",
    "arr = np.array([1,2,3,4], dtype = 'i4') # int 32\n",
    "arr = np.array([1,2,3,4], dtype = 'i8') # int 64\n",
    "# arr = np.array(['a', 2 ,3 ,4] dtype = 'i') # A non integer string like 'a' can not be converted to integer\n",
    "print(arr)\n",
    "print(arr.dtype)"
   ]
  },
  {
   "cell_type": "code",
   "execution_count": 174,
   "id": "0265b203-4cb0-4a6c-88f0-8a55a621fd85",
   "metadata": {},
   "outputs": [
    {
     "name": "stdout",
     "output_type": "stream",
     "text": [
      "[1.34  5.346 9.363]\n",
      "float64\n",
      "[ True  True  True]\n",
      "bool\n"
     ]
    }
   ],
   "source": [
    "# The astype() function creates a copy of the array, and allows you to specify the data type as a parameter. 'i' for intergers and 'f' for float\n",
    "arr = np.array([1.34, 5.346, 9.363])\n",
    "print(arr)\n",
    "print(arr.dtype)\n",
    "# new_arr = arr.astype('i')\n",
    "# new_arr = arr.astype(int)\n",
    "new_arr = arr.astype(bool)\n",
    "print(new_arr)\n",
    "print(new_arr.dtype)"
   ]
  },
  {
   "cell_type": "markdown",
   "id": "938a8eaf-aa6b-40f9-87d3-cc173dcff815",
   "metadata": {},
   "source": [
    "# NumPy Array Copy vs View"
   ]
  },
  {
   "cell_type": "code",
   "execution_count": 175,
   "id": "7ceb8d50-c53f-471e-8f87-dc8ec0d0a659",
   "metadata": {},
   "outputs": [
    {
     "name": "stdout",
     "output_type": "stream",
     "text": [
      "[  1 100   3   4   5]\n",
      "[  1 200   3   4   5]\n"
     ]
    }
   ],
   "source": [
    "arr = np.array([1,2,3,4,5])\n",
    "arr2 = arr.copy()\n",
    "arr[1] = 100\n",
    "arr2[1] = 200\n",
    "print(arr)\n",
    "print(arr2)"
   ]
  },
  {
   "cell_type": "code",
   "execution_count": 176,
   "id": "ae3ce974-d803-4830-9c7b-3e4647366bcb",
   "metadata": {},
   "outputs": [
    {
     "name": "stdout",
     "output_type": "stream",
     "text": [
      "[  1 200   3   4   5]\n",
      "[  1 200   3   4   5]\n"
     ]
    }
   ],
   "source": [
    "arr = np.array([1,2,3,4,5])\n",
    "arr2 = arr.view()\n",
    "arr[1] = 100\n",
    "arr2[1] = 200\n",
    "print(arr)\n",
    "print(arr2)"
   ]
  },
  {
   "cell_type": "code",
   "execution_count": 177,
   "id": "485a6cae-1762-48b7-8355-508171fd9cac",
   "metadata": {},
   "outputs": [
    {
     "name": "stdout",
     "output_type": "stream",
     "text": [
      "None\n",
      "[1 2 3 4 5]\n"
     ]
    }
   ],
   "source": [
    "# copies owns the data, and views does not own the dataT. he copy returns None and The view returns the original array.\n",
    "import numpy as np\n",
    "arr = np.array([1, 2, 3, 4, 5])\n",
    "x = arr.copy()\n",
    "y = arr.view()\n",
    "print(x.base) # output = None\n",
    "print(y.base) # output = [1 2 3 4 5]"
   ]
  },
  {
   "cell_type": "markdown",
   "id": "3d7cdacc-58c3-4d09-8704-208ed64b76e9",
   "metadata": {},
   "source": [
    "# NumPy Array Shape\r\n"
   ]
  },
  {
   "cell_type": "code",
   "execution_count": 178,
   "id": "5c5db35c-275a-41bc-8e05-5913ccaf446f",
   "metadata": {},
   "outputs": [
    {
     "name": "stdout",
     "output_type": "stream",
     "text": [
      "(2, 4)\n"
     ]
    }
   ],
   "source": [
    "arr = np.array([[1, 2, 3, 4], [5, 6, 7, 8]])\n",
    "print(arr.shape)"
   ]
  },
  {
   "cell_type": "code",
   "execution_count": 179,
   "id": "52f041db-44dc-4a9f-b6a2-d28aac1423f3",
   "metadata": {},
   "outputs": [
    {
     "name": "stdout",
     "output_type": "stream",
     "text": [
      "[[[[[1 2 3 4 5]]]]]\n",
      "(1, 1, 1, 1, 5)\n"
     ]
    }
   ],
   "source": [
    "arr = np.array([1,2,3,4,5], ndmin = 5)\n",
    "print(arr)\n",
    "print(arr.shape)"
   ]
  },
  {
   "cell_type": "markdown",
   "id": "58c0a59d-fffe-4fe5-bfcb-97901f6a48a2",
   "metadata": {},
   "source": [
    "# NumPy Array Reshaping"
   ]
  },
  {
   "cell_type": "code",
   "execution_count": 180,
   "id": "59d9692f-1090-4be3-a265-908269560265",
   "metadata": {},
   "outputs": [
    {
     "name": "stdout",
     "output_type": "stream",
     "text": [
      "[ 1  2  3  4  5  6  7  8  9 10 11 12]\n",
      "[[ 1  2  3]\n",
      " [ 4  5  6]\n",
      " [ 7  8  9]\n",
      " [10 11 12]]\n"
     ]
    }
   ],
   "source": [
    "# change the shape of an array from 1-D to 2-D.\n",
    "arr = np.array([1,2,3,4,5,6,7,8,9,10,11,12])\n",
    "print(arr)\n",
    "new_arr = arr.reshape(4, 3)\n",
    "print(new_arr)"
   ]
  },
  {
   "cell_type": "code",
   "execution_count": 181,
   "id": "257a4771-60df-45e5-bbbc-c98839bc3a3c",
   "metadata": {},
   "outputs": [
    {
     "name": "stdout",
     "output_type": "stream",
     "text": [
      "[[[ 1  2]\n",
      "  [ 3  4]\n",
      "  [ 5  6]]\n",
      "\n",
      " [[ 7  8]\n",
      "  [ 9 10]\n",
      "  [11 12]]]\n"
     ]
    }
   ],
   "source": [
    "arr = np.array([1, 2, 3, 4, 5, 6, 7, 8, 9, 10, 11, 12])\n",
    "newarr = arr.reshape(2, 3, 2)\n",
    "print(newarr)"
   ]
  },
  {
   "cell_type": "code",
   "execution_count": 182,
   "id": "8857f9f0-b0e7-4a93-99f9-4b25c1de1fd1",
   "metadata": {},
   "outputs": [
    {
     "ename": "ValueError",
     "evalue": "cannot reshape array of size 8 into shape (3,3)",
     "output_type": "error",
     "traceback": [
      "\u001b[1;31m---------------------------------------------------------------------------\u001b[0m",
      "\u001b[1;31mValueError\u001b[0m                                Traceback (most recent call last)",
      "Cell \u001b[1;32mIn[182], line 2\u001b[0m\n\u001b[0;32m      1\u001b[0m arr \u001b[38;5;241m=\u001b[39m np\u001b[38;5;241m.\u001b[39marray([\u001b[38;5;241m1\u001b[39m, \u001b[38;5;241m2\u001b[39m, \u001b[38;5;241m3\u001b[39m, \u001b[38;5;241m4\u001b[39m, \u001b[38;5;241m5\u001b[39m, \u001b[38;5;241m6\u001b[39m, \u001b[38;5;241m7\u001b[39m, \u001b[38;5;241m8\u001b[39m])\n\u001b[1;32m----> 2\u001b[0m newarr \u001b[38;5;241m=\u001b[39m \u001b[43marr\u001b[49m\u001b[38;5;241;43m.\u001b[39;49m\u001b[43mreshape\u001b[49m\u001b[43m(\u001b[49m\u001b[38;5;241;43m3\u001b[39;49m\u001b[43m,\u001b[49m\u001b[43m \u001b[49m\u001b[38;5;241;43m3\u001b[39;49m\u001b[43m)\u001b[49m  \u001b[38;5;66;03m# give an error because it needs 3 * 3 = 9 elements\u001b[39;00m\n\u001b[0;32m      3\u001b[0m \u001b[38;5;28mprint\u001b[39m(newarr)\n",
      "\u001b[1;31mValueError\u001b[0m: cannot reshape array of size 8 into shape (3,3)"
     ]
    }
   ],
   "source": [
    "arr = np.array([1, 2, 3, 4, 5, 6, 7, 8])\n",
    "newarr = arr.reshape(3, 3)  # give an error because it needs 3 * 3 = 9 elements\n",
    "print(newarr)"
   ]
  },
  {
   "cell_type": "code",
   "execution_count": 183,
   "id": "212f4929-653b-435c-8f0f-eb8dd58968fa",
   "metadata": {},
   "outputs": [
    {
     "name": "stdout",
     "output_type": "stream",
     "text": [
      "[[1 2 3 4]\n",
      " [5 6 7 8]]\n",
      "[1 2 3 4 5 6 7 8]\n"
     ]
    }
   ],
   "source": [
    "# Check if the returned array is a copy or a view\n",
    "arr = np.array([1,2,3,4,5,6,7,8])\n",
    "new_arr = arr.reshape(2,4)\n",
    "print(new_arr)\n",
    "print(new_arr.base)  # returns the original array, so it is a view."
   ]
  },
  {
   "cell_type": "code",
   "execution_count": 184,
   "id": "e3dbf0e2-c646-471a-ac0f-42b3078dc764",
   "metadata": {},
   "outputs": [
    {
     "name": "stdout",
     "output_type": "stream",
     "text": [
      "[[[1 2]\n",
      "  [3 4]]\n",
      "\n",
      " [[5 6]\n",
      "  [7 8]]]\n"
     ]
    }
   ],
   "source": [
    "# 1D array with 8 elements to 3D array with 2x2 elements:\n",
    "arr = np.array([1,2,3,4,5,6,7,8])\n",
    "new_arr = arr.reshape(2,2,-1)\n",
    "print(new_arr)"
   ]
  },
  {
   "cell_type": "code",
   "execution_count": 185,
   "id": "f62c0426-e2de-4ee6-868e-41b06a20726b",
   "metadata": {},
   "outputs": [
    {
     "name": "stdout",
     "output_type": "stream",
     "text": [
      "[ 1  2  3  4  5  6  7  8  9 10 11 12]\n"
     ]
    }
   ],
   "source": [
    "# NumPy method to change the shape of an array from 2-D to 1-D.\n",
    "# Flattening array means converting a multidimensional array into a 1D array.\n",
    "arr = np.array([[1, 2, 3, 4, 5, 6], [7, 8, 9, 10, 11, 12]])\n",
    "newarr = arr.reshape(-1)\n",
    "print(newarr)"
   ]
  },
  {
   "cell_type": "markdown",
   "id": "35ed1aa7-67cd-4ca8-84b7-50ccc1a7e53d",
   "metadata": {},
   "source": [
    "# NumPy Array Iterating"
   ]
  },
  {
   "cell_type": "code",
   "execution_count": 186,
   "id": "47a90a5a-8c57-4f5e-802b-4cf4d3a770cc",
   "metadata": {},
   "outputs": [
    {
     "name": "stdout",
     "output_type": "stream",
     "text": [
      "1\n",
      "2\n",
      "3\n",
      "4\n",
      "5\n",
      "6\n",
      "7\n",
      "8\n"
     ]
    }
   ],
   "source": [
    "arr = np.array([1,2,3,4,5,6,7,8])\n",
    "for x in arr:\n",
    "    print(x)"
   ]
  },
  {
   "cell_type": "code",
   "execution_count": 187,
   "id": "1353f47a-b6f6-4568-8684-bf3324dd8f07",
   "metadata": {},
   "outputs": [
    {
     "name": "stdout",
     "output_type": "stream",
     "text": [
      "Printing Array\n",
      "[1 2 3]\n",
      "[4 5 6]\n",
      "Printing every element of the array\n",
      "1\n",
      "2\n",
      "3\n",
      "4\n",
      "5\n",
      "6\n"
     ]
    }
   ],
   "source": [
    "arr = np.array([[1, 2, 3], [4, 5, 6]])\n",
    "print(\"Printing Array\")\n",
    "for x in arr:\n",
    "  print(x)\n",
    "print(\"Printing every element of the array\")\n",
    "for x in arr:\n",
    "    for y in x:\n",
    "        print(y)"
   ]
  },
  {
   "cell_type": "code",
   "execution_count": 188,
   "id": "ed66cbbd-1f8c-45b9-b680-c6d6fd8e0383",
   "metadata": {},
   "outputs": [
    {
     "name": "stdout",
     "output_type": "stream",
     "text": [
      "1\n",
      "2\n",
      "3\n",
      "4\n",
      "5\n",
      "6\n",
      "7\n",
      "8\n",
      "9\n",
      "10\n",
      "11\n",
      "12\n"
     ]
    }
   ],
   "source": [
    "arr = np.array([[[1, 2, 3], [4, 5, 6]], [[7, 8, 9], [10, 11, 12]]])\n",
    "for x in arr:\n",
    "    for y in x:\n",
    "        for z in y:\n",
    "            print(z)"
   ]
  },
  {
   "cell_type": "code",
   "execution_count": 189,
   "id": "95ae6c7e-242c-41b9-827e-107dae1e5dbf",
   "metadata": {},
   "outputs": [
    {
     "name": "stdout",
     "output_type": "stream",
     "text": [
      "1\n",
      "2\n",
      "3\n",
      "4\n",
      "5\n",
      "6\n",
      "7\n",
      "8\n",
      "9\n",
      "10\n",
      "11\n",
      "12\n"
     ]
    }
   ],
   "source": [
    "arr = np.array([[[1, 2, 3], [4, 5, 6]], [[7, 8, 9], [10, 11, 12]]])\n",
    "for x in np.nditer(arr):\n",
    "    print(x)"
   ]
  },
  {
   "cell_type": "code",
   "execution_count": 190,
   "id": "c22c033a-9160-4a52-b6fb-25739bf741a4",
   "metadata": {},
   "outputs": [
    {
     "name": "stdout",
     "output_type": "stream",
     "text": [
      "b'1'\n",
      "b'2'\n",
      "b'3'\n",
      "b'4'\n",
      "b'5'\n",
      "b'6'\n",
      "b'7'\n",
      "b'8'\n",
      "b'9'\n",
      "b'10'\n",
      "b'11'\n",
      "b'12'\n"
     ]
    }
   ],
   "source": [
    "arr = np.array([[[1, 2, 3], [4, 5, 6]], [[7, 8, 9], [10, 11, 12]]])\n",
    "for x in np.nditer(arr, flags = ['buffered'], op_dtypes = ['S']):\n",
    "    print(x)"
   ]
  },
  {
   "cell_type": "code",
   "execution_count": 191,
   "id": "fc2a30ab-63fb-4127-a589-d78f39da7c48",
   "metadata": {},
   "outputs": [
    {
     "name": "stdout",
     "output_type": "stream",
     "text": [
      "1\n",
      "3\n",
      "5\n",
      "7\n"
     ]
    }
   ],
   "source": [
    "arr = np.array([[1, 2, 3, 4], [5, 6, 7, 8]])\n",
    "for x in np.nditer(arr[:, ::2]):\n",
    "  print(x)"
   ]
  },
  {
   "cell_type": "code",
   "execution_count": 192,
   "id": "12d49620-b1d3-4d81-9b1d-ea1186bb37a5",
   "metadata": {},
   "outputs": [
    {
     "name": "stdout",
     "output_type": "stream",
     "text": [
      "(0,) 2\n",
      "(1,) 3\n",
      "(2,) 5\n",
      "(3,) 7\n"
     ]
    }
   ],
   "source": [
    "# Enumerated Iteration Using ndenumerate()\n",
    "arr = np.array([2,3,5,7])\n",
    "for index, x in np.ndenumerate(arr):\n",
    "    print(index, x)"
   ]
  },
  {
   "cell_type": "code",
   "execution_count": 193,
   "id": "f6a0098f-2553-4698-9036-86a3e123173a",
   "metadata": {},
   "outputs": [
    {
     "name": "stdout",
     "output_type": "stream",
     "text": [
      "(0, 0) 1\n",
      "(0, 1) 2\n",
      "(0, 2) 3\n",
      "(0, 3) 4\n",
      "(0, 4) 5\n",
      "(1, 0) 6\n",
      "(1, 1) 7\n",
      "(1, 2) 8\n",
      "(1, 3) 9\n",
      "(1, 4) 10\n"
     ]
    }
   ],
   "source": [
    "arr = np.array([[1,2,3,4,5], [6,7,8,9,10]])\n",
    "for index, x in np.ndenumerate(arr):\n",
    "    print(index, x)"
   ]
  },
  {
   "cell_type": "markdown",
   "id": "fd79c56d-63e5-4019-be5f-3dc66ba7b9b8",
   "metadata": {},
   "source": [
    "# NumPy Joining Array"
   ]
  },
  {
   "cell_type": "code",
   "execution_count": 194,
   "id": "ce2d5bf9-4343-4828-a07c-208d3b51aa78",
   "metadata": {},
   "outputs": [
    {
     "name": "stdout",
     "output_type": "stream",
     "text": [
      "[1 2 3 4 5 6]\n"
     ]
    }
   ],
   "source": [
    "arr1 = np.array([1,2,3])\n",
    "arr2 = np.array([4,5,6])\n",
    "arr3 = np.concatenate((arr1, arr2), axis = 0)\n",
    "print(arr3)"
   ]
  },
  {
   "cell_type": "code",
   "execution_count": 195,
   "id": "dd29a878-2e4f-4e6a-ac8d-feef42fa1602",
   "metadata": {},
   "outputs": [
    {
     "name": "stdout",
     "output_type": "stream",
     "text": [
      "[[1 2 5 6]\n",
      " [3 4 7 8]]\n"
     ]
    }
   ],
   "source": [
    "# Join two 2-D arrays along rows (axis=1)\n",
    "arr1 = np.array([[1, 2], [3, 4]])\n",
    "arr2 = np.array([[5, 6], [7, 8]])\n",
    "# arr = np.concatenate((arr1, arr2), axis = 0) # along with columns \n",
    "arr = np.concatenate((arr1, arr2), axis = 1) # along with rows \n",
    "print(arr)"
   ]
  },
  {
   "cell_type": "code",
   "execution_count": 196,
   "id": "c9b26db7-2c74-4e55-9a9d-e3309869a996",
   "metadata": {},
   "outputs": [
    {
     "name": "stdout",
     "output_type": "stream",
     "text": [
      "[[ 0  1  2  6  7  8]\n",
      " [ 3  4  5  9 10 11]]\n"
     ]
    }
   ],
   "source": [
    "arr1 = np.arange(6).reshape(2,3)\n",
    "arr2 = np.arange(6,12).reshape(2,3)\n",
    "# arr = np.concatenate((arr1, arr2), axis = 0)\n",
    "arr = np.concatenate((arr1, arr2), axis = 1)\n",
    "print(arr)"
   ]
  },
  {
   "cell_type": "code",
   "execution_count": 197,
   "id": "6155cdc7-cba0-40d7-a82c-37891c64557b",
   "metadata": {},
   "outputs": [
    {
     "name": "stdout",
     "output_type": "stream",
     "text": [
      "[[[ 0  1  2]\n",
      "  [ 6  7  8]]\n",
      "\n",
      " [[ 3  4  5]\n",
      "  [ 9 10 11]]]\n"
     ]
    }
   ],
   "source": [
    "arr1 =np.arange(6).reshape(2,3)\n",
    "arr2 = np.arange(6,12).reshape(2,3)\n",
    "# arr = np.stack((arr1, arr2), axis = 0)\n",
    "arr = np.stack((arr1, arr2), axis = 1)\n",
    "print(arr)"
   ]
  },
  {
   "cell_type": "code",
   "execution_count": 198,
   "id": "7779fce2-1020-4f84-9b7b-36b279f21e65",
   "metadata": {},
   "outputs": [
    {
     "name": "stdout",
     "output_type": "stream",
     "text": [
      "[[ 0  1  2]\n",
      " [ 3  4  5]\n",
      " [ 6  7  8]\n",
      " [ 9 10 11]]\n"
     ]
    }
   ],
   "source": [
    "arr1 =np.arange(6).reshape(2,3)\n",
    "arr2 = np.arange(6,12).reshape(2,3)\n",
    "arr = np.vstack((arr1, arr2))  # same as concatenate of axis = 0\n",
    "print(arr)"
   ]
  },
  {
   "cell_type": "code",
   "execution_count": 199,
   "id": "0e31dbb4-7730-4b7f-9df7-6c035c8ab85d",
   "metadata": {},
   "outputs": [
    {
     "name": "stdout",
     "output_type": "stream",
     "text": [
      "[[ 0  1  2  6  7  8]\n",
      " [ 3  4  5  9 10 11]]\n"
     ]
    }
   ],
   "source": [
    "arr1 =np.arange(6).reshape(2,3)\n",
    "arr2 = np.arange(6,12).reshape(2,3)\n",
    "arr = np.hstack((arr1, arr2))  # same as concatenate of axis = 1\n",
    "print(arr)"
   ]
  },
  {
   "cell_type": "code",
   "execution_count": 200,
   "id": "1f0871f2-10fe-4564-b9d7-694a2c208373",
   "metadata": {},
   "outputs": [
    {
     "name": "stdout",
     "output_type": "stream",
     "text": [
      "[[[ 0  6]\n",
      "  [ 1  7]\n",
      "  [ 2  8]]\n",
      "\n",
      " [[ 3  9]\n",
      "  [ 4 10]\n",
      "  [ 5 11]]]\n"
     ]
    }
   ],
   "source": [
    "arr1 =np.arange(6).reshape(2,3)\n",
    "arr2 = np.arange(6,12).reshape(2,3)\n",
    "arr = np.dstack((arr1, arr2)) \n",
    "print(arr)"
   ]
  },
  {
   "cell_type": "markdown",
   "id": "2a203f6e-4fa7-4bc5-b4c1-f2d97f7c7d7e",
   "metadata": {},
   "source": [
    "# NumPy Splitting Array"
   ]
  },
  {
   "cell_type": "code",
   "execution_count": 201,
   "id": "766c5b9d-db28-4904-b092-d62f0ed48cc8",
   "metadata": {},
   "outputs": [
    {
     "name": "stdout",
     "output_type": "stream",
     "text": [
      "[array([1, 2, 3]), array([4, 5]), array([6, 7])]\n"
     ]
    }
   ],
   "source": [
    "arr = np.array([1, 2, 3, 4, 5, 6, 7])\n",
    "new_arr = np.array_split(arr, 3)\n",
    "print(new_arr)"
   ]
  },
  {
   "cell_type": "code",
   "execution_count": 202,
   "id": "c3855336-914f-4195-b4c0-9461f1a498bc",
   "metadata": {},
   "outputs": [
    {
     "name": "stdout",
     "output_type": "stream",
     "text": [
      "[array([1, 2, 3]), array([4, 5]), array([6, 7]), array([8, 9])]\n"
     ]
    }
   ],
   "source": [
    "arr = np.array([1, 2, 3, 4, 5, 6, 7, 8, 9])\n",
    "# newarr = np.split(arr, 4)  # not adjust the elements when elements are less in source array\n",
    "newarr = np.array_split(arr,4)\n",
    "print(newarr)"
   ]
  },
  {
   "cell_type": "code",
   "execution_count": 203,
   "id": "cef7fc6c-7272-4908-b103-982f0febf2c9",
   "metadata": {},
   "outputs": [
    {
     "name": "stdout",
     "output_type": "stream",
     "text": [
      "[1 2]\n",
      "[3 4]\n",
      "[5 6]\n"
     ]
    }
   ],
   "source": [
    "arr = np.array([1, 2, 3, 4, 5, 6])\n",
    "newarr = np.array_split(arr, 3)\n",
    "print(newarr[0])\n",
    "print(newarr[1])\n",
    "print(newarr[2])"
   ]
  },
  {
   "cell_type": "code",
   "execution_count": 204,
   "id": "20f8f585-436e-4340-b340-28036b69ade8",
   "metadata": {
    "scrolled": true
   },
   "outputs": [
    {
     "name": "stdout",
     "output_type": "stream",
     "text": [
      "[array([[1, 2],\n",
      "       [3, 4]]), array([[5, 6],\n",
      "       [7, 8]]), array([[ 9, 10],\n",
      "       [11, 12]])]\n"
     ]
    }
   ],
   "source": [
    "arr = np.array([[1, 2], [3, 4], [5, 6], [7, 8], [9, 10], [11, 12]])\n",
    "newarr = np.array_split(arr, 3)\n",
    "print(newarr)"
   ]
  },
  {
   "cell_type": "code",
   "execution_count": 205,
   "id": "9dfacf3b-4b05-42d6-92c3-8224d585d125",
   "metadata": {},
   "outputs": [
    {
     "name": "stdout",
     "output_type": "stream",
     "text": [
      "[array([[1, 2, 3],\n",
      "       [4, 5, 6]]), array([[ 7,  8,  9],\n",
      "       [10, 11, 12]]), array([[13, 14, 15],\n",
      "       [16, 17, 18]])]\n"
     ]
    }
   ],
   "source": [
    "arr = np.array([[1, 2, 3], [4, 5, 6], [7, 8, 9], [10, 11, 12], [13, 14, 15], [16, 17, 18]])\n",
    "newarr = np.array_split(arr, 3)\n",
    "print(newarr)"
   ]
  },
  {
   "cell_type": "code",
   "execution_count": 206,
   "id": "46e7c702-80bc-48f0-a90e-e2d4df87fcf5",
   "metadata": {},
   "outputs": [
    {
     "name": "stdout",
     "output_type": "stream",
     "text": [
      "[array([[ 1],\n",
      "       [ 4],\n",
      "       [ 7],\n",
      "       [10],\n",
      "       [13],\n",
      "       [16]]), array([[ 2],\n",
      "       [ 5],\n",
      "       [ 8],\n",
      "       [11],\n",
      "       [14],\n",
      "       [17]]), array([[ 3],\n",
      "       [ 6],\n",
      "       [ 9],\n",
      "       [12],\n",
      "       [15],\n",
      "       [18]])]\n"
     ]
    }
   ],
   "source": [
    "arr = np.array([[1, 2, 3], [4, 5, 6], [7, 8, 9], [10, 11, 12], [13, 14, 15], [16, 17, 18]])\n",
    "newarr = np.array_split(arr, 3, axis=1)\n",
    "print(newarr)"
   ]
  },
  {
   "cell_type": "code",
   "execution_count": 207,
   "id": "b60d3423-f923-40ef-9285-2146725d4f06",
   "metadata": {},
   "outputs": [
    {
     "name": "stdout",
     "output_type": "stream",
     "text": [
      "[array([[ 1],\n",
      "       [ 4],\n",
      "       [ 7],\n",
      "       [10],\n",
      "       [13],\n",
      "       [16]]), array([[ 2],\n",
      "       [ 5],\n",
      "       [ 8],\n",
      "       [11],\n",
      "       [14],\n",
      "       [17]]), array([[ 3],\n",
      "       [ 6],\n",
      "       [ 9],\n",
      "       [12],\n",
      "       [15],\n",
      "       [18]])]\n"
     ]
    }
   ],
   "source": [
    "arr = np.array([[1, 2, 3], [4, 5, 6], [7, 8, 9], [10, 11, 12], [13, 14, 15], [16, 17, 18]])\n",
    "newarr = np.hsplit(arr, 3)\n",
    "print(newarr)"
   ]
  },
  {
   "cell_type": "code",
   "execution_count": 208,
   "id": "fd249e16-31fc-4f19-a7bc-6a28996b702c",
   "metadata": {},
   "outputs": [
    {
     "name": "stdout",
     "output_type": "stream",
     "text": [
      "[array([[1, 2, 3],\n",
      "       [4, 5, 6]]), array([[ 7,  8,  9],\n",
      "       [10, 11, 12]]), array([[13, 14, 15],\n",
      "       [16, 17, 18]])]\n"
     ]
    }
   ],
   "source": [
    "arr = np.array([[1, 2, 3], [4, 5, 6], [7, 8, 9], [10, 11, 12], [13, 14, 15], [16, 17, 18]])\n",
    "newarr = np.vsplit(arr, 3)\n",
    "print(newarr)"
   ]
  },
  {
   "cell_type": "markdown",
   "id": "71e5f977-c78a-4865-8134-db49cd83ba0d",
   "metadata": {},
   "source": [
    "# NumPy Searching Arrays\n"
   ]
  },
  {
   "cell_type": "code",
   "execution_count": 209,
   "id": "76019609-59d8-4489-b431-33f83db469da",
   "metadata": {},
   "outputs": [
    {
     "name": "stdout",
     "output_type": "stream",
     "text": [
      "(array([3, 5, 6], dtype=int64),)\n"
     ]
    }
   ],
   "source": [
    "arr = np.array([1, 2, 3, 4, 5, 4, 4])\n",
    "x = np.where(arr == 4)  # Find the indexes where the value is 4:\n",
    "print(x)"
   ]
  },
  {
   "cell_type": "code",
   "execution_count": 211,
   "id": "537211f2-1b15-41d3-9e0a-7a6a3092a359",
   "metadata": {},
   "outputs": [
    {
     "name": "stdout",
     "output_type": "stream",
     "text": [
      "(array([1, 3, 5, 7], dtype=int64),)\n"
     ]
    }
   ],
   "source": [
    "arr = np.array([1, 2, 3, 4, 5, 6, 7, 8])\n",
    "x = np.where(arr % 2 == 0)  # Find the indexes where the values are even\n",
    "print(x)"
   ]
  },
  {
   "cell_type": "code",
   "execution_count": 212,
   "id": "3445d317-5e7a-4a7f-a4d9-0a7cb04c4cb9",
   "metadata": {},
   "outputs": [
    {
     "name": "stdout",
     "output_type": "stream",
     "text": [
      "(array([0, 2, 4, 6], dtype=int64),)\n"
     ]
    }
   ],
   "source": [
    "arr = np.array([1, 2, 3, 4, 5, 6, 7, 8])\n",
    "x = np.where(arr % 2 != 0) #Find the indexes where the values are odd\n",
    "print(x)"
   ]
  },
  {
   "cell_type": "code",
   "execution_count": 219,
   "id": "e3c9162f-35a6-41b6-b438-8f89c4f50ba0",
   "metadata": {},
   "outputs": [
    {
     "name": "stdout",
     "output_type": "stream",
     "text": [
      "2\n"
     ]
    }
   ],
   "source": [
    "# searchsorted() which performs a binary search in the sorted array,\n",
    "# and returns the index where the specified value would be inserted to maintain the search order\n",
    "arr = np.array([6, 7, 8, 9])  # indexes where the value 8 should be inserted\n",
    "x = np.searchsorted(arr, 8)\n",
    "print(x)"
   ]
  },
  {
   "cell_type": "code",
   "execution_count": 223,
   "id": "162f4519-7172-4b66-9931-e06367311674",
   "metadata": {},
   "outputs": [
    {
     "name": "stdout",
     "output_type": "stream",
     "text": [
      "4\n"
     ]
    }
   ],
   "source": [
    "arr = np.array([6, 7, 8, 9])\n",
    "x = np.searchsorted(arr, 9, side = 'right') # indexes where the value 9 should be inserted, starting from the right\n",
    "print(x)"
   ]
  },
  {
   "cell_type": "code",
   "execution_count": 229,
   "id": "93af00cb-1ed7-4387-ba8b-37a7da1ff425",
   "metadata": {},
   "outputs": [
    {
     "name": "stdout",
     "output_type": "stream",
     "text": [
      "[2 3 3 6]\n"
     ]
    }
   ],
   "source": [
    "arr = np.array([12,24,56,88, 112,135,244])\n",
    "x = np.searchsorted(arr, [32,67,84,221])\n",
    "print(x)"
   ]
  },
  {
   "cell_type": "markdown",
   "id": "c49c2e4c-27c3-4594-bddf-8590f0588f40",
   "metadata": {},
   "source": [
    "# NumPy Sorting Arrays\r\n"
   ]
  },
  {
   "cell_type": "code",
   "execution_count": 234,
   "id": "9e70cfb3-f91c-4bb4-8faf-c824cb019e2e",
   "metadata": {},
   "outputs": [
    {
     "name": "stdout",
     "output_type": "stream",
     "text": [
      "[ 21  23  36 166]\n",
      "[ 23  36  21 166]\n"
     ]
    }
   ],
   "source": [
    "arr = np.array([23,36,21,166])\n",
    "print(np.sort(arr))  #This method returns a copy of the array, leaving the original array unchanged\n",
    "print(arr)"
   ]
  },
  {
   "cell_type": "code",
   "execution_count": 236,
   "id": "9ff9a207-f9c8-4e09-88f2-ba90df1a2abf",
   "metadata": {},
   "outputs": [
    {
     "name": "stdout",
     "output_type": "stream",
     "text": [
      "['apple' 'banana' 'cherry']\n"
     ]
    }
   ],
   "source": [
    "arr = np.array(['banana', 'cherry', 'apple'])\n",
    "print(np.sort(arr)) # Sort the array alphabetically"
   ]
  },
  {
   "cell_type": "code",
   "execution_count": 239,
   "id": "14361898-c5d6-4f41-92e0-8d461a26fb15",
   "metadata": {},
   "outputs": [
    {
     "name": "stdout",
     "output_type": "stream",
     "text": [
      "[False False False  True  True  True  True]\n"
     ]
    }
   ],
   "source": [
    "arr = np.array([True, False, True , False, True, True, False])\n",
    "print(np.sort(arr)) # Sort a boolean array"
   ]
  },
  {
   "cell_type": "code",
   "execution_count": 241,
   "id": "384682b5-e40c-4410-a0e8-fe55d1dd3c37",
   "metadata": {},
   "outputs": [
    {
     "name": "stdout",
     "output_type": "stream",
     "text": [
      "[[2 3 4]\n",
      " [0 1 5]]\n"
     ]
    }
   ],
   "source": [
    "arr = np.array([[3, 2, 4], [5, 0, 1]])\n",
    "print(np.sort(arr)) # sort the 2-D array"
   ]
  },
  {
   "cell_type": "markdown",
   "id": "5d964aa7-daa1-40ad-9807-acc50374737d",
   "metadata": {},
   "source": [
    "# NumPy Filter Array\r\n"
   ]
  },
  {
   "cell_type": "code",
   "execution_count": null,
   "id": "f0995c4f-6513-43be-a2b3-4de5e58f8908",
   "metadata": {},
   "outputs": [],
   "source": []
  },
  {
   "cell_type": "code",
   "execution_count": null,
   "id": "3731220c-abd2-4d73-ad25-b088d5f130a6",
   "metadata": {},
   "outputs": [],
   "source": []
  },
  {
   "cell_type": "code",
   "execution_count": null,
   "id": "a82e58a1-c1fd-4511-a627-cd0c30350a65",
   "metadata": {},
   "outputs": [],
   "source": []
  }
 ],
 "metadata": {
  "kernelspec": {
   "display_name": "Python 3 (ipykernel)",
   "language": "python",
   "name": "python3"
  },
  "language_info": {
   "codemirror_mode": {
    "name": "ipython",
    "version": 3
   },
   "file_extension": ".py",
   "mimetype": "text/x-python",
   "name": "python",
   "nbconvert_exporter": "python",
   "pygments_lexer": "ipython3",
   "version": "3.11.3"
  }
 },
 "nbformat": 4,
 "nbformat_minor": 5
}
